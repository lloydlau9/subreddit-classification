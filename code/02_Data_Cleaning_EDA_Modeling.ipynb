{
 "cells": [
  {
   "cell_type": "markdown",
   "metadata": {
    "focus": false,
    "id": "69b9a648-bcc7-490d-9f9b-ea244d156bd6"
   },
   "source": [
    "# Project 3: Web APIs & NLP (02_Data_Cleaning_EDA_Modeling)"
   ]
  },
  {
   "cell_type": "markdown",
   "metadata": {},
   "source": [
    "##### To install Microsoft Visual C++ 14.0 or greater which is required for use of contractions library function\n",
    "\n",
    "https://visualstudio.microsoft.com/thank-you-downloading-visual-studio/?sku=BuildTools&rel=16"
   ]
  },
  {
   "cell_type": "markdown",
   "metadata": {},
   "source": [
    "##### Installation for contractions library"
   ]
  },
  {
   "cell_type": "code",
   "execution_count": 1,
   "metadata": {
    "scrolled": false
   },
   "outputs": [
    {
     "name": "stdout",
     "output_type": "stream",
     "text": [
      "Requirement already satisfied: contractions in c:\\users\\user\\anaconda3\\anaconda3\\lib\\site-packages (0.0.48)\n",
      "Requirement already satisfied: textsearch>=0.0.21 in c:\\users\\user\\anaconda3\\anaconda3\\lib\\site-packages (from contractions) (0.0.21)\n",
      "Requirement already satisfied: anyascii in c:\\users\\user\\anaconda3\\anaconda3\\lib\\site-packages (from textsearch>=0.0.21->contractions) (0.2.0)\n",
      "Requirement already satisfied: pyahocorasick in c:\\users\\user\\anaconda3\\anaconda3\\lib\\site-packages (from textsearch>=0.0.21->contractions) (1.4.2)\n",
      "Note: you may need to restart the kernel to use updated packages.\n"
     ]
    }
   ],
   "source": [
    "pip install contractions"
   ]
  },
  {
   "cell_type": "code",
   "execution_count": 2,
   "metadata": {},
   "outputs": [],
   "source": [
    "# Imports\n",
    "\n",
    "import pandas as pd\n",
    "import numpy as np\n",
    "import matplotlib.pyplot as plt\n",
    "import matplotlib.dates as mdate\n",
    "import seaborn as sns\n",
    "import datetime\n",
    "import contractions\n",
    "from datetime import datetime\n",
    "from bs4 import BeautifulSoup\n",
    "from nltk.tokenize import RegexpTokenizer\n",
    "import re\n",
    "from nltk.corpus import stopwords\n",
    "from nltk.stem.porter import PorterStemmer\n",
    "\n",
    "from PIL import Image\n",
    "\n",
    "from sklearn.utils import shuffle\n",
    "from sklearn.model_selection import train_test_split, cross_val_score, GridSearchCV\n",
    "from sklearn.pipeline import Pipeline\n",
    "from sklearn.feature_extraction.text import CountVectorizer, TfidfVectorizer\n",
    "from sklearn.linear_model import LogisticRegression\n",
    "from sklearn.naive_bayes import MultinomialNB\n",
    "from sklearn.metrics import confusion_matrix, roc_auc_score, plot_confusion_matrix\n",
    "\n",
    "pd.set_option('display.max_colwidth', None)"
   ]
  },
  {
   "cell_type": "markdown",
   "metadata": {},
   "source": [
    "## Data Cleaning and Pre-processing\n"
   ]
  },
  {
   "cell_type": "markdown",
   "metadata": {},
   "source": [
    "### Data Cleaning"
   ]
  },
  {
   "cell_type": "code",
   "execution_count": 3,
   "metadata": {},
   "outputs": [],
   "source": [
    "# Reading the CSV vegan_scraped.csv.\n",
    "vegan_scraped = pd.read_csv(\"../data/vegan_scraped.csv\")\n",
    "# Reading the CSV keto_scraped.csv.\n",
    "keto_scraped = pd.read_csv(\"../data/keto_scraped.csv\")"
   ]
  },
  {
   "cell_type": "code",
   "execution_count": 4,
   "metadata": {
    "scrolled": true
   },
   "outputs": [
    {
     "data": {
      "text/plain": [
       "(1000, 11)"
      ]
     },
     "execution_count": 4,
     "metadata": {},
     "output_type": "execute_result"
    }
   ],
   "source": [
    "#Return a tuple representing the dimensionality of the vegan_scraped.\n",
    "vegan_scraped.shape"
   ]
  },
  {
   "cell_type": "code",
   "execution_count": 5,
   "metadata": {},
   "outputs": [
    {
     "data": {
      "text/plain": [
       "(1000, 11)"
      ]
     },
     "execution_count": 5,
     "metadata": {},
     "output_type": "execute_result"
    }
   ],
   "source": [
    "#Return a tuple representing the dimensionality of the keto_scraped.\n",
    "keto_scraped.shape"
   ]
  },
  {
   "cell_type": "code",
   "execution_count": 6,
   "metadata": {
    "scrolled": true
   },
   "outputs": [
    {
     "name": "stdout",
     "output_type": "stream",
     "text": [
      "<class 'pandas.core.frame.DataFrame'>\n",
      "RangeIndex: 1000 entries, 0 to 999\n",
      "Data columns (total 11 columns):\n",
      " #   Column                 Non-Null Count  Dtype \n",
      "---  ------                 --------------  ----- \n",
      " 0   subreddit              1000 non-null   object\n",
      " 1   id                     1000 non-null   object\n",
      " 2   author                 1000 non-null   object\n",
      " 3   title                  1000 non-null   object\n",
      " 4   selftext               1000 non-null   object\n",
      " 5   subreddit_subscribers  1000 non-null   int64 \n",
      " 6   created_utc            1000 non-null   int64 \n",
      " 7   created_time           1000 non-null   object\n",
      " 8   length_of_time(sec)    1000 non-null   int64 \n",
      " 9   num_of_comments        1000 non-null   int64 \n",
      " 10  score                  1000 non-null   int64 \n",
      "dtypes: int64(5), object(6)\n",
      "memory usage: 86.1+ KB\n"
     ]
    }
   ],
   "source": [
    "#show vegan_scraped's information.\n",
    "vegan_scraped.info()"
   ]
  },
  {
   "cell_type": "code",
   "execution_count": 7,
   "metadata": {
    "scrolled": false
   },
   "outputs": [
    {
     "name": "stdout",
     "output_type": "stream",
     "text": [
      "<class 'pandas.core.frame.DataFrame'>\n",
      "RangeIndex: 1000 entries, 0 to 999\n",
      "Data columns (total 11 columns):\n",
      " #   Column                 Non-Null Count  Dtype \n",
      "---  ------                 --------------  ----- \n",
      " 0   subreddit              1000 non-null   object\n",
      " 1   id                     1000 non-null   object\n",
      " 2   author                 1000 non-null   object\n",
      " 3   title                  1000 non-null   object\n",
      " 4   selftext               1000 non-null   object\n",
      " 5   subreddit_subscribers  1000 non-null   int64 \n",
      " 6   created_utc            1000 non-null   int64 \n",
      " 7   created_time           1000 non-null   object\n",
      " 8   length_of_time(sec)    1000 non-null   int64 \n",
      " 9   num_of_comments        1000 non-null   int64 \n",
      " 10  score                  1000 non-null   int64 \n",
      "dtypes: int64(5), object(6)\n",
      "memory usage: 86.1+ KB\n"
     ]
    }
   ],
   "source": [
    "#show keto_scraped's information.\n",
    "keto_scraped.info()"
   ]
  },
  {
   "cell_type": "code",
   "execution_count": 8,
   "metadata": {},
   "outputs": [
    {
     "data": {
      "text/plain": [
       "592659"
      ]
     },
     "execution_count": 8,
     "metadata": {},
     "output_type": "execute_result"
    }
   ],
   "source": [
    "# The \"subreddit_subscribers\" field shows how many subscribers are  subscribed to \"vegan\" subreddit based on scraped time.\n",
    "vegan_subscribers = vegan_scraped['subreddit_subscribers'].max()\n",
    "vegan_subscribers"
   ]
  },
  {
   "cell_type": "code",
   "execution_count": 9,
   "metadata": {},
   "outputs": [
    {
     "data": {
      "text/plain": [
       "2372343"
      ]
     },
     "execution_count": 9,
     "metadata": {},
     "output_type": "execute_result"
    }
   ],
   "source": [
    "# The \"subreddit_subscribers\" field shows how many subscribers are  subscribed to \"keto\" subreddit based on scraped time.\n",
    "keto_subscribers = keto_scraped['subreddit_subscribers'].max()\n",
    "keto_subscribers"
   ]
  },
  {
   "cell_type": "code",
   "execution_count": 10,
   "metadata": {
    "scrolled": true
   },
   "outputs": [
    {
     "data": {
      "text/html": [
       "<div>\n",
       "<style scoped>\n",
       "    .dataframe tbody tr th:only-of-type {\n",
       "        vertical-align: middle;\n",
       "    }\n",
       "\n",
       "    .dataframe tbody tr th {\n",
       "        vertical-align: top;\n",
       "    }\n",
       "\n",
       "    .dataframe thead th {\n",
       "        text-align: right;\n",
       "    }\n",
       "</style>\n",
       "<table border=\"1\" class=\"dataframe\">\n",
       "  <thead>\n",
       "    <tr style=\"text-align: right;\">\n",
       "      <th></th>\n",
       "      <th>subreddit</th>\n",
       "      <th>id</th>\n",
       "      <th>author</th>\n",
       "      <th>title</th>\n",
       "      <th>selftext</th>\n",
       "      <th>subreddit_subscribers</th>\n",
       "      <th>created_utc</th>\n",
       "      <th>created_time</th>\n",
       "      <th>length_of_time(sec)</th>\n",
       "      <th>num_of_comments</th>\n",
       "      <th>score</th>\n",
       "    </tr>\n",
       "  </thead>\n",
       "  <tbody>\n",
       "    <tr>\n",
       "      <th>0</th>\n",
       "      <td>vegan</td>\n",
       "      <td>mvvguj</td>\n",
       "      <td>Tytheboss16</td>\n",
       "      <td>“If people still eat meat, they might as well get it from the right place” argument?</td>\n",
       "      <td>So I’ve got a friend who runs a small-scale (about 30 head), local, organic cattle operation.  While the cows are still being raised for beef, they’re kept on grass their whole lives, never eat grain, calves are with mothers until going to butcher, and the animals are treated with (IMO) as much respect as possible, given the circumstances.  My friend also uses a FDA/Organic (idk all the govt. terminology) approved butcher.  Apparently, the butcher uses reduced-stress means of killing.  My friend’s view on his role in society is this: if people still consume meat (and will do so for the foreseeable future), then they might as well get it from a good source (whatever the definition of “good” is).  What are y’all’s opinions/thoughts on this ideology?  \\n\\nNote: I’m not trying to force an argument/opinions on anyone, just thing to start a conversation.  Also, if this question has already been posed, I apologize.</td>\n",
       "      <td>592659</td>\n",
       "      <td>1619058909</td>\n",
       "      <td>2021-04-22 10:35:09</td>\n",
       "      <td>4217</td>\n",
       "      <td>0</td>\n",
       "      <td>1</td>\n",
       "    </tr>\n",
       "    <tr>\n",
       "      <th>1</th>\n",
       "      <td>vegan</td>\n",
       "      <td>mvv6tv</td>\n",
       "      <td>Robert1_</td>\n",
       "      <td>Hey, I'm a vegetarian that wants to take the next step. Any advice?</td>\n",
       "      <td>I've been mostly vegetarian since August last year I honestly never thought I would manage it I have been a major carnivore my entire life. Since trying to eat vegetarian I have realised how much dairy is in my diet, I'm basically substituting meat for it in most cases. Anyway, the shops that are within any reasonable distance to me have milk substitutes which I enjoy but little else. I'm thinking of shopping online are there any recommendations for cheese/butter replacements I should look at? Any general advice would be great too!</td>\n",
       "      <td>592650</td>\n",
       "      <td>1619057891</td>\n",
       "      <td>2021-04-22 10:18:11</td>\n",
       "      <td>5235</td>\n",
       "      <td>0</td>\n",
       "      <td>1</td>\n",
       "    </tr>\n",
       "    <tr>\n",
       "      <th>2</th>\n",
       "      <td>vegan</td>\n",
       "      <td>mvudcx</td>\n",
       "      <td>vanillust</td>\n",
       "      <td>WHY ARE THERE NON VEGAN ITEMS IN THE VEGAN SECTION!!!</td>\n",
       "      <td>Basically I picked some vegan kimchi out of the vegan section from a brand that generally advertises itself as vegan. I then went back to the same section and brand and swapped flavors because i changed my mind and wanted a spicier flavor. I didnt check the new flavors label. (Big mistake on my end apparently) I went home and made some ramen and added the kimchi, ate it, and then checked the label to see how much alcohol from fermentation there was in the product. (im on a strict no alcohol medication) Anyway I see shrimp and anchovy sauce listed as ingredients!!!! What the F***!!!!! Ive been throwing up my dinner for over 30 minutes now because I cant get the thought of dead baby shrimp and anchovy’s in my body out of my head. How is this even allowed!!!!!! Never again will i not check a label. :( (Sorry if this is semi incoherent Im typing this in a sick fit of rage)</td>\n",
       "      <td>592642</td>\n",
       "      <td>1619054980</td>\n",
       "      <td>2021-04-22 09:29:40</td>\n",
       "      <td>8146</td>\n",
       "      <td>0</td>\n",
       "      <td>1</td>\n",
       "    </tr>\n",
       "    <tr>\n",
       "      <th>3</th>\n",
       "      <td>vegan</td>\n",
       "      <td>mvu5a1</td>\n",
       "      <td>GlassRockets</td>\n",
       "      <td>Best tasting vegan protein powder?</td>\n",
       "      <td>I'm actually a vegetarian and my all time favorite protein powder is gold standard casein in the flavor chocolate supreme (I blend it with water and add salt) because it literally tastes like hot chocolate and I genuinely look forward to having my daily shakes, however I'm trying to cut back on dairy and so far have tried around 8 different protein powders, it seems like delicious vegan protein powders are few and far between. What are the best tasting ones?</td>\n",
       "      <td>592637</td>\n",
       "      <td>1619054160</td>\n",
       "      <td>2021-04-22 09:16:00</td>\n",
       "      <td>8966</td>\n",
       "      <td>0</td>\n",
       "      <td>1</td>\n",
       "    </tr>\n",
       "    <tr>\n",
       "      <th>4</th>\n",
       "      <td>vegan</td>\n",
       "      <td>mvtesg</td>\n",
       "      <td>fixFriendship</td>\n",
       "      <td>Where do I get my proteins if I workout?</td>\n",
       "      <td>I want to transition from lacto-ovo vegetarian into vegan, but I am worried about where I will get my proteins without using complements.\\n\\nAs I workout quite often, my diet requires a strong presence of rich-in-protein (dairy) products -these are especial products with a few more proteins than normal-, and I would like to stop consuming those, but I do not wish to substitute them at the cost of having to buy expensive, often unhealthy, protein powders. \\n\\nI already consume a bit of those powders, but an excess may cause a huge deficit of multiple nutrients and, ofc, I wanna avoid that. I wanna go vegan without dying in the process.\\n\\nPS I haven't done as much research on vegan as I should like, what other nutrients should I be looking out for that I will be lacking when I  remove eggs and dairy from my diet.and where can I find said nutrients.\\n\\nThank you :D</td>\n",
       "      <td>592623</td>\n",
       "      <td>1619051556</td>\n",
       "      <td>2021-04-22 08:32:36</td>\n",
       "      <td>11570</td>\n",
       "      <td>0</td>\n",
       "      <td>1</td>\n",
       "    </tr>\n",
       "  </tbody>\n",
       "</table>\n",
       "</div>"
      ],
      "text/plain": [
       "  subreddit      id         author  \\\n",
       "0     vegan  mvvguj    Tytheboss16   \n",
       "1     vegan  mvv6tv       Robert1_   \n",
       "2     vegan  mvudcx      vanillust   \n",
       "3     vegan  mvu5a1   GlassRockets   \n",
       "4     vegan  mvtesg  fixFriendship   \n",
       "\n",
       "                                                                                  title  \\\n",
       "0  “If people still eat meat, they might as well get it from the right place” argument?   \n",
       "1                   Hey, I'm a vegetarian that wants to take the next step. Any advice?   \n",
       "2                                 WHY ARE THERE NON VEGAN ITEMS IN THE VEGAN SECTION!!!   \n",
       "3                                                    Best tasting vegan protein powder?   \n",
       "4                                              Where do I get my proteins if I workout?   \n",
       "\n",
       "                                                                                                                                                                                                                                                                                                                                                                                                                                                                                                                                                                                                                                                                                                                                                                                                                                                                                                                                                    selftext  \\\n",
       "0  So I’ve got a friend who runs a small-scale (about 30 head), local, organic cattle operation.  While the cows are still being raised for beef, they’re kept on grass their whole lives, never eat grain, calves are with mothers until going to butcher, and the animals are treated with (IMO) as much respect as possible, given the circumstances.  My friend also uses a FDA/Organic (idk all the govt. terminology) approved butcher.  Apparently, the butcher uses reduced-stress means of killing.  My friend’s view on his role in society is this: if people still consume meat (and will do so for the foreseeable future), then they might as well get it from a good source (whatever the definition of “good” is).  What are y’all’s opinions/thoughts on this ideology?  \\n\\nNote: I’m not trying to force an argument/opinions on anyone, just thing to start a conversation.  Also, if this question has already been posed, I apologize.   \n",
       "1                                                                                                                                                                                                                                                                                                                                                                                                  I've been mostly vegetarian since August last year I honestly never thought I would manage it I have been a major carnivore my entire life. Since trying to eat vegetarian I have realised how much dairy is in my diet, I'm basically substituting meat for it in most cases. Anyway, the shops that are within any reasonable distance to me have milk substitutes which I enjoy but little else. I'm thinking of shopping online are there any recommendations for cheese/butter replacements I should look at? Any general advice would be great too!   \n",
       "2                                          Basically I picked some vegan kimchi out of the vegan section from a brand that generally advertises itself as vegan. I then went back to the same section and brand and swapped flavors because i changed my mind and wanted a spicier flavor. I didnt check the new flavors label. (Big mistake on my end apparently) I went home and made some ramen and added the kimchi, ate it, and then checked the label to see how much alcohol from fermentation there was in the product. (im on a strict no alcohol medication) Anyway I see shrimp and anchovy sauce listed as ingredients!!!! What the F***!!!!! Ive been throwing up my dinner for over 30 minutes now because I cant get the thought of dead baby shrimp and anchovy’s in my body out of my head. How is this even allowed!!!!!! Never again will i not check a label. :( (Sorry if this is semi incoherent Im typing this in a sick fit of rage)   \n",
       "3                                                                                                                                                                                                                                                                                                                                                                                                                                                                             I'm actually a vegetarian and my all time favorite protein powder is gold standard casein in the flavor chocolate supreme (I blend it with water and add salt) because it literally tastes like hot chocolate and I genuinely look forward to having my daily shakes, however I'm trying to cut back on dairy and so far have tried around 8 different protein powders, it seems like delicious vegan protein powders are few and far between. What are the best tasting ones?   \n",
       "4                                                I want to transition from lacto-ovo vegetarian into vegan, but I am worried about where I will get my proteins without using complements.\\n\\nAs I workout quite often, my diet requires a strong presence of rich-in-protein (dairy) products -these are especial products with a few more proteins than normal-, and I would like to stop consuming those, but I do not wish to substitute them at the cost of having to buy expensive, often unhealthy, protein powders. \\n\\nI already consume a bit of those powders, but an excess may cause a huge deficit of multiple nutrients and, ofc, I wanna avoid that. I wanna go vegan without dying in the process.\\n\\nPS I haven't done as much research on vegan as I should like, what other nutrients should I be looking out for that I will be lacking when I  remove eggs and dairy from my diet.and where can I find said nutrients.\\n\\nThank you :D   \n",
       "\n",
       "   subreddit_subscribers  created_utc         created_time  \\\n",
       "0                 592659   1619058909  2021-04-22 10:35:09   \n",
       "1                 592650   1619057891  2021-04-22 10:18:11   \n",
       "2                 592642   1619054980  2021-04-22 09:29:40   \n",
       "3                 592637   1619054160  2021-04-22 09:16:00   \n",
       "4                 592623   1619051556  2021-04-22 08:32:36   \n",
       "\n",
       "   length_of_time(sec)  num_of_comments  score  \n",
       "0                 4217                0      1  \n",
       "1                 5235                0      1  \n",
       "2                 8146                0      1  \n",
       "3                 8966                0      1  \n",
       "4                11570                0      1  "
      ]
     },
     "execution_count": 10,
     "metadata": {},
     "output_type": "execute_result"
    }
   ],
   "source": [
    "#Return the first number of rows.\n",
    "vegan_scraped.head()"
   ]
  },
  {
   "cell_type": "code",
   "execution_count": 11,
   "metadata": {
    "scrolled": true
   },
   "outputs": [
    {
     "data": {
      "text/html": [
       "<div>\n",
       "<style scoped>\n",
       "    .dataframe tbody tr th:only-of-type {\n",
       "        vertical-align: middle;\n",
       "    }\n",
       "\n",
       "    .dataframe tbody tr th {\n",
       "        vertical-align: top;\n",
       "    }\n",
       "\n",
       "    .dataframe thead th {\n",
       "        text-align: right;\n",
       "    }\n",
       "</style>\n",
       "<table border=\"1\" class=\"dataframe\">\n",
       "  <thead>\n",
       "    <tr style=\"text-align: right;\">\n",
       "      <th></th>\n",
       "      <th>subreddit</th>\n",
       "      <th>id</th>\n",
       "      <th>author</th>\n",
       "      <th>title</th>\n",
       "      <th>selftext</th>\n",
       "      <th>subreddit_subscribers</th>\n",
       "      <th>created_utc</th>\n",
       "      <th>created_time</th>\n",
       "      <th>length_of_time(sec)</th>\n",
       "      <th>num_of_comments</th>\n",
       "      <th>score</th>\n",
       "    </tr>\n",
       "  </thead>\n",
       "  <tbody>\n",
       "    <tr>\n",
       "      <th>0</th>\n",
       "      <td>keto</td>\n",
       "      <td>mvvh65</td>\n",
       "      <td>freddyt55555</td>\n",
       "      <td>Allulose is amazing!</td>\n",
       "      <td>Guys, I'm not kidding. It's like a fucking natural miracle drug.\\n\\nAbout a month ago, I posted about how allulose is like [Ex-Lax](https://www.reddit.com/r/keto/comments/mbiksm/allulose_better_than_exlax/?utm_source=share&amp;amp;utm_medium=web2x&amp;amp;context=3). I stopped using it for a while, but I recently found out that not only does it not spike your blood glucose, it can actually make your blood glucose [go down](https://www.reddit.com/r/diabetes_t2/comments/mtic7m/eating_fruits_with_allulose/?utm_source=share&amp;amp;utm_medium=web2x&amp;amp;context=3). I'm not the only one who's experienced [this](https://www.reddit.com/r/diabetes_t2/comments/mv9djm/allulose_what_the_heck_is_going_on/?utm_source=share&amp;amp;utm_medium=web2x&amp;amp;context=3).\\n\\nI found out that the Ex-Lax effect is basically the allulose blocking the metabolism of certain carbohydrates. Here's an excerpt from the Wikipedia [article](https://en.wikipedia.org/wiki/Psicose):\\n\\n&amp;gt;Allulose is a weak inhibitor of the enzymes α-glucosidase, α-amylase, maltase, and sucrase.\\[2\\] Because of this, it can inhibit the metabolism of starch and disaccharides into monosaccharides in the gastrointestinal tract.\\[2\\] Additionally, allulose inhibits the absorption of glucose via transporters in the intestines.\\[2\\] For these reasons, allulose has potential antihyperglycemic effects, and has been found to reduce postprandial hyperglycemia in humans.\\[2\\]\\[9\\]\\n\\nNo only does it block metabolism of carbs, it can lower cholesterol (if you care about such trivialities, that is):\\n\\n&amp;gt;Through modulation of lipogenic enzymes in the liver, allulose may also have antihyperlipidemic effects.\\[2\\]\\[9\\]\\n\\nThe 2nd link above cites a bunch of studies of the antihyperglycemic effects of allulose, but there's another study that shows that it can protect the [beta cells](https://www.researchgate.net/publication/230644405_Rare_sugar_D-psicose_protects_pancreas_b-islets_and_thus_improves_insulin_resistance_in_OLETF_rats) in the pancreas as well.</td>\n",
       "      <td>2372343</td>\n",
       "      <td>1619058942</td>\n",
       "      <td>2021-04-22 10:35:42</td>\n",
       "      <td>4702</td>\n",
       "      <td>0</td>\n",
       "      <td>1</td>\n",
       "    </tr>\n",
       "    <tr>\n",
       "      <th>1</th>\n",
       "      <td>keto</td>\n",
       "      <td>mvuulx</td>\n",
       "      <td>beenroasted</td>\n",
       "      <td>Here we go again.</td>\n",
       "      <td>I formerly weighed 435 lbs and I lost 125 eating ketogenically for two years. I felt great, I was motivated in all aspects of life, but I did it for the wrong reasons. I did it because I hated myself. The day I started keto I remember the conversation I had with myself. I was severely depressed, I was ready to take drastic action in the worst way. I decided to try one last thing I would cut out everything I thought I loved - friends, Taco Bell, video games. I thought the only way to get myself to move forward was to torture myself. And I did it for two years. The results were amazing and I felt the best I ever felt but I also had the lingering sense of despair and self loathing. I gained all the weight back over the next two years and then some. I gave up on myself, I didn’t see the value of me being around. I was living in filth, I smelt bad, my hair was stupid long. I was a total embarrassment only bringing myself together to go work and even then minimal effort. \\n\\nI’m back. Two weeks ago I decided to go back to keto for me. Because I want better, because I want to be around. I want to not be embarrassed of myself when I walk into a room, or down a street or looking in the mirror. I want to not worry about having a heart attack and dying leaving behind loved ones. Some of the people I hold dearest to my heart try to convince me to get the surgery. But I already learned the hard way that it isn’t just the weight and that it was the mentality I’ve lived with for the last 15 years. I need to break that mentality and the only way for me to do it is to work through it with the right mindset. \\n\\nI’m starting at what I would guess is 475 lbs. I know I already lost weight but I don’t have a scale that can weigh me. I don’t know if anyone cares or if anyone can relate to this but I needed to get this off of my chest. Thanks everyone. Good luck out there.</td>\n",
       "      <td>2372316</td>\n",
       "      <td>1619056688</td>\n",
       "      <td>2021-04-22 09:58:08</td>\n",
       "      <td>6956</td>\n",
       "      <td>0</td>\n",
       "      <td>1</td>\n",
       "    </tr>\n",
       "    <tr>\n",
       "      <th>2</th>\n",
       "      <td>keto</td>\n",
       "      <td>mvukgc</td>\n",
       "      <td>acotwo</td>\n",
       "      <td>What foods would you guys recommend on keto?</td>\n",
       "      <td>Title. I’m starting the keto diet so what would you guys recommend. To go more in depth, what type of meats and food variants. All I can come up with are eggs, steak and bacon because that’s pretty much what I eat right now that’s keto related. Can you guys expand my food list so I have more to eat and more nutritional foods. Thanks guys.</td>\n",
       "      <td>2372310</td>\n",
       "      <td>1619055661</td>\n",
       "      <td>2021-04-22 09:41:01</td>\n",
       "      <td>7983</td>\n",
       "      <td>0</td>\n",
       "      <td>1</td>\n",
       "    </tr>\n",
       "    <tr>\n",
       "      <th>3</th>\n",
       "      <td>keto</td>\n",
       "      <td>mvugxe</td>\n",
       "      <td>mumuchu72</td>\n",
       "      <td>Help, Difficult to gain muscle on keto.</td>\n",
       "      <td>Hi,\\nMy name is Robert and I’ve been on keto for a couple of years now, i am 5’9 and the Withings scale saids I’m 127.8 lbs, 10.7 body fat. My friends started calling me Steve because im starting to look like steve job’s before he passed away. I’ve been trying to gain some muscle for the past 2 months but it seems im not getting anywhere. Is it possible to builk without letting the fat percentage going up? Thanks</td>\n",
       "      <td>2372305</td>\n",
       "      <td>1619055323</td>\n",
       "      <td>2021-04-22 09:35:23</td>\n",
       "      <td>8321</td>\n",
       "      <td>0</td>\n",
       "      <td>1</td>\n",
       "    </tr>\n",
       "    <tr>\n",
       "      <th>4</th>\n",
       "      <td>keto</td>\n",
       "      <td>mvue4v</td>\n",
       "      <td>Khamisanzi</td>\n",
       "      <td>Keto Easy Healthy Recipes For Beginners - Best &amp;amp; Delicious - E-Book Free E-Book pdf</td>\n",
       "      <td>Pdf Delicious Keto Recipes Please note this is a digital download Are you looking into the Keto diet? Unsure of what the foods are like? Well there all your favorite foods, for just a sample of things to try, this sampler \\n\\n[Get Your E-book Now](https://drive.google.com/file/d/1OlwMGWWa9YYFaA52-Dyu-MHfB5DkZ3pN/view?usp=sharing)</td>\n",
       "      <td>2372300</td>\n",
       "      <td>1619055061</td>\n",
       "      <td>2021-04-22 09:31:01</td>\n",
       "      <td>8583</td>\n",
       "      <td>0</td>\n",
       "      <td>1</td>\n",
       "    </tr>\n",
       "  </tbody>\n",
       "</table>\n",
       "</div>"
      ],
      "text/plain": [
       "  subreddit      id        author  \\\n",
       "0      keto  mvvh65  freddyt55555   \n",
       "1      keto  mvuulx   beenroasted   \n",
       "2      keto  mvukgc        acotwo   \n",
       "3      keto  mvugxe     mumuchu72   \n",
       "4      keto  mvue4v    Khamisanzi   \n",
       "\n",
       "                                                                                     title  \\\n",
       "0                                                                     Allulose is amazing!   \n",
       "1                                                                        Here we go again.   \n",
       "2                                             What foods would you guys recommend on keto?   \n",
       "3                                                  Help, Difficult to gain muscle on keto.   \n",
       "4  Keto Easy Healthy Recipes For Beginners - Best &amp; Delicious - E-Book Free E-Book pdf   \n",
       "\n",
       "                                                                                                                                                                                                                                                                                                                                                                                                                                                                                                                                                                                                                                                                                                                                                                                                                                                                                                                                                                                                                                                                                                                                                                                                                                                                                                                                                                                                                                                                                                                                                                                                                                                                                                                                                                                                                                                                                                                                                                                                                                                                                    selftext  \\\n",
       "0  Guys, I'm not kidding. It's like a fucking natural miracle drug.\\n\\nAbout a month ago, I posted about how allulose is like [Ex-Lax](https://www.reddit.com/r/keto/comments/mbiksm/allulose_better_than_exlax/?utm_source=share&amp;utm_medium=web2x&amp;context=3). I stopped using it for a while, but I recently found out that not only does it not spike your blood glucose, it can actually make your blood glucose [go down](https://www.reddit.com/r/diabetes_t2/comments/mtic7m/eating_fruits_with_allulose/?utm_source=share&amp;utm_medium=web2x&amp;context=3). I'm not the only one who's experienced [this](https://www.reddit.com/r/diabetes_t2/comments/mv9djm/allulose_what_the_heck_is_going_on/?utm_source=share&amp;utm_medium=web2x&amp;context=3).\\n\\nI found out that the Ex-Lax effect is basically the allulose blocking the metabolism of certain carbohydrates. Here's an excerpt from the Wikipedia [article](https://en.wikipedia.org/wiki/Psicose):\\n\\n&gt;Allulose is a weak inhibitor of the enzymes α-glucosidase, α-amylase, maltase, and sucrase.\\[2\\] Because of this, it can inhibit the metabolism of starch and disaccharides into monosaccharides in the gastrointestinal tract.\\[2\\] Additionally, allulose inhibits the absorption of glucose via transporters in the intestines.\\[2\\] For these reasons, allulose has potential antihyperglycemic effects, and has been found to reduce postprandial hyperglycemia in humans.\\[2\\]\\[9\\]\\n\\nNo only does it block metabolism of carbs, it can lower cholesterol (if you care about such trivialities, that is):\\n\\n&gt;Through modulation of lipogenic enzymes in the liver, allulose may also have antihyperlipidemic effects.\\[2\\]\\[9\\]\\n\\nThe 2nd link above cites a bunch of studies of the antihyperglycemic effects of allulose, but there's another study that shows that it can protect the [beta cells](https://www.researchgate.net/publication/230644405_Rare_sugar_D-psicose_protects_pancreas_b-islets_and_thus_improves_insulin_resistance_in_OLETF_rats) in the pancreas as well.   \n",
       "1                                                                                                                                 I formerly weighed 435 lbs and I lost 125 eating ketogenically for two years. I felt great, I was motivated in all aspects of life, but I did it for the wrong reasons. I did it because I hated myself. The day I started keto I remember the conversation I had with myself. I was severely depressed, I was ready to take drastic action in the worst way. I decided to try one last thing I would cut out everything I thought I loved - friends, Taco Bell, video games. I thought the only way to get myself to move forward was to torture myself. And I did it for two years. The results were amazing and I felt the best I ever felt but I also had the lingering sense of despair and self loathing. I gained all the weight back over the next two years and then some. I gave up on myself, I didn’t see the value of me being around. I was living in filth, I smelt bad, my hair was stupid long. I was a total embarrassment only bringing myself together to go work and even then minimal effort. \\n\\nI’m back. Two weeks ago I decided to go back to keto for me. Because I want better, because I want to be around. I want to not be embarrassed of myself when I walk into a room, or down a street or looking in the mirror. I want to not worry about having a heart attack and dying leaving behind loved ones. Some of the people I hold dearest to my heart try to convince me to get the surgery. But I already learned the hard way that it isn’t just the weight and that it was the mentality I’ve lived with for the last 15 years. I need to break that mentality and the only way for me to do it is to work through it with the right mindset. \\n\\nI’m starting at what I would guess is 475 lbs. I know I already lost weight but I don’t have a scale that can weigh me. I don’t know if anyone cares or if anyone can relate to this but I needed to get this off of my chest. Thanks everyone. Good luck out there.   \n",
       "2                                                                                                                                                                                                                                                                                                                                                                                                                                                                                                                                                                                                                                                                                                                                                                                                                                                                                                                                                                                                                                                                                                                                                                                                                                                                                                                                                                                                                                                                                                                                                                                                                                                                                                                                       Title. I’m starting the keto diet so what would you guys recommend. To go more in depth, what type of meats and food variants. All I can come up with are eggs, steak and bacon because that’s pretty much what I eat right now that’s keto related. Can you guys expand my food list so I have more to eat and more nutritional foods. Thanks guys.   \n",
       "3                                                                                                                                                                                                                                                                                                                                                                                                                                                                                                                                                                                                                                                                                                                                                                                                                                                                                                                                                                                                                                                                                                                                                                                                                                                                                                                                                                                                                                                                                                                                                                                                                                                           Hi,\\nMy name is Robert and I’ve been on keto for a couple of years now, i am 5’9 and the Withings scale saids I’m 127.8 lbs, 10.7 body fat. My friends started calling me Steve because im starting to look like steve job’s before he passed away. I’ve been trying to gain some muscle for the past 2 months but it seems im not getting anywhere. Is it possible to builk without letting the fat percentage going up? Thanks   \n",
       "4                                                                                                                                                                                                                                                                                                                                                                                                                                                                                                                                                                                                                                                                                                                                                                                                                                                                                                                                                                                                                                                                                                                                                                                                                                                                                                                                                                                                                                                                                                                                                                                                                                                                                                                                                Pdf Delicious Keto Recipes Please note this is a digital download Are you looking into the Keto diet? Unsure of what the foods are like? Well there all your favorite foods, for just a sample of things to try, this sampler \\n\\n[Get Your E-book Now](https://drive.google.com/file/d/1OlwMGWWa9YYFaA52-Dyu-MHfB5DkZ3pN/view?usp=sharing)   \n",
       "\n",
       "   subreddit_subscribers  created_utc         created_time  \\\n",
       "0                2372343   1619058942  2021-04-22 10:35:42   \n",
       "1                2372316   1619056688  2021-04-22 09:58:08   \n",
       "2                2372310   1619055661  2021-04-22 09:41:01   \n",
       "3                2372305   1619055323  2021-04-22 09:35:23   \n",
       "4                2372300   1619055061  2021-04-22 09:31:01   \n",
       "\n",
       "   length_of_time(sec)  num_of_comments  score  \n",
       "0                 4702                0      1  \n",
       "1                 6956                0      1  \n",
       "2                 7983                0      1  \n",
       "3                 8321                0      1  \n",
       "4                 8583                0      1  "
      ]
     },
     "execution_count": 11,
     "metadata": {},
     "output_type": "execute_result"
    }
   ],
   "source": [
    "#Return the first number of rows.\n",
    "keto_scraped.head()"
   ]
  },
  {
   "cell_type": "code",
   "execution_count": 12,
   "metadata": {
    "scrolled": true
   },
   "outputs": [
    {
     "data": {
      "text/html": [
       "<div>\n",
       "<style scoped>\n",
       "    .dataframe tbody tr th:only-of-type {\n",
       "        vertical-align: middle;\n",
       "    }\n",
       "\n",
       "    .dataframe tbody tr th {\n",
       "        vertical-align: top;\n",
       "    }\n",
       "\n",
       "    .dataframe thead th {\n",
       "        text-align: right;\n",
       "    }\n",
       "</style>\n",
       "<table border=\"1\" class=\"dataframe\">\n",
       "  <thead>\n",
       "    <tr style=\"text-align: right;\">\n",
       "      <th></th>\n",
       "      <th>created_time</th>\n",
       "    </tr>\n",
       "  </thead>\n",
       "  <tbody>\n",
       "    <tr>\n",
       "      <th>count</th>\n",
       "      <td>1000</td>\n",
       "    </tr>\n",
       "    <tr>\n",
       "      <th>unique</th>\n",
       "      <td>1000</td>\n",
       "    </tr>\n",
       "    <tr>\n",
       "      <th>top</th>\n",
       "      <td>2021-04-01 15:20:25</td>\n",
       "    </tr>\n",
       "    <tr>\n",
       "      <th>freq</th>\n",
       "      <td>1</td>\n",
       "    </tr>\n",
       "  </tbody>\n",
       "</table>\n",
       "</div>"
      ],
      "text/plain": [
       "               created_time\n",
       "count                  1000\n",
       "unique                 1000\n",
       "top     2021-04-01 15:20:25\n",
       "freq                      1"
      ]
     },
     "execution_count": 12,
     "metadata": {},
     "output_type": "execute_result"
    }
   ],
   "source": [
    "vegan_scraped[['created_time']].describe()"
   ]
  },
  {
   "cell_type": "code",
   "execution_count": 13,
   "metadata": {},
   "outputs": [
    {
     "data": {
      "text/html": [
       "<div>\n",
       "<style scoped>\n",
       "    .dataframe tbody tr th:only-of-type {\n",
       "        vertical-align: middle;\n",
       "    }\n",
       "\n",
       "    .dataframe tbody tr th {\n",
       "        vertical-align: top;\n",
       "    }\n",
       "\n",
       "    .dataframe thead th {\n",
       "        text-align: right;\n",
       "    }\n",
       "</style>\n",
       "<table border=\"1\" class=\"dataframe\">\n",
       "  <thead>\n",
       "    <tr style=\"text-align: right;\">\n",
       "      <th></th>\n",
       "      <th>created_time</th>\n",
       "    </tr>\n",
       "  </thead>\n",
       "  <tbody>\n",
       "    <tr>\n",
       "      <th>count</th>\n",
       "      <td>1000</td>\n",
       "    </tr>\n",
       "    <tr>\n",
       "      <th>unique</th>\n",
       "      <td>993</td>\n",
       "    </tr>\n",
       "    <tr>\n",
       "      <th>top</th>\n",
       "      <td>2021-03-30 18:00:11</td>\n",
       "    </tr>\n",
       "    <tr>\n",
       "      <th>freq</th>\n",
       "      <td>2</td>\n",
       "    </tr>\n",
       "  </tbody>\n",
       "</table>\n",
       "</div>"
      ],
      "text/plain": [
       "               created_time\n",
       "count                  1000\n",
       "unique                  993\n",
       "top     2021-03-30 18:00:11\n",
       "freq                      2"
      ]
     },
     "execution_count": 13,
     "metadata": {},
     "output_type": "execute_result"
    }
   ],
   "source": [
    "keto_scraped[['created_time']].describe()"
   ]
  },
  {
   "cell_type": "code",
   "execution_count": 14,
   "metadata": {},
   "outputs": [],
   "source": [
    "# Defining a function to merge title and selftext columns and return the combined string.\n",
    "def merged_text(row):\n",
    "    return row['title']+\" \"+row['selftext']\n",
    "\n",
    "# Applying the function on all rows of both dataframes.\n",
    "vegan_scraped['text'] = vegan_scraped.apply(merged_text, axis=1)\n",
    "keto_scraped['text'] = keto_scraped.apply(merged_text, axis=1)"
   ]
  },
  {
   "cell_type": "code",
   "execution_count": 15,
   "metadata": {},
   "outputs": [],
   "source": [
    "# Defining a function to check the number of text of the post based on the english text(sepearte by space)\n",
    "def length_of_post(text):\n",
    "    text = text.strip().split(\" \")\n",
    "    return len(text)\n",
    "\n",
    "# Mapping the above defined funtion on 'all_text' column to create a new column.\n",
    "vegan_scraped['post_length'] = vegan_scraped['text'].map(length_of_post)\n",
    "keto_scraped['post_length'] = keto_scraped['text'].map(length_of_post)"
   ]
  },
  {
   "cell_type": "code",
   "execution_count": 16,
   "metadata": {},
   "outputs": [
    {
     "name": "stdout",
     "output_type": "stream",
     "text": [
      "<class 'pandas.core.frame.DataFrame'>\n",
      "RangeIndex: 1000 entries, 0 to 999\n",
      "Data columns (total 13 columns):\n",
      " #   Column                 Non-Null Count  Dtype \n",
      "---  ------                 --------------  ----- \n",
      " 0   subreddit              1000 non-null   object\n",
      " 1   id                     1000 non-null   object\n",
      " 2   author                 1000 non-null   object\n",
      " 3   title                  1000 non-null   object\n",
      " 4   selftext               1000 non-null   object\n",
      " 5   subreddit_subscribers  1000 non-null   int64 \n",
      " 6   created_utc            1000 non-null   int64 \n",
      " 7   created_time           1000 non-null   object\n",
      " 8   length_of_time(sec)    1000 non-null   int64 \n",
      " 9   num_of_comments        1000 non-null   int64 \n",
      " 10  score                  1000 non-null   int64 \n",
      " 11  text                   1000 non-null   object\n",
      " 12  post_length            1000 non-null   int64 \n",
      "dtypes: int64(6), object(7)\n",
      "memory usage: 101.7+ KB\n"
     ]
    }
   ],
   "source": [
    "vegan_scraped.info()"
   ]
  },
  {
   "cell_type": "code",
   "execution_count": 17,
   "metadata": {},
   "outputs": [
    {
     "data": {
      "text/html": [
       "<div>\n",
       "<style scoped>\n",
       "    .dataframe tbody tr th:only-of-type {\n",
       "        vertical-align: middle;\n",
       "    }\n",
       "\n",
       "    .dataframe tbody tr th {\n",
       "        vertical-align: top;\n",
       "    }\n",
       "\n",
       "    .dataframe thead th {\n",
       "        text-align: right;\n",
       "    }\n",
       "</style>\n",
       "<table border=\"1\" class=\"dataframe\">\n",
       "  <thead>\n",
       "    <tr style=\"text-align: right;\">\n",
       "      <th></th>\n",
       "      <th>subreddit</th>\n",
       "      <th>id</th>\n",
       "      <th>author</th>\n",
       "      <th>title</th>\n",
       "      <th>selftext</th>\n",
       "      <th>subreddit_subscribers</th>\n",
       "      <th>created_utc</th>\n",
       "      <th>created_time</th>\n",
       "      <th>length_of_time(sec)</th>\n",
       "      <th>num_of_comments</th>\n",
       "      <th>score</th>\n",
       "      <th>text</th>\n",
       "      <th>post_length</th>\n",
       "    </tr>\n",
       "  </thead>\n",
       "  <tbody>\n",
       "    <tr>\n",
       "      <th>0</th>\n",
       "      <td>vegan</td>\n",
       "      <td>mvvguj</td>\n",
       "      <td>Tytheboss16</td>\n",
       "      <td>“If people still eat meat, they might as well get it from the right place” argument?</td>\n",
       "      <td>So I’ve got a friend who runs a small-scale (about 30 head), local, organic cattle operation.  While the cows are still being raised for beef, they’re kept on grass their whole lives, never eat grain, calves are with mothers until going to butcher, and the animals are treated with (IMO) as much respect as possible, given the circumstances.  My friend also uses a FDA/Organic (idk all the govt. terminology) approved butcher.  Apparently, the butcher uses reduced-stress means of killing.  My friend’s view on his role in society is this: if people still consume meat (and will do so for the foreseeable future), then they might as well get it from a good source (whatever the definition of “good” is).  What are y’all’s opinions/thoughts on this ideology?  \\n\\nNote: I’m not trying to force an argument/opinions on anyone, just thing to start a conversation.  Also, if this question has already been posed, I apologize.</td>\n",
       "      <td>592659</td>\n",
       "      <td>1619058909</td>\n",
       "      <td>2021-04-22 10:35:09</td>\n",
       "      <td>4217</td>\n",
       "      <td>0</td>\n",
       "      <td>1</td>\n",
       "      <td>“If people still eat meat, they might as well get it from the right place” argument? So I’ve got a friend who runs a small-scale (about 30 head), local, organic cattle operation.  While the cows are still being raised for beef, they’re kept on grass their whole lives, never eat grain, calves are with mothers until going to butcher, and the animals are treated with (IMO) as much respect as possible, given the circumstances.  My friend also uses a FDA/Organic (idk all the govt. terminology) approved butcher.  Apparently, the butcher uses reduced-stress means of killing.  My friend’s view on his role in society is this: if people still consume meat (and will do so for the foreseeable future), then they might as well get it from a good source (whatever the definition of “good” is).  What are y’all’s opinions/thoughts on this ideology?  \\n\\nNote: I’m not trying to force an argument/opinions on anyone, just thing to start a conversation.  Also, if this question has already been posed, I apologize.</td>\n",
       "      <td>175</td>\n",
       "    </tr>\n",
       "    <tr>\n",
       "      <th>1</th>\n",
       "      <td>vegan</td>\n",
       "      <td>mvv6tv</td>\n",
       "      <td>Robert1_</td>\n",
       "      <td>Hey, I'm a vegetarian that wants to take the next step. Any advice?</td>\n",
       "      <td>I've been mostly vegetarian since August last year I honestly never thought I would manage it I have been a major carnivore my entire life. Since trying to eat vegetarian I have realised how much dairy is in my diet, I'm basically substituting meat for it in most cases. Anyway, the shops that are within any reasonable distance to me have milk substitutes which I enjoy but little else. I'm thinking of shopping online are there any recommendations for cheese/butter replacements I should look at? Any general advice would be great too!</td>\n",
       "      <td>592650</td>\n",
       "      <td>1619057891</td>\n",
       "      <td>2021-04-22 10:18:11</td>\n",
       "      <td>5235</td>\n",
       "      <td>0</td>\n",
       "      <td>1</td>\n",
       "      <td>Hey, I'm a vegetarian that wants to take the next step. Any advice? I've been mostly vegetarian since August last year I honestly never thought I would manage it I have been a major carnivore my entire life. Since trying to eat vegetarian I have realised how much dairy is in my diet, I'm basically substituting meat for it in most cases. Anyway, the shops that are within any reasonable distance to me have milk substitutes which I enjoy but little else. I'm thinking of shopping online are there any recommendations for cheese/butter replacements I should look at? Any general advice would be great too!</td>\n",
       "      <td>105</td>\n",
       "    </tr>\n",
       "    <tr>\n",
       "      <th>2</th>\n",
       "      <td>vegan</td>\n",
       "      <td>mvudcx</td>\n",
       "      <td>vanillust</td>\n",
       "      <td>WHY ARE THERE NON VEGAN ITEMS IN THE VEGAN SECTION!!!</td>\n",
       "      <td>Basically I picked some vegan kimchi out of the vegan section from a brand that generally advertises itself as vegan. I then went back to the same section and brand and swapped flavors because i changed my mind and wanted a spicier flavor. I didnt check the new flavors label. (Big mistake on my end apparently) I went home and made some ramen and added the kimchi, ate it, and then checked the label to see how much alcohol from fermentation there was in the product. (im on a strict no alcohol medication) Anyway I see shrimp and anchovy sauce listed as ingredients!!!! What the F***!!!!! Ive been throwing up my dinner for over 30 minutes now because I cant get the thought of dead baby shrimp and anchovy’s in my body out of my head. How is this even allowed!!!!!! Never again will i not check a label. :( (Sorry if this is semi incoherent Im typing this in a sick fit of rage)</td>\n",
       "      <td>592642</td>\n",
       "      <td>1619054980</td>\n",
       "      <td>2021-04-22 09:29:40</td>\n",
       "      <td>8146</td>\n",
       "      <td>0</td>\n",
       "      <td>1</td>\n",
       "      <td>WHY ARE THERE NON VEGAN ITEMS IN THE VEGAN SECTION!!! Basically I picked some vegan kimchi out of the vegan section from a brand that generally advertises itself as vegan. I then went back to the same section and brand and swapped flavors because i changed my mind and wanted a spicier flavor. I didnt check the new flavors label. (Big mistake on my end apparently) I went home and made some ramen and added the kimchi, ate it, and then checked the label to see how much alcohol from fermentation there was in the product. (im on a strict no alcohol medication) Anyway I see shrimp and anchovy sauce listed as ingredients!!!! What the F***!!!!! Ive been throwing up my dinner for over 30 minutes now because I cant get the thought of dead baby shrimp and anchovy’s in my body out of my head. How is this even allowed!!!!!! Never again will i not check a label. :( (Sorry if this is semi incoherent Im typing this in a sick fit of rage)</td>\n",
       "      <td>175</td>\n",
       "    </tr>\n",
       "    <tr>\n",
       "      <th>3</th>\n",
       "      <td>vegan</td>\n",
       "      <td>mvu5a1</td>\n",
       "      <td>GlassRockets</td>\n",
       "      <td>Best tasting vegan protein powder?</td>\n",
       "      <td>I'm actually a vegetarian and my all time favorite protein powder is gold standard casein in the flavor chocolate supreme (I blend it with water and add salt) because it literally tastes like hot chocolate and I genuinely look forward to having my daily shakes, however I'm trying to cut back on dairy and so far have tried around 8 different protein powders, it seems like delicious vegan protein powders are few and far between. What are the best tasting ones?</td>\n",
       "      <td>592637</td>\n",
       "      <td>1619054160</td>\n",
       "      <td>2021-04-22 09:16:00</td>\n",
       "      <td>8966</td>\n",
       "      <td>0</td>\n",
       "      <td>1</td>\n",
       "      <td>Best tasting vegan protein powder? I'm actually a vegetarian and my all time favorite protein powder is gold standard casein in the flavor chocolate supreme (I blend it with water and add salt) because it literally tastes like hot chocolate and I genuinely look forward to having my daily shakes, however I'm trying to cut back on dairy and so far have tried around 8 different protein powders, it seems like delicious vegan protein powders are few and far between. What are the best tasting ones?</td>\n",
       "      <td>86</td>\n",
       "    </tr>\n",
       "    <tr>\n",
       "      <th>4</th>\n",
       "      <td>vegan</td>\n",
       "      <td>mvtesg</td>\n",
       "      <td>fixFriendship</td>\n",
       "      <td>Where do I get my proteins if I workout?</td>\n",
       "      <td>I want to transition from lacto-ovo vegetarian into vegan, but I am worried about where I will get my proteins without using complements.\\n\\nAs I workout quite often, my diet requires a strong presence of rich-in-protein (dairy) products -these are especial products with a few more proteins than normal-, and I would like to stop consuming those, but I do not wish to substitute them at the cost of having to buy expensive, often unhealthy, protein powders. \\n\\nI already consume a bit of those powders, but an excess may cause a huge deficit of multiple nutrients and, ofc, I wanna avoid that. I wanna go vegan without dying in the process.\\n\\nPS I haven't done as much research on vegan as I should like, what other nutrients should I be looking out for that I will be lacking when I  remove eggs and dairy from my diet.and where can I find said nutrients.\\n\\nThank you :D</td>\n",
       "      <td>592623</td>\n",
       "      <td>1619051556</td>\n",
       "      <td>2021-04-22 08:32:36</td>\n",
       "      <td>11570</td>\n",
       "      <td>0</td>\n",
       "      <td>1</td>\n",
       "      <td>Where do I get my proteins if I workout? I want to transition from lacto-ovo vegetarian into vegan, but I am worried about where I will get my proteins without using complements.\\n\\nAs I workout quite often, my diet requires a strong presence of rich-in-protein (dairy) products -these are especial products with a few more proteins than normal-, and I would like to stop consuming those, but I do not wish to substitute them at the cost of having to buy expensive, often unhealthy, protein powders. \\n\\nI already consume a bit of those powders, but an excess may cause a huge deficit of multiple nutrients and, ofc, I wanna avoid that. I wanna go vegan without dying in the process.\\n\\nPS I haven't done as much research on vegan as I should like, what other nutrients should I be looking out for that I will be lacking when I  remove eggs and dairy from my diet.and where can I find said nutrients.\\n\\nThank you :D</td>\n",
       "      <td>163</td>\n",
       "    </tr>\n",
       "  </tbody>\n",
       "</table>\n",
       "</div>"
      ],
      "text/plain": [
       "  subreddit      id         author  \\\n",
       "0     vegan  mvvguj    Tytheboss16   \n",
       "1     vegan  mvv6tv       Robert1_   \n",
       "2     vegan  mvudcx      vanillust   \n",
       "3     vegan  mvu5a1   GlassRockets   \n",
       "4     vegan  mvtesg  fixFriendship   \n",
       "\n",
       "                                                                                  title  \\\n",
       "0  “If people still eat meat, they might as well get it from the right place” argument?   \n",
       "1                   Hey, I'm a vegetarian that wants to take the next step. Any advice?   \n",
       "2                                 WHY ARE THERE NON VEGAN ITEMS IN THE VEGAN SECTION!!!   \n",
       "3                                                    Best tasting vegan protein powder?   \n",
       "4                                              Where do I get my proteins if I workout?   \n",
       "\n",
       "                                                                                                                                                                                                                                                                                                                                                                                                                                                                                                                                                                                                                                                                                                                                                                                                                                                                                                                                                    selftext  \\\n",
       "0  So I’ve got a friend who runs a small-scale (about 30 head), local, organic cattle operation.  While the cows are still being raised for beef, they’re kept on grass their whole lives, never eat grain, calves are with mothers until going to butcher, and the animals are treated with (IMO) as much respect as possible, given the circumstances.  My friend also uses a FDA/Organic (idk all the govt. terminology) approved butcher.  Apparently, the butcher uses reduced-stress means of killing.  My friend’s view on his role in society is this: if people still consume meat (and will do so for the foreseeable future), then they might as well get it from a good source (whatever the definition of “good” is).  What are y’all’s opinions/thoughts on this ideology?  \\n\\nNote: I’m not trying to force an argument/opinions on anyone, just thing to start a conversation.  Also, if this question has already been posed, I apologize.   \n",
       "1                                                                                                                                                                                                                                                                                                                                                                                                  I've been mostly vegetarian since August last year I honestly never thought I would manage it I have been a major carnivore my entire life. Since trying to eat vegetarian I have realised how much dairy is in my diet, I'm basically substituting meat for it in most cases. Anyway, the shops that are within any reasonable distance to me have milk substitutes which I enjoy but little else. I'm thinking of shopping online are there any recommendations for cheese/butter replacements I should look at? Any general advice would be great too!   \n",
       "2                                          Basically I picked some vegan kimchi out of the vegan section from a brand that generally advertises itself as vegan. I then went back to the same section and brand and swapped flavors because i changed my mind and wanted a spicier flavor. I didnt check the new flavors label. (Big mistake on my end apparently) I went home and made some ramen and added the kimchi, ate it, and then checked the label to see how much alcohol from fermentation there was in the product. (im on a strict no alcohol medication) Anyway I see shrimp and anchovy sauce listed as ingredients!!!! What the F***!!!!! Ive been throwing up my dinner for over 30 minutes now because I cant get the thought of dead baby shrimp and anchovy’s in my body out of my head. How is this even allowed!!!!!! Never again will i not check a label. :( (Sorry if this is semi incoherent Im typing this in a sick fit of rage)   \n",
       "3                                                                                                                                                                                                                                                                                                                                                                                                                                                                             I'm actually a vegetarian and my all time favorite protein powder is gold standard casein in the flavor chocolate supreme (I blend it with water and add salt) because it literally tastes like hot chocolate and I genuinely look forward to having my daily shakes, however I'm trying to cut back on dairy and so far have tried around 8 different protein powders, it seems like delicious vegan protein powders are few and far between. What are the best tasting ones?   \n",
       "4                                                I want to transition from lacto-ovo vegetarian into vegan, but I am worried about where I will get my proteins without using complements.\\n\\nAs I workout quite often, my diet requires a strong presence of rich-in-protein (dairy) products -these are especial products with a few more proteins than normal-, and I would like to stop consuming those, but I do not wish to substitute them at the cost of having to buy expensive, often unhealthy, protein powders. \\n\\nI already consume a bit of those powders, but an excess may cause a huge deficit of multiple nutrients and, ofc, I wanna avoid that. I wanna go vegan without dying in the process.\\n\\nPS I haven't done as much research on vegan as I should like, what other nutrients should I be looking out for that I will be lacking when I  remove eggs and dairy from my diet.and where can I find said nutrients.\\n\\nThank you :D   \n",
       "\n",
       "   subreddit_subscribers  created_utc         created_time  \\\n",
       "0                 592659   1619058909  2021-04-22 10:35:09   \n",
       "1                 592650   1619057891  2021-04-22 10:18:11   \n",
       "2                 592642   1619054980  2021-04-22 09:29:40   \n",
       "3                 592637   1619054160  2021-04-22 09:16:00   \n",
       "4                 592623   1619051556  2021-04-22 08:32:36   \n",
       "\n",
       "   length_of_time(sec)  num_of_comments  score  \\\n",
       "0                 4217                0      1   \n",
       "1                 5235                0      1   \n",
       "2                 8146                0      1   \n",
       "3                 8966                0      1   \n",
       "4                11570                0      1   \n",
       "\n",
       "                                                                                                                                                                                                                                                                                                                                                                                                                                                                                                                                                                                                                                                                                                                                                                                                                                                                                                                                                                                                                                             text  \\\n",
       "0  “If people still eat meat, they might as well get it from the right place” argument? So I’ve got a friend who runs a small-scale (about 30 head), local, organic cattle operation.  While the cows are still being raised for beef, they’re kept on grass their whole lives, never eat grain, calves are with mothers until going to butcher, and the animals are treated with (IMO) as much respect as possible, given the circumstances.  My friend also uses a FDA/Organic (idk all the govt. terminology) approved butcher.  Apparently, the butcher uses reduced-stress means of killing.  My friend’s view on his role in society is this: if people still consume meat (and will do so for the foreseeable future), then they might as well get it from a good source (whatever the definition of “good” is).  What are y’all’s opinions/thoughts on this ideology?  \\n\\nNote: I’m not trying to force an argument/opinions on anyone, just thing to start a conversation.  Also, if this question has already been posed, I apologize.   \n",
       "1                                                                                                                                                                                                                                                                                                                                                                                                                   Hey, I'm a vegetarian that wants to take the next step. Any advice? I've been mostly vegetarian since August last year I honestly never thought I would manage it I have been a major carnivore my entire life. Since trying to eat vegetarian I have realised how much dairy is in my diet, I'm basically substituting meat for it in most cases. Anyway, the shops that are within any reasonable distance to me have milk substitutes which I enjoy but little else. I'm thinking of shopping online are there any recommendations for cheese/butter replacements I should look at? Any general advice would be great too!   \n",
       "2                                                                         WHY ARE THERE NON VEGAN ITEMS IN THE VEGAN SECTION!!! Basically I picked some vegan kimchi out of the vegan section from a brand that generally advertises itself as vegan. I then went back to the same section and brand and swapped flavors because i changed my mind and wanted a spicier flavor. I didnt check the new flavors label. (Big mistake on my end apparently) I went home and made some ramen and added the kimchi, ate it, and then checked the label to see how much alcohol from fermentation there was in the product. (im on a strict no alcohol medication) Anyway I see shrimp and anchovy sauce listed as ingredients!!!! What the F***!!!!! Ive been throwing up my dinner for over 30 minutes now because I cant get the thought of dead baby shrimp and anchovy’s in my body out of my head. How is this even allowed!!!!!! Never again will i not check a label. :( (Sorry if this is semi incoherent Im typing this in a sick fit of rage)   \n",
       "3                                                                                                                                                                                                                                                                                                                                                                                                                                                                                                                               Best tasting vegan protein powder? I'm actually a vegetarian and my all time favorite protein powder is gold standard casein in the flavor chocolate supreme (I blend it with water and add salt) because it literally tastes like hot chocolate and I genuinely look forward to having my daily shakes, however I'm trying to cut back on dairy and so far have tried around 8 different protein powders, it seems like delicious vegan protein powders are few and far between. What are the best tasting ones?   \n",
       "4                                                                                            Where do I get my proteins if I workout? I want to transition from lacto-ovo vegetarian into vegan, but I am worried about where I will get my proteins without using complements.\\n\\nAs I workout quite often, my diet requires a strong presence of rich-in-protein (dairy) products -these are especial products with a few more proteins than normal-, and I would like to stop consuming those, but I do not wish to substitute them at the cost of having to buy expensive, often unhealthy, protein powders. \\n\\nI already consume a bit of those powders, but an excess may cause a huge deficit of multiple nutrients and, ofc, I wanna avoid that. I wanna go vegan without dying in the process.\\n\\nPS I haven't done as much research on vegan as I should like, what other nutrients should I be looking out for that I will be lacking when I  remove eggs and dairy from my diet.and where can I find said nutrients.\\n\\nThank you :D   \n",
       "\n",
       "   post_length  \n",
       "0          175  \n",
       "1          105  \n",
       "2          175  \n",
       "3           86  \n",
       "4          163  "
      ]
     },
     "execution_count": 17,
     "metadata": {},
     "output_type": "execute_result"
    }
   ],
   "source": [
    "# To verify the added columns\n",
    "vegan_scraped.head()\n"
   ]
  },
  {
   "cell_type": "code",
   "execution_count": 18,
   "metadata": {
    "scrolled": true
   },
   "outputs": [
    {
     "data": {
      "text/html": [
       "<div>\n",
       "<style scoped>\n",
       "    .dataframe tbody tr th:only-of-type {\n",
       "        vertical-align: middle;\n",
       "    }\n",
       "\n",
       "    .dataframe tbody tr th {\n",
       "        vertical-align: top;\n",
       "    }\n",
       "\n",
       "    .dataframe thead th {\n",
       "        text-align: right;\n",
       "    }\n",
       "</style>\n",
       "<table border=\"1\" class=\"dataframe\">\n",
       "  <thead>\n",
       "    <tr style=\"text-align: right;\">\n",
       "      <th></th>\n",
       "      <th>subreddit</th>\n",
       "      <th>id</th>\n",
       "      <th>author</th>\n",
       "      <th>title</th>\n",
       "      <th>selftext</th>\n",
       "      <th>subreddit_subscribers</th>\n",
       "      <th>created_utc</th>\n",
       "      <th>created_time</th>\n",
       "      <th>length_of_time(sec)</th>\n",
       "      <th>num_of_comments</th>\n",
       "      <th>score</th>\n",
       "      <th>text</th>\n",
       "      <th>post_length</th>\n",
       "    </tr>\n",
       "  </thead>\n",
       "  <tbody>\n",
       "    <tr>\n",
       "      <th>0</th>\n",
       "      <td>keto</td>\n",
       "      <td>mvvh65</td>\n",
       "      <td>freddyt55555</td>\n",
       "      <td>Allulose is amazing!</td>\n",
       "      <td>Guys, I'm not kidding. It's like a fucking natural miracle drug.\\n\\nAbout a month ago, I posted about how allulose is like [Ex-Lax](https://www.reddit.com/r/keto/comments/mbiksm/allulose_better_than_exlax/?utm_source=share&amp;amp;utm_medium=web2x&amp;amp;context=3). I stopped using it for a while, but I recently found out that not only does it not spike your blood glucose, it can actually make your blood glucose [go down](https://www.reddit.com/r/diabetes_t2/comments/mtic7m/eating_fruits_with_allulose/?utm_source=share&amp;amp;utm_medium=web2x&amp;amp;context=3). I'm not the only one who's experienced [this](https://www.reddit.com/r/diabetes_t2/comments/mv9djm/allulose_what_the_heck_is_going_on/?utm_source=share&amp;amp;utm_medium=web2x&amp;amp;context=3).\\n\\nI found out that the Ex-Lax effect is basically the allulose blocking the metabolism of certain carbohydrates. Here's an excerpt from the Wikipedia [article](https://en.wikipedia.org/wiki/Psicose):\\n\\n&amp;gt;Allulose is a weak inhibitor of the enzymes α-glucosidase, α-amylase, maltase, and sucrase.\\[2\\] Because of this, it can inhibit the metabolism of starch and disaccharides into monosaccharides in the gastrointestinal tract.\\[2\\] Additionally, allulose inhibits the absorption of glucose via transporters in the intestines.\\[2\\] For these reasons, allulose has potential antihyperglycemic effects, and has been found to reduce postprandial hyperglycemia in humans.\\[2\\]\\[9\\]\\n\\nNo only does it block metabolism of carbs, it can lower cholesterol (if you care about such trivialities, that is):\\n\\n&amp;gt;Through modulation of lipogenic enzymes in the liver, allulose may also have antihyperlipidemic effects.\\[2\\]\\[9\\]\\n\\nThe 2nd link above cites a bunch of studies of the antihyperglycemic effects of allulose, but there's another study that shows that it can protect the [beta cells](https://www.researchgate.net/publication/230644405_Rare_sugar_D-psicose_protects_pancreas_b-islets_and_thus_improves_insulin_resistance_in_OLETF_rats) in the pancreas as well.</td>\n",
       "      <td>2372343</td>\n",
       "      <td>1619058942</td>\n",
       "      <td>2021-04-22 10:35:42</td>\n",
       "      <td>4702</td>\n",
       "      <td>0</td>\n",
       "      <td>1</td>\n",
       "      <td>Allulose is amazing! Guys, I'm not kidding. It's like a fucking natural miracle drug.\\n\\nAbout a month ago, I posted about how allulose is like [Ex-Lax](https://www.reddit.com/r/keto/comments/mbiksm/allulose_better_than_exlax/?utm_source=share&amp;amp;utm_medium=web2x&amp;amp;context=3). I stopped using it for a while, but I recently found out that not only does it not spike your blood glucose, it can actually make your blood glucose [go down](https://www.reddit.com/r/diabetes_t2/comments/mtic7m/eating_fruits_with_allulose/?utm_source=share&amp;amp;utm_medium=web2x&amp;amp;context=3). I'm not the only one who's experienced [this](https://www.reddit.com/r/diabetes_t2/comments/mv9djm/allulose_what_the_heck_is_going_on/?utm_source=share&amp;amp;utm_medium=web2x&amp;amp;context=3).\\n\\nI found out that the Ex-Lax effect is basically the allulose blocking the metabolism of certain carbohydrates. Here's an excerpt from the Wikipedia [article](https://en.wikipedia.org/wiki/Psicose):\\n\\n&amp;gt;Allulose is a weak inhibitor of the enzymes α-glucosidase, α-amylase, maltase, and sucrase.\\[2\\] Because of this, it can inhibit the metabolism of starch and disaccharides into monosaccharides in the gastrointestinal tract.\\[2\\] Additionally, allulose inhibits the absorption of glucose via transporters in the intestines.\\[2\\] For these reasons, allulose has potential antihyperglycemic effects, and has been found to reduce postprandial hyperglycemia in humans.\\[2\\]\\[9\\]\\n\\nNo only does it block metabolism of carbs, it can lower cholesterol (if you care about such trivialities, that is):\\n\\n&amp;gt;Through modulation of lipogenic enzymes in the liver, allulose may also have antihyperlipidemic effects.\\[2\\]\\[9\\]\\n\\nThe 2nd link above cites a bunch of studies of the antihyperglycemic effects of allulose, but there's another study that shows that it can protect the [beta cells](https://www.researchgate.net/publication/230644405_Rare_sugar_D-psicose_protects_pancreas_b-islets_and_thus_improves_insulin_resistance_in_OLETF_rats) in the pancreas as well.</td>\n",
       "      <td>211</td>\n",
       "    </tr>\n",
       "    <tr>\n",
       "      <th>1</th>\n",
       "      <td>keto</td>\n",
       "      <td>mvuulx</td>\n",
       "      <td>beenroasted</td>\n",
       "      <td>Here we go again.</td>\n",
       "      <td>I formerly weighed 435 lbs and I lost 125 eating ketogenically for two years. I felt great, I was motivated in all aspects of life, but I did it for the wrong reasons. I did it because I hated myself. The day I started keto I remember the conversation I had with myself. I was severely depressed, I was ready to take drastic action in the worst way. I decided to try one last thing I would cut out everything I thought I loved - friends, Taco Bell, video games. I thought the only way to get myself to move forward was to torture myself. And I did it for two years. The results were amazing and I felt the best I ever felt but I also had the lingering sense of despair and self loathing. I gained all the weight back over the next two years and then some. I gave up on myself, I didn’t see the value of me being around. I was living in filth, I smelt bad, my hair was stupid long. I was a total embarrassment only bringing myself together to go work and even then minimal effort. \\n\\nI’m back. Two weeks ago I decided to go back to keto for me. Because I want better, because I want to be around. I want to not be embarrassed of myself when I walk into a room, or down a street or looking in the mirror. I want to not worry about having a heart attack and dying leaving behind loved ones. Some of the people I hold dearest to my heart try to convince me to get the surgery. But I already learned the hard way that it isn’t just the weight and that it was the mentality I’ve lived with for the last 15 years. I need to break that mentality and the only way for me to do it is to work through it with the right mindset. \\n\\nI’m starting at what I would guess is 475 lbs. I know I already lost weight but I don’t have a scale that can weigh me. I don’t know if anyone cares or if anyone can relate to this but I needed to get this off of my chest. Thanks everyone. Good luck out there.</td>\n",
       "      <td>2372316</td>\n",
       "      <td>1619056688</td>\n",
       "      <td>2021-04-22 09:58:08</td>\n",
       "      <td>6956</td>\n",
       "      <td>0</td>\n",
       "      <td>1</td>\n",
       "      <td>Here we go again. I formerly weighed 435 lbs and I lost 125 eating ketogenically for two years. I felt great, I was motivated in all aspects of life, but I did it for the wrong reasons. I did it because I hated myself. The day I started keto I remember the conversation I had with myself. I was severely depressed, I was ready to take drastic action in the worst way. I decided to try one last thing I would cut out everything I thought I loved - friends, Taco Bell, video games. I thought the only way to get myself to move forward was to torture myself. And I did it for two years. The results were amazing and I felt the best I ever felt but I also had the lingering sense of despair and self loathing. I gained all the weight back over the next two years and then some. I gave up on myself, I didn’t see the value of me being around. I was living in filth, I smelt bad, my hair was stupid long. I was a total embarrassment only bringing myself together to go work and even then minimal effort. \\n\\nI’m back. Two weeks ago I decided to go back to keto for me. Because I want better, because I want to be around. I want to not be embarrassed of myself when I walk into a room, or down a street or looking in the mirror. I want to not worry about having a heart attack and dying leaving behind loved ones. Some of the people I hold dearest to my heart try to convince me to get the surgery. But I already learned the hard way that it isn’t just the weight and that it was the mentality I’ve lived with for the last 15 years. I need to break that mentality and the only way for me to do it is to work through it with the right mindset. \\n\\nI’m starting at what I would guess is 475 lbs. I know I already lost weight but I don’t have a scale that can weigh me. I don’t know if anyone cares or if anyone can relate to this but I needed to get this off of my chest. Thanks everyone. Good luck out there.</td>\n",
       "      <td>385</td>\n",
       "    </tr>\n",
       "    <tr>\n",
       "      <th>2</th>\n",
       "      <td>keto</td>\n",
       "      <td>mvukgc</td>\n",
       "      <td>acotwo</td>\n",
       "      <td>What foods would you guys recommend on keto?</td>\n",
       "      <td>Title. I’m starting the keto diet so what would you guys recommend. To go more in depth, what type of meats and food variants. All I can come up with are eggs, steak and bacon because that’s pretty much what I eat right now that’s keto related. Can you guys expand my food list so I have more to eat and more nutritional foods. Thanks guys.</td>\n",
       "      <td>2372310</td>\n",
       "      <td>1619055661</td>\n",
       "      <td>2021-04-22 09:41:01</td>\n",
       "      <td>7983</td>\n",
       "      <td>0</td>\n",
       "      <td>1</td>\n",
       "      <td>What foods would you guys recommend on keto? Title. I’m starting the keto diet so what would you guys recommend. To go more in depth, what type of meats and food variants. All I can come up with are eggs, steak and bacon because that’s pretty much what I eat right now that’s keto related. Can you guys expand my food list so I have more to eat and more nutritional foods. Thanks guys.</td>\n",
       "      <td>74</td>\n",
       "    </tr>\n",
       "    <tr>\n",
       "      <th>3</th>\n",
       "      <td>keto</td>\n",
       "      <td>mvugxe</td>\n",
       "      <td>mumuchu72</td>\n",
       "      <td>Help, Difficult to gain muscle on keto.</td>\n",
       "      <td>Hi,\\nMy name is Robert and I’ve been on keto for a couple of years now, i am 5’9 and the Withings scale saids I’m 127.8 lbs, 10.7 body fat. My friends started calling me Steve because im starting to look like steve job’s before he passed away. I’ve been trying to gain some muscle for the past 2 months but it seems im not getting anywhere. Is it possible to builk without letting the fat percentage going up? Thanks</td>\n",
       "      <td>2372305</td>\n",
       "      <td>1619055323</td>\n",
       "      <td>2021-04-22 09:35:23</td>\n",
       "      <td>8321</td>\n",
       "      <td>0</td>\n",
       "      <td>1</td>\n",
       "      <td>Help, Difficult to gain muscle on keto. Hi,\\nMy name is Robert and I’ve been on keto for a couple of years now, i am 5’9 and the Withings scale saids I’m 127.8 lbs, 10.7 body fat. My friends started calling me Steve because im starting to look like steve job’s before he passed away. I’ve been trying to gain some muscle for the past 2 months but it seems im not getting anywhere. Is it possible to builk without letting the fat percentage going up? Thanks</td>\n",
       "      <td>86</td>\n",
       "    </tr>\n",
       "    <tr>\n",
       "      <th>4</th>\n",
       "      <td>keto</td>\n",
       "      <td>mvue4v</td>\n",
       "      <td>Khamisanzi</td>\n",
       "      <td>Keto Easy Healthy Recipes For Beginners - Best &amp;amp; Delicious - E-Book Free E-Book pdf</td>\n",
       "      <td>Pdf Delicious Keto Recipes Please note this is a digital download Are you looking into the Keto diet? Unsure of what the foods are like? Well there all your favorite foods, for just a sample of things to try, this sampler \\n\\n[Get Your E-book Now](https://drive.google.com/file/d/1OlwMGWWa9YYFaA52-Dyu-MHfB5DkZ3pN/view?usp=sharing)</td>\n",
       "      <td>2372300</td>\n",
       "      <td>1619055061</td>\n",
       "      <td>2021-04-22 09:31:01</td>\n",
       "      <td>8583</td>\n",
       "      <td>0</td>\n",
       "      <td>1</td>\n",
       "      <td>Keto Easy Healthy Recipes For Beginners - Best &amp;amp; Delicious - E-Book Free E-Book pdf  Pdf Delicious Keto Recipes Please note this is a digital download Are you looking into the Keto diet? Unsure of what the foods are like? Well there all your favorite foods, for just a sample of things to try, this sampler \\n\\n[Get Your E-book Now](https://drive.google.com/file/d/1OlwMGWWa9YYFaA52-Dyu-MHfB5DkZ3pN/view?usp=sharing)</td>\n",
       "      <td>61</td>\n",
       "    </tr>\n",
       "  </tbody>\n",
       "</table>\n",
       "</div>"
      ],
      "text/plain": [
       "  subreddit      id        author  \\\n",
       "0      keto  mvvh65  freddyt55555   \n",
       "1      keto  mvuulx   beenroasted   \n",
       "2      keto  mvukgc        acotwo   \n",
       "3      keto  mvugxe     mumuchu72   \n",
       "4      keto  mvue4v    Khamisanzi   \n",
       "\n",
       "                                                                                     title  \\\n",
       "0                                                                     Allulose is amazing!   \n",
       "1                                                                        Here we go again.   \n",
       "2                                             What foods would you guys recommend on keto?   \n",
       "3                                                  Help, Difficult to gain muscle on keto.   \n",
       "4  Keto Easy Healthy Recipes For Beginners - Best &amp; Delicious - E-Book Free E-Book pdf   \n",
       "\n",
       "                                                                                                                                                                                                                                                                                                                                                                                                                                                                                                                                                                                                                                                                                                                                                                                                                                                                                                                                                                                                                                                                                                                                                                                                                                                                                                                                                                                                                                                                                                                                                                                                                                                                                                                                                                                                                                                                                                                                                                                                                                                                                    selftext  \\\n",
       "0  Guys, I'm not kidding. It's like a fucking natural miracle drug.\\n\\nAbout a month ago, I posted about how allulose is like [Ex-Lax](https://www.reddit.com/r/keto/comments/mbiksm/allulose_better_than_exlax/?utm_source=share&amp;utm_medium=web2x&amp;context=3). I stopped using it for a while, but I recently found out that not only does it not spike your blood glucose, it can actually make your blood glucose [go down](https://www.reddit.com/r/diabetes_t2/comments/mtic7m/eating_fruits_with_allulose/?utm_source=share&amp;utm_medium=web2x&amp;context=3). I'm not the only one who's experienced [this](https://www.reddit.com/r/diabetes_t2/comments/mv9djm/allulose_what_the_heck_is_going_on/?utm_source=share&amp;utm_medium=web2x&amp;context=3).\\n\\nI found out that the Ex-Lax effect is basically the allulose blocking the metabolism of certain carbohydrates. Here's an excerpt from the Wikipedia [article](https://en.wikipedia.org/wiki/Psicose):\\n\\n&gt;Allulose is a weak inhibitor of the enzymes α-glucosidase, α-amylase, maltase, and sucrase.\\[2\\] Because of this, it can inhibit the metabolism of starch and disaccharides into monosaccharides in the gastrointestinal tract.\\[2\\] Additionally, allulose inhibits the absorption of glucose via transporters in the intestines.\\[2\\] For these reasons, allulose has potential antihyperglycemic effects, and has been found to reduce postprandial hyperglycemia in humans.\\[2\\]\\[9\\]\\n\\nNo only does it block metabolism of carbs, it can lower cholesterol (if you care about such trivialities, that is):\\n\\n&gt;Through modulation of lipogenic enzymes in the liver, allulose may also have antihyperlipidemic effects.\\[2\\]\\[9\\]\\n\\nThe 2nd link above cites a bunch of studies of the antihyperglycemic effects of allulose, but there's another study that shows that it can protect the [beta cells](https://www.researchgate.net/publication/230644405_Rare_sugar_D-psicose_protects_pancreas_b-islets_and_thus_improves_insulin_resistance_in_OLETF_rats) in the pancreas as well.   \n",
       "1                                                                                                                                 I formerly weighed 435 lbs and I lost 125 eating ketogenically for two years. I felt great, I was motivated in all aspects of life, but I did it for the wrong reasons. I did it because I hated myself. The day I started keto I remember the conversation I had with myself. I was severely depressed, I was ready to take drastic action in the worst way. I decided to try one last thing I would cut out everything I thought I loved - friends, Taco Bell, video games. I thought the only way to get myself to move forward was to torture myself. And I did it for two years. The results were amazing and I felt the best I ever felt but I also had the lingering sense of despair and self loathing. I gained all the weight back over the next two years and then some. I gave up on myself, I didn’t see the value of me being around. I was living in filth, I smelt bad, my hair was stupid long. I was a total embarrassment only bringing myself together to go work and even then minimal effort. \\n\\nI’m back. Two weeks ago I decided to go back to keto for me. Because I want better, because I want to be around. I want to not be embarrassed of myself when I walk into a room, or down a street or looking in the mirror. I want to not worry about having a heart attack and dying leaving behind loved ones. Some of the people I hold dearest to my heart try to convince me to get the surgery. But I already learned the hard way that it isn’t just the weight and that it was the mentality I’ve lived with for the last 15 years. I need to break that mentality and the only way for me to do it is to work through it with the right mindset. \\n\\nI’m starting at what I would guess is 475 lbs. I know I already lost weight but I don’t have a scale that can weigh me. I don’t know if anyone cares or if anyone can relate to this but I needed to get this off of my chest. Thanks everyone. Good luck out there.   \n",
       "2                                                                                                                                                                                                                                                                                                                                                                                                                                                                                                                                                                                                                                                                                                                                                                                                                                                                                                                                                                                                                                                                                                                                                                                                                                                                                                                                                                                                                                                                                                                                                                                                                                                                                                                                       Title. I’m starting the keto diet so what would you guys recommend. To go more in depth, what type of meats and food variants. All I can come up with are eggs, steak and bacon because that’s pretty much what I eat right now that’s keto related. Can you guys expand my food list so I have more to eat and more nutritional foods. Thanks guys.   \n",
       "3                                                                                                                                                                                                                                                                                                                                                                                                                                                                                                                                                                                                                                                                                                                                                                                                                                                                                                                                                                                                                                                                                                                                                                                                                                                                                                                                                                                                                                                                                                                                                                                                                                                           Hi,\\nMy name is Robert and I’ve been on keto for a couple of years now, i am 5’9 and the Withings scale saids I’m 127.8 lbs, 10.7 body fat. My friends started calling me Steve because im starting to look like steve job’s before he passed away. I’ve been trying to gain some muscle for the past 2 months but it seems im not getting anywhere. Is it possible to builk without letting the fat percentage going up? Thanks   \n",
       "4                                                                                                                                                                                                                                                                                                                                                                                                                                                                                                                                                                                                                                                                                                                                                                                                                                                                                                                                                                                                                                                                                                                                                                                                                                                                                                                                                                                                                                                                                                                                                                                                                                                                                                                                                Pdf Delicious Keto Recipes Please note this is a digital download Are you looking into the Keto diet? Unsure of what the foods are like? Well there all your favorite foods, for just a sample of things to try, this sampler \\n\\n[Get Your E-book Now](https://drive.google.com/file/d/1OlwMGWWa9YYFaA52-Dyu-MHfB5DkZ3pN/view?usp=sharing)   \n",
       "\n",
       "   subreddit_subscribers  created_utc         created_time  \\\n",
       "0                2372343   1619058942  2021-04-22 10:35:42   \n",
       "1                2372316   1619056688  2021-04-22 09:58:08   \n",
       "2                2372310   1619055661  2021-04-22 09:41:01   \n",
       "3                2372305   1619055323  2021-04-22 09:35:23   \n",
       "4                2372300   1619055061  2021-04-22 09:31:01   \n",
       "\n",
       "   length_of_time(sec)  num_of_comments  score  \\\n",
       "0                 4702                0      1   \n",
       "1                 6956                0      1   \n",
       "2                 7983                0      1   \n",
       "3                 8321                0      1   \n",
       "4                 8583                0      1   \n",
       "\n",
       "                                                                                                                                                                                                                                                                                                                                                                                                                                                                                                                                                                                                                                                                                                                                                                                                                                                                                                                                                                                                                                                                                                                                                                                                                                                                                                                                                                                                                                                                                                                                                                                                                                                                                                                                                                                                                                                                                                                                                                                                                                                                                                             text  \\\n",
       "0  Allulose is amazing! Guys, I'm not kidding. It's like a fucking natural miracle drug.\\n\\nAbout a month ago, I posted about how allulose is like [Ex-Lax](https://www.reddit.com/r/keto/comments/mbiksm/allulose_better_than_exlax/?utm_source=share&amp;utm_medium=web2x&amp;context=3). I stopped using it for a while, but I recently found out that not only does it not spike your blood glucose, it can actually make your blood glucose [go down](https://www.reddit.com/r/diabetes_t2/comments/mtic7m/eating_fruits_with_allulose/?utm_source=share&amp;utm_medium=web2x&amp;context=3). I'm not the only one who's experienced [this](https://www.reddit.com/r/diabetes_t2/comments/mv9djm/allulose_what_the_heck_is_going_on/?utm_source=share&amp;utm_medium=web2x&amp;context=3).\\n\\nI found out that the Ex-Lax effect is basically the allulose blocking the metabolism of certain carbohydrates. Here's an excerpt from the Wikipedia [article](https://en.wikipedia.org/wiki/Psicose):\\n\\n&gt;Allulose is a weak inhibitor of the enzymes α-glucosidase, α-amylase, maltase, and sucrase.\\[2\\] Because of this, it can inhibit the metabolism of starch and disaccharides into monosaccharides in the gastrointestinal tract.\\[2\\] Additionally, allulose inhibits the absorption of glucose via transporters in the intestines.\\[2\\] For these reasons, allulose has potential antihyperglycemic effects, and has been found to reduce postprandial hyperglycemia in humans.\\[2\\]\\[9\\]\\n\\nNo only does it block metabolism of carbs, it can lower cholesterol (if you care about such trivialities, that is):\\n\\n&gt;Through modulation of lipogenic enzymes in the liver, allulose may also have antihyperlipidemic effects.\\[2\\]\\[9\\]\\n\\nThe 2nd link above cites a bunch of studies of the antihyperglycemic effects of allulose, but there's another study that shows that it can protect the [beta cells](https://www.researchgate.net/publication/230644405_Rare_sugar_D-psicose_protects_pancreas_b-islets_and_thus_improves_insulin_resistance_in_OLETF_rats) in the pancreas as well.   \n",
       "1                                                                                                                                    Here we go again. I formerly weighed 435 lbs and I lost 125 eating ketogenically for two years. I felt great, I was motivated in all aspects of life, but I did it for the wrong reasons. I did it because I hated myself. The day I started keto I remember the conversation I had with myself. I was severely depressed, I was ready to take drastic action in the worst way. I decided to try one last thing I would cut out everything I thought I loved - friends, Taco Bell, video games. I thought the only way to get myself to move forward was to torture myself. And I did it for two years. The results were amazing and I felt the best I ever felt but I also had the lingering sense of despair and self loathing. I gained all the weight back over the next two years and then some. I gave up on myself, I didn’t see the value of me being around. I was living in filth, I smelt bad, my hair was stupid long. I was a total embarrassment only bringing myself together to go work and even then minimal effort. \\n\\nI’m back. Two weeks ago I decided to go back to keto for me. Because I want better, because I want to be around. I want to not be embarrassed of myself when I walk into a room, or down a street or looking in the mirror. I want to not worry about having a heart attack and dying leaving behind loved ones. Some of the people I hold dearest to my heart try to convince me to get the surgery. But I already learned the hard way that it isn’t just the weight and that it was the mentality I’ve lived with for the last 15 years. I need to break that mentality and the only way for me to do it is to work through it with the right mindset. \\n\\nI’m starting at what I would guess is 475 lbs. I know I already lost weight but I don’t have a scale that can weigh me. I don’t know if anyone cares or if anyone can relate to this but I needed to get this off of my chest. Thanks everyone. Good luck out there.   \n",
       "2                                                                                                                                                                                                                                                                                                                                                                                                                                                                                                                                                                                                                                                                                                                                                                                                                                                                                                                                                                                                                                                                                                                                                                                                                                                                                                                                                                                                                                                                                                                                                                                                                                                                                                               What foods would you guys recommend on keto? Title. I’m starting the keto diet so what would you guys recommend. To go more in depth, what type of meats and food variants. All I can come up with are eggs, steak and bacon because that’s pretty much what I eat right now that’s keto related. Can you guys expand my food list so I have more to eat and more nutritional foods. Thanks guys.   \n",
       "3                                                                                                                                                                                                                                                                                                                                                                                                                                                                                                                                                                                                                                                                                                                                                                                                                                                                                                                                                                                                                                                                                                                                                                                                                                                                                                                                                                                                                                                                                                                                                                                                                                        Help, Difficult to gain muscle on keto. Hi,\\nMy name is Robert and I’ve been on keto for a couple of years now, i am 5’9 and the Withings scale saids I’m 127.8 lbs, 10.7 body fat. My friends started calling me Steve because im starting to look like steve job’s before he passed away. I’ve been trying to gain some muscle for the past 2 months but it seems im not getting anywhere. Is it possible to builk without letting the fat percentage going up? Thanks   \n",
       "4                                                                                                                                                                                                                                                                                                                                                                                                                                                                                                                                                                                                                                                                                                                                                                                                                                                                                                                                                                                                                                                                                                                                                                                                                                                                                                                                                                                                                                                                                                                                                                                                                                                                            Keto Easy Healthy Recipes For Beginners - Best &amp; Delicious - E-Book Free E-Book pdf  Pdf Delicious Keto Recipes Please note this is a digital download Are you looking into the Keto diet? Unsure of what the foods are like? Well there all your favorite foods, for just a sample of things to try, this sampler \\n\\n[Get Your E-book Now](https://drive.google.com/file/d/1OlwMGWWa9YYFaA52-Dyu-MHfB5DkZ3pN/view?usp=sharing)   \n",
       "\n",
       "   post_length  \n",
       "0          211  \n",
       "1          385  \n",
       "2           74  \n",
       "3           86  \n",
       "4           61  "
      ]
     },
     "execution_count": 18,
     "metadata": {},
     "output_type": "execute_result"
    }
   ],
   "source": [
    "# To verify the added columns\n",
    "keto_scraped.head()"
   ]
  },
  {
   "cell_type": "markdown",
   "metadata": {},
   "source": [
    "- Checking for Duplicates"
   ]
  },
  {
   "cell_type": "code",
   "execution_count": 19,
   "metadata": {},
   "outputs": [
    {
     "name": "stdout",
     "output_type": "stream",
     "text": [
      "Before drop duplicate for vegan_scraped: (1000, 13)\n",
      "After drop duplicate for vegan_scraped:: (1000, 13)\n"
     ]
    }
   ],
   "source": [
    "print(\"Before drop duplicate for vegan_scraped: \"+str(vegan_scraped.shape))\n",
    "# Dropping all duplicate posts using the 'id' column as the unique identifier.\n",
    "vegan_scraped.drop_duplicates(subset='id', keep='last', ignore_index=True, inplace=True)\n",
    "print(\"After drop duplicate for vegan_scraped:: \"+str(vegan_scraped.shape))"
   ]
  },
  {
   "cell_type": "code",
   "execution_count": 20,
   "metadata": {},
   "outputs": [
    {
     "name": "stdout",
     "output_type": "stream",
     "text": [
      "Before drop duplicate for keto_scraped: (1000, 13)\n",
      "After drop duplicate for keto_scraped:: (1000, 13)\n"
     ]
    }
   ],
   "source": [
    "print(\"Before drop duplicate for keto_scraped: \"+str(keto_scraped.shape))\n",
    "# Dropping all duplicate posts using the 'id' column as the unique identifier.\n",
    "vegan_scraped.drop_duplicates(subset='id', keep='last', ignore_index=True, inplace=True)\n",
    "print(\"After drop duplicate for keto_scraped:: \"+str(keto_scraped.shape))"
   ]
  },
  {
   "cell_type": "markdown",
   "metadata": {},
   "source": [
    "### Text Clean Function\n",
    "To clean text column based on the following execution :\n",
    "\n",
    "1. To remove any and all HTML artefacts\n",
    "2. To expend all contractions\n",
    "3. To remove all numbers, punctuations and special characters (keep '-' only).\n",
    "4. To lowercase\n",
    "5. To tokenize english words except one or more ('+', \\w' and'-').\n",
    "6. To remove stopwords using the english stopwords list from nltk.corpus.\n",
    "7. To remove subreddit name from text (to avoid target leakage).\n",
    "8. To stem the text using PorterStemmer"
   ]
  },
  {
   "cell_type": "code",
   "execution_count": 21,
   "metadata": {},
   "outputs": [],
   "source": [
    "# fuction to clean the text\n",
    "def clean_text(text_raw):\n",
    "    # To remove any and all HTML artefacts\n",
    "    text_no_html = BeautifulSoup(text_raw).get_text()\n",
    "    # To expend all contractions\n",
    "    text_expend_contractions = contractions.fix(text_no_html)\n",
    "    # To remove all numbers, punctuations and special characters (keep '-' only).\n",
    "    text_no_punc = re.sub(r'[^A-Za-z\\-\\s]', ' ', text_expend_contractions)\n",
    "    # To lowercase\n",
    "    text_to_lower=text_no_punc.lower()\n",
    "    # To tokenize english words except one or more ('+', \\w' and'-').\n",
    "    text_tokens_list = RegexpTokenizer(r'[\\w\\-]+').tokenize(text_to_lower)\n",
    "    # To remove stopwords using the english stopwords list from nltk.corpus.\n",
    "    text_stopwords_removed = [word for word in text_tokens_list if word not in set(stopwords.words('english'))]\n",
    "    # To remove subreddit name from text (to avoid target leakage).\n",
    "    text_remove_subreddit = [word for word in text_stopwords_removed if word not in set(['vegan', 'keto'])]\n",
    "    # To stem the text using PorterStemmer\n",
    "    text_stemmed = [PorterStemmer().stem(word) for word in text_remove_subreddit]\n",
    "    return \" \".join(text_stemmed)"
   ]
  },
  {
   "cell_type": "code",
   "execution_count": 22,
   "metadata": {},
   "outputs": [
    {
     "name": "stdout",
     "output_type": "stream",
     "text": [
      "\n",
      "Cleaning posts from Vegan Scraped Post\n",
      "\n",
      "100 posts cleaned.\n",
      "200 posts cleaned.\n",
      "300 posts cleaned.\n",
      "400 posts cleaned.\n",
      "500 posts cleaned.\n",
      "600 posts cleaned.\n",
      "700 posts cleaned.\n",
      "800 posts cleaned.\n",
      "900 posts cleaned.\n",
      "1000 posts cleaned.\n",
      "\n",
      "All 1000 posts from Vegan cleaned.\n",
      "\n",
      "Cleaning posts from Keto Scraped Post\n",
      "\n",
      "100 posts cleaned.\n",
      "200 posts cleaned.\n",
      "300 posts cleaned.\n",
      "400 posts cleaned.\n",
      "500 posts cleaned.\n",
      "600 posts cleaned.\n",
      "700 posts cleaned.\n",
      "800 posts cleaned.\n",
      "900 posts cleaned.\n",
      "1000 posts cleaned.\n",
      "\n",
      "All 1000 posts from Keto cleaned.\n"
     ]
    }
   ],
   "source": [
    "# To add cleaned text into 'text_cleaned' field into both vagan_scraped and keto_scraped \n",
    "vegan_clean_text = []\n",
    "keto_clean_text = []\n",
    "\n",
    "print(\"\\nCleaning posts from Vegan Scraped Post\\n\")\n",
    "counter = 0\n",
    "for i, post in enumerate(vegan_scraped['text']):\n",
    "    \n",
    "    vegan_clean_text.append(clean_text(post))\n",
    "    \n",
    "    counter += 1\n",
    "    if counter % 100 == 0:\n",
    "        print(f\"{counter} posts cleaned.\")\n",
    "        \n",
    "print(f\"\\nAll {vegan_scraped.shape[0]} posts from Vegan cleaned.\")\n",
    "\n",
    "vegan_scraped['text_cleaned'] = vegan_clean_text\n",
    "\n",
    "print(\"\\nCleaning posts from Keto Scraped Post\\n\")\n",
    "\n",
    "counter = 0\n",
    "for i, post in enumerate(keto_scraped['text']):\n",
    "    \n",
    "    keto_clean_text.append(clean_text(post))\n",
    "    \n",
    "    counter += 1\n",
    "    if counter % 100 == 0:\n",
    "        print(f\"{counter} posts cleaned.\")\n",
    "        \n",
    "print(f\"\\nAll {keto_scraped.shape[0]} posts from Keto cleaned.\")\n",
    "\n",
    "keto_scraped['text_cleaned'] = keto_clean_text"
   ]
  },
  {
   "cell_type": "code",
   "execution_count": 23,
   "metadata": {},
   "outputs": [
    {
     "data": {
      "text/html": [
       "<div>\n",
       "<style scoped>\n",
       "    .dataframe tbody tr th:only-of-type {\n",
       "        vertical-align: middle;\n",
       "    }\n",
       "\n",
       "    .dataframe tbody tr th {\n",
       "        vertical-align: top;\n",
       "    }\n",
       "\n",
       "    .dataframe thead th {\n",
       "        text-align: right;\n",
       "    }\n",
       "</style>\n",
       "<table border=\"1\" class=\"dataframe\">\n",
       "  <thead>\n",
       "    <tr style=\"text-align: right;\">\n",
       "      <th></th>\n",
       "      <th>subreddit</th>\n",
       "      <th>id</th>\n",
       "      <th>author</th>\n",
       "      <th>title</th>\n",
       "      <th>selftext</th>\n",
       "      <th>subreddit_subscribers</th>\n",
       "      <th>created_utc</th>\n",
       "      <th>created_time</th>\n",
       "      <th>length_of_time(sec)</th>\n",
       "      <th>num_of_comments</th>\n",
       "      <th>score</th>\n",
       "      <th>text</th>\n",
       "      <th>post_length</th>\n",
       "      <th>text_cleaned</th>\n",
       "    </tr>\n",
       "  </thead>\n",
       "  <tbody>\n",
       "    <tr>\n",
       "      <th>0</th>\n",
       "      <td>vegan</td>\n",
       "      <td>mvvguj</td>\n",
       "      <td>Tytheboss16</td>\n",
       "      <td>“If people still eat meat, they might as well get it from the right place” argument?</td>\n",
       "      <td>So I’ve got a friend who runs a small-scale (about 30 head), local, organic cattle operation.  While the cows are still being raised for beef, they’re kept on grass their whole lives, never eat grain, calves are with mothers until going to butcher, and the animals are treated with (IMO) as much respect as possible, given the circumstances.  My friend also uses a FDA/Organic (idk all the govt. terminology) approved butcher.  Apparently, the butcher uses reduced-stress means of killing.  My friend’s view on his role in society is this: if people still consume meat (and will do so for the foreseeable future), then they might as well get it from a good source (whatever the definition of “good” is).  What are y’all’s opinions/thoughts on this ideology?  \\n\\nNote: I’m not trying to force an argument/opinions on anyone, just thing to start a conversation.  Also, if this question has already been posed, I apologize.</td>\n",
       "      <td>592659</td>\n",
       "      <td>1619058909</td>\n",
       "      <td>2021-04-22 10:35:09</td>\n",
       "      <td>4217</td>\n",
       "      <td>0</td>\n",
       "      <td>1</td>\n",
       "      <td>“If people still eat meat, they might as well get it from the right place” argument? So I’ve got a friend who runs a small-scale (about 30 head), local, organic cattle operation.  While the cows are still being raised for beef, they’re kept on grass their whole lives, never eat grain, calves are with mothers until going to butcher, and the animals are treated with (IMO) as much respect as possible, given the circumstances.  My friend also uses a FDA/Organic (idk all the govt. terminology) approved butcher.  Apparently, the butcher uses reduced-stress means of killing.  My friend’s view on his role in society is this: if people still consume meat (and will do so for the foreseeable future), then they might as well get it from a good source (whatever the definition of “good” is).  What are y’all’s opinions/thoughts on this ideology?  \\n\\nNote: I’m not trying to force an argument/opinions on anyone, just thing to start a conversation.  Also, if this question has already been posed, I apologize.</td>\n",
       "      <td>175</td>\n",
       "      <td>peopl still eat meat might well get right place argument got friend run small-scal head local organ cattl oper cow still rais beef kept grass whole live never eat grain calv mother go butcher anim treat go much respect possibl given circumst friend also use fda organ idk govt terminolog approv butcher appar butcher use reduced-stress mean kill friend view role societi peopl still consum meat forese futur might well get good sourc whatev definit good opinion thought ideolog note tri forc argument opinion anyon thing start convers also question alreadi pose apolog</td>\n",
       "    </tr>\n",
       "    <tr>\n",
       "      <th>1</th>\n",
       "      <td>vegan</td>\n",
       "      <td>mvv6tv</td>\n",
       "      <td>Robert1_</td>\n",
       "      <td>Hey, I'm a vegetarian that wants to take the next step. Any advice?</td>\n",
       "      <td>I've been mostly vegetarian since August last year I honestly never thought I would manage it I have been a major carnivore my entire life. Since trying to eat vegetarian I have realised how much dairy is in my diet, I'm basically substituting meat for it in most cases. Anyway, the shops that are within any reasonable distance to me have milk substitutes which I enjoy but little else. I'm thinking of shopping online are there any recommendations for cheese/butter replacements I should look at? Any general advice would be great too!</td>\n",
       "      <td>592650</td>\n",
       "      <td>1619057891</td>\n",
       "      <td>2021-04-22 10:18:11</td>\n",
       "      <td>5235</td>\n",
       "      <td>0</td>\n",
       "      <td>1</td>\n",
       "      <td>Hey, I'm a vegetarian that wants to take the next step. Any advice? I've been mostly vegetarian since August last year I honestly never thought I would manage it I have been a major carnivore my entire life. Since trying to eat vegetarian I have realised how much dairy is in my diet, I'm basically substituting meat for it in most cases. Anyway, the shops that are within any reasonable distance to me have milk substitutes which I enjoy but little else. I'm thinking of shopping online are there any recommendations for cheese/butter replacements I should look at? Any general advice would be great too!</td>\n",
       "      <td>105</td>\n",
       "      <td>hey vegetarian want take next step advic mostli vegetarian sinc august last year honestli never thought would manag major carnivor entir life sinc tri eat vegetarian realis much dairi diet basic substitut meat case anyway shop within reason distanc milk substitut enjoy littl els think shop onlin recommend chees butter replac look gener advic would great</td>\n",
       "    </tr>\n",
       "    <tr>\n",
       "      <th>2</th>\n",
       "      <td>vegan</td>\n",
       "      <td>mvudcx</td>\n",
       "      <td>vanillust</td>\n",
       "      <td>WHY ARE THERE NON VEGAN ITEMS IN THE VEGAN SECTION!!!</td>\n",
       "      <td>Basically I picked some vegan kimchi out of the vegan section from a brand that generally advertises itself as vegan. I then went back to the same section and brand and swapped flavors because i changed my mind and wanted a spicier flavor. I didnt check the new flavors label. (Big mistake on my end apparently) I went home and made some ramen and added the kimchi, ate it, and then checked the label to see how much alcohol from fermentation there was in the product. (im on a strict no alcohol medication) Anyway I see shrimp and anchovy sauce listed as ingredients!!!! What the F***!!!!! Ive been throwing up my dinner for over 30 minutes now because I cant get the thought of dead baby shrimp and anchovy’s in my body out of my head. How is this even allowed!!!!!! Never again will i not check a label. :( (Sorry if this is semi incoherent Im typing this in a sick fit of rage)</td>\n",
       "      <td>592642</td>\n",
       "      <td>1619054980</td>\n",
       "      <td>2021-04-22 09:29:40</td>\n",
       "      <td>8146</td>\n",
       "      <td>0</td>\n",
       "      <td>1</td>\n",
       "      <td>WHY ARE THERE NON VEGAN ITEMS IN THE VEGAN SECTION!!! Basically I picked some vegan kimchi out of the vegan section from a brand that generally advertises itself as vegan. I then went back to the same section and brand and swapped flavors because i changed my mind and wanted a spicier flavor. I didnt check the new flavors label. (Big mistake on my end apparently) I went home and made some ramen and added the kimchi, ate it, and then checked the label to see how much alcohol from fermentation there was in the product. (im on a strict no alcohol medication) Anyway I see shrimp and anchovy sauce listed as ingredients!!!! What the F***!!!!! Ive been throwing up my dinner for over 30 minutes now because I cant get the thought of dead baby shrimp and anchovy’s in my body out of my head. How is this even allowed!!!!!! Never again will i not check a label. :( (Sorry if this is semi incoherent Im typing this in a sick fit of rage)</td>\n",
       "      <td>175</td>\n",
       "      <td>non item section basic pick kimchi section brand gener advertis went back section brand swap flavor chang mind want spicier flavor check new flavor label big mistak end appar went home made ramen ad kimchi ate check label see much alcohol ferment product strict alcohol medic anyway see shrimp anchovi sauc list ingredi f throw dinner minut get thought dead babi shrimp anchovi bodi head even allow never check label sorri semi incoher type sick fit rage</td>\n",
       "    </tr>\n",
       "    <tr>\n",
       "      <th>3</th>\n",
       "      <td>vegan</td>\n",
       "      <td>mvu5a1</td>\n",
       "      <td>GlassRockets</td>\n",
       "      <td>Best tasting vegan protein powder?</td>\n",
       "      <td>I'm actually a vegetarian and my all time favorite protein powder is gold standard casein in the flavor chocolate supreme (I blend it with water and add salt) because it literally tastes like hot chocolate and I genuinely look forward to having my daily shakes, however I'm trying to cut back on dairy and so far have tried around 8 different protein powders, it seems like delicious vegan protein powders are few and far between. What are the best tasting ones?</td>\n",
       "      <td>592637</td>\n",
       "      <td>1619054160</td>\n",
       "      <td>2021-04-22 09:16:00</td>\n",
       "      <td>8966</td>\n",
       "      <td>0</td>\n",
       "      <td>1</td>\n",
       "      <td>Best tasting vegan protein powder? I'm actually a vegetarian and my all time favorite protein powder is gold standard casein in the flavor chocolate supreme (I blend it with water and add salt) because it literally tastes like hot chocolate and I genuinely look forward to having my daily shakes, however I'm trying to cut back on dairy and so far have tried around 8 different protein powders, it seems like delicious vegan protein powders are few and far between. What are the best tasting ones?</td>\n",
       "      <td>86</td>\n",
       "      <td>best tast protein powder actual vegetarian time favorit protein powder gold standard casein flavor chocol suprem blend water add salt liter tast like hot chocol genuin look forward daili shake howev tri cut back dairi far tri around differ protein powder seem like delici protein powder far best tast one</td>\n",
       "    </tr>\n",
       "    <tr>\n",
       "      <th>4</th>\n",
       "      <td>vegan</td>\n",
       "      <td>mvtesg</td>\n",
       "      <td>fixFriendship</td>\n",
       "      <td>Where do I get my proteins if I workout?</td>\n",
       "      <td>I want to transition from lacto-ovo vegetarian into vegan, but I am worried about where I will get my proteins without using complements.\\n\\nAs I workout quite often, my diet requires a strong presence of rich-in-protein (dairy) products -these are especial products with a few more proteins than normal-, and I would like to stop consuming those, but I do not wish to substitute them at the cost of having to buy expensive, often unhealthy, protein powders. \\n\\nI already consume a bit of those powders, but an excess may cause a huge deficit of multiple nutrients and, ofc, I wanna avoid that. I wanna go vegan without dying in the process.\\n\\nPS I haven't done as much research on vegan as I should like, what other nutrients should I be looking out for that I will be lacking when I  remove eggs and dairy from my diet.and where can I find said nutrients.\\n\\nThank you :D</td>\n",
       "      <td>592623</td>\n",
       "      <td>1619051556</td>\n",
       "      <td>2021-04-22 08:32:36</td>\n",
       "      <td>11570</td>\n",
       "      <td>0</td>\n",
       "      <td>1</td>\n",
       "      <td>Where do I get my proteins if I workout? I want to transition from lacto-ovo vegetarian into vegan, but I am worried about where I will get my proteins without using complements.\\n\\nAs I workout quite often, my diet requires a strong presence of rich-in-protein (dairy) products -these are especial products with a few more proteins than normal-, and I would like to stop consuming those, but I do not wish to substitute them at the cost of having to buy expensive, often unhealthy, protein powders. \\n\\nI already consume a bit of those powders, but an excess may cause a huge deficit of multiple nutrients and, ofc, I wanna avoid that. I wanna go vegan without dying in the process.\\n\\nPS I haven't done as much research on vegan as I should like, what other nutrients should I be looking out for that I will be lacking when I  remove eggs and dairy from my diet.and where can I find said nutrients.\\n\\nThank you :D</td>\n",
       "      <td>163</td>\n",
       "      <td>get protein workout want transit lacto-ovo vegetarian worri get protein without use complement workout quit often diet requir strong presenc rich-in-protein dairi product -these especi product protein normal- would like stop consum wish substitut cost buy expens often unhealthi protein powder alreadi consum bit powder excess may huge deficit multipl nutrient ofc want avoid want go without die process ps done much research like nutrient look lack remov egg dairi diet find said nutrient thank</td>\n",
       "    </tr>\n",
       "  </tbody>\n",
       "</table>\n",
       "</div>"
      ],
      "text/plain": [
       "  subreddit      id         author  \\\n",
       "0     vegan  mvvguj    Tytheboss16   \n",
       "1     vegan  mvv6tv       Robert1_   \n",
       "2     vegan  mvudcx      vanillust   \n",
       "3     vegan  mvu5a1   GlassRockets   \n",
       "4     vegan  mvtesg  fixFriendship   \n",
       "\n",
       "                                                                                  title  \\\n",
       "0  “If people still eat meat, they might as well get it from the right place” argument?   \n",
       "1                   Hey, I'm a vegetarian that wants to take the next step. Any advice?   \n",
       "2                                 WHY ARE THERE NON VEGAN ITEMS IN THE VEGAN SECTION!!!   \n",
       "3                                                    Best tasting vegan protein powder?   \n",
       "4                                              Where do I get my proteins if I workout?   \n",
       "\n",
       "                                                                                                                                                                                                                                                                                                                                                                                                                                                                                                                                                                                                                                                                                                                                                                                                                                                                                                                                                    selftext  \\\n",
       "0  So I’ve got a friend who runs a small-scale (about 30 head), local, organic cattle operation.  While the cows are still being raised for beef, they’re kept on grass their whole lives, never eat grain, calves are with mothers until going to butcher, and the animals are treated with (IMO) as much respect as possible, given the circumstances.  My friend also uses a FDA/Organic (idk all the govt. terminology) approved butcher.  Apparently, the butcher uses reduced-stress means of killing.  My friend’s view on his role in society is this: if people still consume meat (and will do so for the foreseeable future), then they might as well get it from a good source (whatever the definition of “good” is).  What are y’all’s opinions/thoughts on this ideology?  \\n\\nNote: I’m not trying to force an argument/opinions on anyone, just thing to start a conversation.  Also, if this question has already been posed, I apologize.   \n",
       "1                                                                                                                                                                                                                                                                                                                                                                                                  I've been mostly vegetarian since August last year I honestly never thought I would manage it I have been a major carnivore my entire life. Since trying to eat vegetarian I have realised how much dairy is in my diet, I'm basically substituting meat for it in most cases. Anyway, the shops that are within any reasonable distance to me have milk substitutes which I enjoy but little else. I'm thinking of shopping online are there any recommendations for cheese/butter replacements I should look at? Any general advice would be great too!   \n",
       "2                                          Basically I picked some vegan kimchi out of the vegan section from a brand that generally advertises itself as vegan. I then went back to the same section and brand and swapped flavors because i changed my mind and wanted a spicier flavor. I didnt check the new flavors label. (Big mistake on my end apparently) I went home and made some ramen and added the kimchi, ate it, and then checked the label to see how much alcohol from fermentation there was in the product. (im on a strict no alcohol medication) Anyway I see shrimp and anchovy sauce listed as ingredients!!!! What the F***!!!!! Ive been throwing up my dinner for over 30 minutes now because I cant get the thought of dead baby shrimp and anchovy’s in my body out of my head. How is this even allowed!!!!!! Never again will i not check a label. :( (Sorry if this is semi incoherent Im typing this in a sick fit of rage)   \n",
       "3                                                                                                                                                                                                                                                                                                                                                                                                                                                                             I'm actually a vegetarian and my all time favorite protein powder is gold standard casein in the flavor chocolate supreme (I blend it with water and add salt) because it literally tastes like hot chocolate and I genuinely look forward to having my daily shakes, however I'm trying to cut back on dairy and so far have tried around 8 different protein powders, it seems like delicious vegan protein powders are few and far between. What are the best tasting ones?   \n",
       "4                                                I want to transition from lacto-ovo vegetarian into vegan, but I am worried about where I will get my proteins without using complements.\\n\\nAs I workout quite often, my diet requires a strong presence of rich-in-protein (dairy) products -these are especial products with a few more proteins than normal-, and I would like to stop consuming those, but I do not wish to substitute them at the cost of having to buy expensive, often unhealthy, protein powders. \\n\\nI already consume a bit of those powders, but an excess may cause a huge deficit of multiple nutrients and, ofc, I wanna avoid that. I wanna go vegan without dying in the process.\\n\\nPS I haven't done as much research on vegan as I should like, what other nutrients should I be looking out for that I will be lacking when I  remove eggs and dairy from my diet.and where can I find said nutrients.\\n\\nThank you :D   \n",
       "\n",
       "   subreddit_subscribers  created_utc         created_time  \\\n",
       "0                 592659   1619058909  2021-04-22 10:35:09   \n",
       "1                 592650   1619057891  2021-04-22 10:18:11   \n",
       "2                 592642   1619054980  2021-04-22 09:29:40   \n",
       "3                 592637   1619054160  2021-04-22 09:16:00   \n",
       "4                 592623   1619051556  2021-04-22 08:32:36   \n",
       "\n",
       "   length_of_time(sec)  num_of_comments  score  \\\n",
       "0                 4217                0      1   \n",
       "1                 5235                0      1   \n",
       "2                 8146                0      1   \n",
       "3                 8966                0      1   \n",
       "4                11570                0      1   \n",
       "\n",
       "                                                                                                                                                                                                                                                                                                                                                                                                                                                                                                                                                                                                                                                                                                                                                                                                                                                                                                                                                                                                                                             text  \\\n",
       "0  “If people still eat meat, they might as well get it from the right place” argument? So I’ve got a friend who runs a small-scale (about 30 head), local, organic cattle operation.  While the cows are still being raised for beef, they’re kept on grass their whole lives, never eat grain, calves are with mothers until going to butcher, and the animals are treated with (IMO) as much respect as possible, given the circumstances.  My friend also uses a FDA/Organic (idk all the govt. terminology) approved butcher.  Apparently, the butcher uses reduced-stress means of killing.  My friend’s view on his role in society is this: if people still consume meat (and will do so for the foreseeable future), then they might as well get it from a good source (whatever the definition of “good” is).  What are y’all’s opinions/thoughts on this ideology?  \\n\\nNote: I’m not trying to force an argument/opinions on anyone, just thing to start a conversation.  Also, if this question has already been posed, I apologize.   \n",
       "1                                                                                                                                                                                                                                                                                                                                                                                                                   Hey, I'm a vegetarian that wants to take the next step. Any advice? I've been mostly vegetarian since August last year I honestly never thought I would manage it I have been a major carnivore my entire life. Since trying to eat vegetarian I have realised how much dairy is in my diet, I'm basically substituting meat for it in most cases. Anyway, the shops that are within any reasonable distance to me have milk substitutes which I enjoy but little else. I'm thinking of shopping online are there any recommendations for cheese/butter replacements I should look at? Any general advice would be great too!   \n",
       "2                                                                         WHY ARE THERE NON VEGAN ITEMS IN THE VEGAN SECTION!!! Basically I picked some vegan kimchi out of the vegan section from a brand that generally advertises itself as vegan. I then went back to the same section and brand and swapped flavors because i changed my mind and wanted a spicier flavor. I didnt check the new flavors label. (Big mistake on my end apparently) I went home and made some ramen and added the kimchi, ate it, and then checked the label to see how much alcohol from fermentation there was in the product. (im on a strict no alcohol medication) Anyway I see shrimp and anchovy sauce listed as ingredients!!!! What the F***!!!!! Ive been throwing up my dinner for over 30 minutes now because I cant get the thought of dead baby shrimp and anchovy’s in my body out of my head. How is this even allowed!!!!!! Never again will i not check a label. :( (Sorry if this is semi incoherent Im typing this in a sick fit of rage)   \n",
       "3                                                                                                                                                                                                                                                                                                                                                                                                                                                                                                                               Best tasting vegan protein powder? I'm actually a vegetarian and my all time favorite protein powder is gold standard casein in the flavor chocolate supreme (I blend it with water and add salt) because it literally tastes like hot chocolate and I genuinely look forward to having my daily shakes, however I'm trying to cut back on dairy and so far have tried around 8 different protein powders, it seems like delicious vegan protein powders are few and far between. What are the best tasting ones?   \n",
       "4                                                                                            Where do I get my proteins if I workout? I want to transition from lacto-ovo vegetarian into vegan, but I am worried about where I will get my proteins without using complements.\\n\\nAs I workout quite often, my diet requires a strong presence of rich-in-protein (dairy) products -these are especial products with a few more proteins than normal-, and I would like to stop consuming those, but I do not wish to substitute them at the cost of having to buy expensive, often unhealthy, protein powders. \\n\\nI already consume a bit of those powders, but an excess may cause a huge deficit of multiple nutrients and, ofc, I wanna avoid that. I wanna go vegan without dying in the process.\\n\\nPS I haven't done as much research on vegan as I should like, what other nutrients should I be looking out for that I will be lacking when I  remove eggs and dairy from my diet.and where can I find said nutrients.\\n\\nThank you :D   \n",
       "\n",
       "   post_length  \\\n",
       "0          175   \n",
       "1          105   \n",
       "2          175   \n",
       "3           86   \n",
       "4          163   \n",
       "\n",
       "                                                                                                                                                                                                                                                                                                                                                                                                                                                                                                                                                                               text_cleaned  \n",
       "0  peopl still eat meat might well get right place argument got friend run small-scal head local organ cattl oper cow still rais beef kept grass whole live never eat grain calv mother go butcher anim treat go much respect possibl given circumst friend also use fda organ idk govt terminolog approv butcher appar butcher use reduced-stress mean kill friend view role societi peopl still consum meat forese futur might well get good sourc whatev definit good opinion thought ideolog note tri forc argument opinion anyon thing start convers also question alreadi pose apolog  \n",
       "1                                                                                                                                                                                                                       hey vegetarian want take next step advic mostli vegetarian sinc august last year honestli never thought would manag major carnivor entir life sinc tri eat vegetarian realis much dairi diet basic substitut meat case anyway shop within reason distanc milk substitut enjoy littl els think shop onlin recommend chees butter replac look gener advic would great  \n",
       "2                                                                                                                    non item section basic pick kimchi section brand gener advertis went back section brand swap flavor chang mind want spicier flavor check new flavor label big mistak end appar went home made ramen ad kimchi ate check label see much alcohol ferment product strict alcohol medic anyway see shrimp anchovi sauc list ingredi f throw dinner minut get thought dead babi shrimp anchovi bodi head even allow never check label sorri semi incoher type sick fit rage  \n",
       "3                                                                                                                                                                                                                                                                          best tast protein powder actual vegetarian time favorit protein powder gold standard casein flavor chocol suprem blend water add salt liter tast like hot chocol genuin look forward daili shake howev tri cut back dairi far tri around differ protein powder seem like delici protein powder far best tast one  \n",
       "4                                                                           get protein workout want transit lacto-ovo vegetarian worri get protein without use complement workout quit often diet requir strong presenc rich-in-protein dairi product -these especi product protein normal- would like stop consum wish substitut cost buy expens often unhealthi protein powder alreadi consum bit powder excess may huge deficit multipl nutrient ofc want avoid want go without die process ps done much research like nutrient look lack remov egg dairi diet find said nutrient thank  "
      ]
     },
     "execution_count": 23,
     "metadata": {},
     "output_type": "execute_result"
    }
   ],
   "source": [
    "# to view the top 5 posts in vegan_scraped\n",
    "vegan_scraped.head()"
   ]
  },
  {
   "cell_type": "code",
   "execution_count": 24,
   "metadata": {},
   "outputs": [
    {
     "data": {
      "text/html": [
       "<div>\n",
       "<style scoped>\n",
       "    .dataframe tbody tr th:only-of-type {\n",
       "        vertical-align: middle;\n",
       "    }\n",
       "\n",
       "    .dataframe tbody tr th {\n",
       "        vertical-align: top;\n",
       "    }\n",
       "\n",
       "    .dataframe thead th {\n",
       "        text-align: right;\n",
       "    }\n",
       "</style>\n",
       "<table border=\"1\" class=\"dataframe\">\n",
       "  <thead>\n",
       "    <tr style=\"text-align: right;\">\n",
       "      <th></th>\n",
       "      <th>subreddit</th>\n",
       "      <th>id</th>\n",
       "      <th>author</th>\n",
       "      <th>title</th>\n",
       "      <th>selftext</th>\n",
       "      <th>subreddit_subscribers</th>\n",
       "      <th>created_utc</th>\n",
       "      <th>created_time</th>\n",
       "      <th>length_of_time(sec)</th>\n",
       "      <th>num_of_comments</th>\n",
       "      <th>score</th>\n",
       "      <th>text</th>\n",
       "      <th>post_length</th>\n",
       "      <th>text_cleaned</th>\n",
       "    </tr>\n",
       "  </thead>\n",
       "  <tbody>\n",
       "    <tr>\n",
       "      <th>0</th>\n",
       "      <td>keto</td>\n",
       "      <td>mvvh65</td>\n",
       "      <td>freddyt55555</td>\n",
       "      <td>Allulose is amazing!</td>\n",
       "      <td>Guys, I'm not kidding. It's like a fucking natural miracle drug.\\n\\nAbout a month ago, I posted about how allulose is like [Ex-Lax](https://www.reddit.com/r/keto/comments/mbiksm/allulose_better_than_exlax/?utm_source=share&amp;amp;utm_medium=web2x&amp;amp;context=3). I stopped using it for a while, but I recently found out that not only does it not spike your blood glucose, it can actually make your blood glucose [go down](https://www.reddit.com/r/diabetes_t2/comments/mtic7m/eating_fruits_with_allulose/?utm_source=share&amp;amp;utm_medium=web2x&amp;amp;context=3). I'm not the only one who's experienced [this](https://www.reddit.com/r/diabetes_t2/comments/mv9djm/allulose_what_the_heck_is_going_on/?utm_source=share&amp;amp;utm_medium=web2x&amp;amp;context=3).\\n\\nI found out that the Ex-Lax effect is basically the allulose blocking the metabolism of certain carbohydrates. Here's an excerpt from the Wikipedia [article](https://en.wikipedia.org/wiki/Psicose):\\n\\n&amp;gt;Allulose is a weak inhibitor of the enzymes α-glucosidase, α-amylase, maltase, and sucrase.\\[2\\] Because of this, it can inhibit the metabolism of starch and disaccharides into monosaccharides in the gastrointestinal tract.\\[2\\] Additionally, allulose inhibits the absorption of glucose via transporters in the intestines.\\[2\\] For these reasons, allulose has potential antihyperglycemic effects, and has been found to reduce postprandial hyperglycemia in humans.\\[2\\]\\[9\\]\\n\\nNo only does it block metabolism of carbs, it can lower cholesterol (if you care about such trivialities, that is):\\n\\n&amp;gt;Through modulation of lipogenic enzymes in the liver, allulose may also have antihyperlipidemic effects.\\[2\\]\\[9\\]\\n\\nThe 2nd link above cites a bunch of studies of the antihyperglycemic effects of allulose, but there's another study that shows that it can protect the [beta cells](https://www.researchgate.net/publication/230644405_Rare_sugar_D-psicose_protects_pancreas_b-islets_and_thus_improves_insulin_resistance_in_OLETF_rats) in the pancreas as well.</td>\n",
       "      <td>2372343</td>\n",
       "      <td>1619058942</td>\n",
       "      <td>2021-04-22 10:35:42</td>\n",
       "      <td>4702</td>\n",
       "      <td>0</td>\n",
       "      <td>1</td>\n",
       "      <td>Allulose is amazing! Guys, I'm not kidding. It's like a fucking natural miracle drug.\\n\\nAbout a month ago, I posted about how allulose is like [Ex-Lax](https://www.reddit.com/r/keto/comments/mbiksm/allulose_better_than_exlax/?utm_source=share&amp;amp;utm_medium=web2x&amp;amp;context=3). I stopped using it for a while, but I recently found out that not only does it not spike your blood glucose, it can actually make your blood glucose [go down](https://www.reddit.com/r/diabetes_t2/comments/mtic7m/eating_fruits_with_allulose/?utm_source=share&amp;amp;utm_medium=web2x&amp;amp;context=3). I'm not the only one who's experienced [this](https://www.reddit.com/r/diabetes_t2/comments/mv9djm/allulose_what_the_heck_is_going_on/?utm_source=share&amp;amp;utm_medium=web2x&amp;amp;context=3).\\n\\nI found out that the Ex-Lax effect is basically the allulose blocking the metabolism of certain carbohydrates. Here's an excerpt from the Wikipedia [article](https://en.wikipedia.org/wiki/Psicose):\\n\\n&amp;gt;Allulose is a weak inhibitor of the enzymes α-glucosidase, α-amylase, maltase, and sucrase.\\[2\\] Because of this, it can inhibit the metabolism of starch and disaccharides into monosaccharides in the gastrointestinal tract.\\[2\\] Additionally, allulose inhibits the absorption of glucose via transporters in the intestines.\\[2\\] For these reasons, allulose has potential antihyperglycemic effects, and has been found to reduce postprandial hyperglycemia in humans.\\[2\\]\\[9\\]\\n\\nNo only does it block metabolism of carbs, it can lower cholesterol (if you care about such trivialities, that is):\\n\\n&amp;gt;Through modulation of lipogenic enzymes in the liver, allulose may also have antihyperlipidemic effects.\\[2\\]\\[9\\]\\n\\nThe 2nd link above cites a bunch of studies of the antihyperglycemic effects of allulose, but there's another study that shows that it can protect the [beta cells](https://www.researchgate.net/publication/230644405_Rare_sugar_D-psicose_protects_pancreas_b-islets_and_thus_improves_insulin_resistance_in_OLETF_rats) in the pancreas as well.</td>\n",
       "      <td>211</td>\n",
       "      <td>allulos amaz guy kid like fuck natur miracl drug month ago post allulos like ex-lax http www reddit com r comment mbiksm allulos better exlax utm sourc share utm medium web x context stop use recent found spike blood glucos actual make blood glucos go http www reddit com r diabet comment mtic eat fruit allulos utm sourc share utm medium web x context one experienc http www reddit com r diabet comment mv djm allulos heck go utm sourc share utm medium web x context found ex-lax effect basic allulos block metabol certain carbohydr excerpt wikipedia articl http en wikipedia org wiki psicos allulos weak inhibitor enzym -glucosidas -amylas maltas sucras inhibit metabol starch disaccharid monosaccharid gastrointestin tract addit allulos inhibit absorpt glucos via transport intestin reason allulos potenti antihyperglycem effect found reduc postprandi hyperglycemia human block metabol carb lower cholesterol care trivial modul lipogen enzym liver allulos may also antihyperlipidem effect nd link cite bunch studi antihyperglycem effect allulos anoth studi show protect beta cell http www researchg net public rare sugar d-psicos protect pancrea b-islet thu improv insulin resist oletf rat pancrea well</td>\n",
       "    </tr>\n",
       "    <tr>\n",
       "      <th>1</th>\n",
       "      <td>keto</td>\n",
       "      <td>mvuulx</td>\n",
       "      <td>beenroasted</td>\n",
       "      <td>Here we go again.</td>\n",
       "      <td>I formerly weighed 435 lbs and I lost 125 eating ketogenically for two years. I felt great, I was motivated in all aspects of life, but I did it for the wrong reasons. I did it because I hated myself. The day I started keto I remember the conversation I had with myself. I was severely depressed, I was ready to take drastic action in the worst way. I decided to try one last thing I would cut out everything I thought I loved - friends, Taco Bell, video games. I thought the only way to get myself to move forward was to torture myself. And I did it for two years. The results were amazing and I felt the best I ever felt but I also had the lingering sense of despair and self loathing. I gained all the weight back over the next two years and then some. I gave up on myself, I didn’t see the value of me being around. I was living in filth, I smelt bad, my hair was stupid long. I was a total embarrassment only bringing myself together to go work and even then minimal effort. \\n\\nI’m back. Two weeks ago I decided to go back to keto for me. Because I want better, because I want to be around. I want to not be embarrassed of myself when I walk into a room, or down a street or looking in the mirror. I want to not worry about having a heart attack and dying leaving behind loved ones. Some of the people I hold dearest to my heart try to convince me to get the surgery. But I already learned the hard way that it isn’t just the weight and that it was the mentality I’ve lived with for the last 15 years. I need to break that mentality and the only way for me to do it is to work through it with the right mindset. \\n\\nI’m starting at what I would guess is 475 lbs. I know I already lost weight but I don’t have a scale that can weigh me. I don’t know if anyone cares or if anyone can relate to this but I needed to get this off of my chest. Thanks everyone. Good luck out there.</td>\n",
       "      <td>2372316</td>\n",
       "      <td>1619056688</td>\n",
       "      <td>2021-04-22 09:58:08</td>\n",
       "      <td>6956</td>\n",
       "      <td>0</td>\n",
       "      <td>1</td>\n",
       "      <td>Here we go again. I formerly weighed 435 lbs and I lost 125 eating ketogenically for two years. I felt great, I was motivated in all aspects of life, but I did it for the wrong reasons. I did it because I hated myself. The day I started keto I remember the conversation I had with myself. I was severely depressed, I was ready to take drastic action in the worst way. I decided to try one last thing I would cut out everything I thought I loved - friends, Taco Bell, video games. I thought the only way to get myself to move forward was to torture myself. And I did it for two years. The results were amazing and I felt the best I ever felt but I also had the lingering sense of despair and self loathing. I gained all the weight back over the next two years and then some. I gave up on myself, I didn’t see the value of me being around. I was living in filth, I smelt bad, my hair was stupid long. I was a total embarrassment only bringing myself together to go work and even then minimal effort. \\n\\nI’m back. Two weeks ago I decided to go back to keto for me. Because I want better, because I want to be around. I want to not be embarrassed of myself when I walk into a room, or down a street or looking in the mirror. I want to not worry about having a heart attack and dying leaving behind loved ones. Some of the people I hold dearest to my heart try to convince me to get the surgery. But I already learned the hard way that it isn’t just the weight and that it was the mentality I’ve lived with for the last 15 years. I need to break that mentality and the only way for me to do it is to work through it with the right mindset. \\n\\nI’m starting at what I would guess is 475 lbs. I know I already lost weight but I don’t have a scale that can weigh me. I don’t know if anyone cares or if anyone can relate to this but I needed to get this off of my chest. Thanks everyone. Good luck out there.</td>\n",
       "      <td>385</td>\n",
       "      <td>go formerli weigh lb lost eat ketogen two year felt great motiv aspect life wrong reason hate day start rememb convers sever depress readi take drastic action worst way decid tri one last thing would cut everyth thought love - friend taco bell video game thought way get move forward tortur two year result amaz felt best ever felt also linger sens despair self loath gain weight back next two year gave see valu around live filth smelt bad hair stupid long total embarrass bring togeth go work even minim effort back two week ago decid go back want better want around want embarrass walk room street look mirror want worri heart attack die leav behind love one peopl hold dearest heart tri convinc get surgeri alreadi learn hard way weight mental live last year need break mental way work right mindset start would guess lb know alreadi lost weight scale weigh know anyon care anyon relat need get chest thank everyon good luck</td>\n",
       "    </tr>\n",
       "    <tr>\n",
       "      <th>2</th>\n",
       "      <td>keto</td>\n",
       "      <td>mvukgc</td>\n",
       "      <td>acotwo</td>\n",
       "      <td>What foods would you guys recommend on keto?</td>\n",
       "      <td>Title. I’m starting the keto diet so what would you guys recommend. To go more in depth, what type of meats and food variants. All I can come up with are eggs, steak and bacon because that’s pretty much what I eat right now that’s keto related. Can you guys expand my food list so I have more to eat and more nutritional foods. Thanks guys.</td>\n",
       "      <td>2372310</td>\n",
       "      <td>1619055661</td>\n",
       "      <td>2021-04-22 09:41:01</td>\n",
       "      <td>7983</td>\n",
       "      <td>0</td>\n",
       "      <td>1</td>\n",
       "      <td>What foods would you guys recommend on keto? Title. I’m starting the keto diet so what would you guys recommend. To go more in depth, what type of meats and food variants. All I can come up with are eggs, steak and bacon because that’s pretty much what I eat right now that’s keto related. Can you guys expand my food list so I have more to eat and more nutritional foods. Thanks guys.</td>\n",
       "      <td>74</td>\n",
       "      <td>food would guy recommend titl start diet would guy recommend go depth type meat food variant come egg steak bacon pretti much eat right relat guy expand food list eat nutrit food thank guy</td>\n",
       "    </tr>\n",
       "    <tr>\n",
       "      <th>3</th>\n",
       "      <td>keto</td>\n",
       "      <td>mvugxe</td>\n",
       "      <td>mumuchu72</td>\n",
       "      <td>Help, Difficult to gain muscle on keto.</td>\n",
       "      <td>Hi,\\nMy name is Robert and I’ve been on keto for a couple of years now, i am 5’9 and the Withings scale saids I’m 127.8 lbs, 10.7 body fat. My friends started calling me Steve because im starting to look like steve job’s before he passed away. I’ve been trying to gain some muscle for the past 2 months but it seems im not getting anywhere. Is it possible to builk without letting the fat percentage going up? Thanks</td>\n",
       "      <td>2372305</td>\n",
       "      <td>1619055323</td>\n",
       "      <td>2021-04-22 09:35:23</td>\n",
       "      <td>8321</td>\n",
       "      <td>0</td>\n",
       "      <td>1</td>\n",
       "      <td>Help, Difficult to gain muscle on keto. Hi,\\nMy name is Robert and I’ve been on keto for a couple of years now, i am 5’9 and the Withings scale saids I’m 127.8 lbs, 10.7 body fat. My friends started calling me Steve because im starting to look like steve job’s before he passed away. I’ve been trying to gain some muscle for the past 2 months but it seems im not getting anywhere. Is it possible to builk without letting the fat percentage going up? Thanks</td>\n",
       "      <td>86</td>\n",
       "      <td>help difficult gain muscl hi name robert coupl year with scale said lb bodi fat friend start call steve start look like steve job pass away tri gain muscl past month seem get anywher possibl builk without let fat percentag go thank</td>\n",
       "    </tr>\n",
       "    <tr>\n",
       "      <th>4</th>\n",
       "      <td>keto</td>\n",
       "      <td>mvue4v</td>\n",
       "      <td>Khamisanzi</td>\n",
       "      <td>Keto Easy Healthy Recipes For Beginners - Best &amp;amp; Delicious - E-Book Free E-Book pdf</td>\n",
       "      <td>Pdf Delicious Keto Recipes Please note this is a digital download Are you looking into the Keto diet? Unsure of what the foods are like? Well there all your favorite foods, for just a sample of things to try, this sampler \\n\\n[Get Your E-book Now](https://drive.google.com/file/d/1OlwMGWWa9YYFaA52-Dyu-MHfB5DkZ3pN/view?usp=sharing)</td>\n",
       "      <td>2372300</td>\n",
       "      <td>1619055061</td>\n",
       "      <td>2021-04-22 09:31:01</td>\n",
       "      <td>8583</td>\n",
       "      <td>0</td>\n",
       "      <td>1</td>\n",
       "      <td>Keto Easy Healthy Recipes For Beginners - Best &amp;amp; Delicious - E-Book Free E-Book pdf  Pdf Delicious Keto Recipes Please note this is a digital download Are you looking into the Keto diet? Unsure of what the foods are like? Well there all your favorite foods, for just a sample of things to try, this sampler \\n\\n[Get Your E-book Now](https://drive.google.com/file/d/1OlwMGWWa9YYFaA52-Dyu-MHfB5DkZ3pN/view?usp=sharing)</td>\n",
       "      <td>61</td>\n",
       "      <td>easi healthi recip beginn - best delici - e-book free e-book pdf pdf delici recip pleas note digit download look diet unsur food like well favorit food sampl thing tri sampler get e-book http drive googl com file olwmgwwa yyfaa -dyu-mhfb dkz pn view usp share</td>\n",
       "    </tr>\n",
       "  </tbody>\n",
       "</table>\n",
       "</div>"
      ],
      "text/plain": [
       "  subreddit      id        author  \\\n",
       "0      keto  mvvh65  freddyt55555   \n",
       "1      keto  mvuulx   beenroasted   \n",
       "2      keto  mvukgc        acotwo   \n",
       "3      keto  mvugxe     mumuchu72   \n",
       "4      keto  mvue4v    Khamisanzi   \n",
       "\n",
       "                                                                                     title  \\\n",
       "0                                                                     Allulose is amazing!   \n",
       "1                                                                        Here we go again.   \n",
       "2                                             What foods would you guys recommend on keto?   \n",
       "3                                                  Help, Difficult to gain muscle on keto.   \n",
       "4  Keto Easy Healthy Recipes For Beginners - Best &amp; Delicious - E-Book Free E-Book pdf   \n",
       "\n",
       "                                                                                                                                                                                                                                                                                                                                                                                                                                                                                                                                                                                                                                                                                                                                                                                                                                                                                                                                                                                                                                                                                                                                                                                                                                                                                                                                                                                                                                                                                                                                                                                                                                                                                                                                                                                                                                                                                                                                                                                                                                                                                    selftext  \\\n",
       "0  Guys, I'm not kidding. It's like a fucking natural miracle drug.\\n\\nAbout a month ago, I posted about how allulose is like [Ex-Lax](https://www.reddit.com/r/keto/comments/mbiksm/allulose_better_than_exlax/?utm_source=share&amp;utm_medium=web2x&amp;context=3). I stopped using it for a while, but I recently found out that not only does it not spike your blood glucose, it can actually make your blood glucose [go down](https://www.reddit.com/r/diabetes_t2/comments/mtic7m/eating_fruits_with_allulose/?utm_source=share&amp;utm_medium=web2x&amp;context=3). I'm not the only one who's experienced [this](https://www.reddit.com/r/diabetes_t2/comments/mv9djm/allulose_what_the_heck_is_going_on/?utm_source=share&amp;utm_medium=web2x&amp;context=3).\\n\\nI found out that the Ex-Lax effect is basically the allulose blocking the metabolism of certain carbohydrates. Here's an excerpt from the Wikipedia [article](https://en.wikipedia.org/wiki/Psicose):\\n\\n&gt;Allulose is a weak inhibitor of the enzymes α-glucosidase, α-amylase, maltase, and sucrase.\\[2\\] Because of this, it can inhibit the metabolism of starch and disaccharides into monosaccharides in the gastrointestinal tract.\\[2\\] Additionally, allulose inhibits the absorption of glucose via transporters in the intestines.\\[2\\] For these reasons, allulose has potential antihyperglycemic effects, and has been found to reduce postprandial hyperglycemia in humans.\\[2\\]\\[9\\]\\n\\nNo only does it block metabolism of carbs, it can lower cholesterol (if you care about such trivialities, that is):\\n\\n&gt;Through modulation of lipogenic enzymes in the liver, allulose may also have antihyperlipidemic effects.\\[2\\]\\[9\\]\\n\\nThe 2nd link above cites a bunch of studies of the antihyperglycemic effects of allulose, but there's another study that shows that it can protect the [beta cells](https://www.researchgate.net/publication/230644405_Rare_sugar_D-psicose_protects_pancreas_b-islets_and_thus_improves_insulin_resistance_in_OLETF_rats) in the pancreas as well.   \n",
       "1                                                                                                                                 I formerly weighed 435 lbs and I lost 125 eating ketogenically for two years. I felt great, I was motivated in all aspects of life, but I did it for the wrong reasons. I did it because I hated myself. The day I started keto I remember the conversation I had with myself. I was severely depressed, I was ready to take drastic action in the worst way. I decided to try one last thing I would cut out everything I thought I loved - friends, Taco Bell, video games. I thought the only way to get myself to move forward was to torture myself. And I did it for two years. The results were amazing and I felt the best I ever felt but I also had the lingering sense of despair and self loathing. I gained all the weight back over the next two years and then some. I gave up on myself, I didn’t see the value of me being around. I was living in filth, I smelt bad, my hair was stupid long. I was a total embarrassment only bringing myself together to go work and even then minimal effort. \\n\\nI’m back. Two weeks ago I decided to go back to keto for me. Because I want better, because I want to be around. I want to not be embarrassed of myself when I walk into a room, or down a street or looking in the mirror. I want to not worry about having a heart attack and dying leaving behind loved ones. Some of the people I hold dearest to my heart try to convince me to get the surgery. But I already learned the hard way that it isn’t just the weight and that it was the mentality I’ve lived with for the last 15 years. I need to break that mentality and the only way for me to do it is to work through it with the right mindset. \\n\\nI’m starting at what I would guess is 475 lbs. I know I already lost weight but I don’t have a scale that can weigh me. I don’t know if anyone cares or if anyone can relate to this but I needed to get this off of my chest. Thanks everyone. Good luck out there.   \n",
       "2                                                                                                                                                                                                                                                                                                                                                                                                                                                                                                                                                                                                                                                                                                                                                                                                                                                                                                                                                                                                                                                                                                                                                                                                                                                                                                                                                                                                                                                                                                                                                                                                                                                                                                                                       Title. I’m starting the keto diet so what would you guys recommend. To go more in depth, what type of meats and food variants. All I can come up with are eggs, steak and bacon because that’s pretty much what I eat right now that’s keto related. Can you guys expand my food list so I have more to eat and more nutritional foods. Thanks guys.   \n",
       "3                                                                                                                                                                                                                                                                                                                                                                                                                                                                                                                                                                                                                                                                                                                                                                                                                                                                                                                                                                                                                                                                                                                                                                                                                                                                                                                                                                                                                                                                                                                                                                                                                                                           Hi,\\nMy name is Robert and I’ve been on keto for a couple of years now, i am 5’9 and the Withings scale saids I’m 127.8 lbs, 10.7 body fat. My friends started calling me Steve because im starting to look like steve job’s before he passed away. I’ve been trying to gain some muscle for the past 2 months but it seems im not getting anywhere. Is it possible to builk without letting the fat percentage going up? Thanks   \n",
       "4                                                                                                                                                                                                                                                                                                                                                                                                                                                                                                                                                                                                                                                                                                                                                                                                                                                                                                                                                                                                                                                                                                                                                                                                                                                                                                                                                                                                                                                                                                                                                                                                                                                                                                                                                Pdf Delicious Keto Recipes Please note this is a digital download Are you looking into the Keto diet? Unsure of what the foods are like? Well there all your favorite foods, for just a sample of things to try, this sampler \\n\\n[Get Your E-book Now](https://drive.google.com/file/d/1OlwMGWWa9YYFaA52-Dyu-MHfB5DkZ3pN/view?usp=sharing)   \n",
       "\n",
       "   subreddit_subscribers  created_utc         created_time  \\\n",
       "0                2372343   1619058942  2021-04-22 10:35:42   \n",
       "1                2372316   1619056688  2021-04-22 09:58:08   \n",
       "2                2372310   1619055661  2021-04-22 09:41:01   \n",
       "3                2372305   1619055323  2021-04-22 09:35:23   \n",
       "4                2372300   1619055061  2021-04-22 09:31:01   \n",
       "\n",
       "   length_of_time(sec)  num_of_comments  score  \\\n",
       "0                 4702                0      1   \n",
       "1                 6956                0      1   \n",
       "2                 7983                0      1   \n",
       "3                 8321                0      1   \n",
       "4                 8583                0      1   \n",
       "\n",
       "                                                                                                                                                                                                                                                                                                                                                                                                                                                                                                                                                                                                                                                                                                                                                                                                                                                                                                                                                                                                                                                                                                                                                                                                                                                                                                                                                                                                                                                                                                                                                                                                                                                                                                                                                                                                                                                                                                                                                                                                                                                                                                             text  \\\n",
       "0  Allulose is amazing! Guys, I'm not kidding. It's like a fucking natural miracle drug.\\n\\nAbout a month ago, I posted about how allulose is like [Ex-Lax](https://www.reddit.com/r/keto/comments/mbiksm/allulose_better_than_exlax/?utm_source=share&amp;utm_medium=web2x&amp;context=3). I stopped using it for a while, but I recently found out that not only does it not spike your blood glucose, it can actually make your blood glucose [go down](https://www.reddit.com/r/diabetes_t2/comments/mtic7m/eating_fruits_with_allulose/?utm_source=share&amp;utm_medium=web2x&amp;context=3). I'm not the only one who's experienced [this](https://www.reddit.com/r/diabetes_t2/comments/mv9djm/allulose_what_the_heck_is_going_on/?utm_source=share&amp;utm_medium=web2x&amp;context=3).\\n\\nI found out that the Ex-Lax effect is basically the allulose blocking the metabolism of certain carbohydrates. Here's an excerpt from the Wikipedia [article](https://en.wikipedia.org/wiki/Psicose):\\n\\n&gt;Allulose is a weak inhibitor of the enzymes α-glucosidase, α-amylase, maltase, and sucrase.\\[2\\] Because of this, it can inhibit the metabolism of starch and disaccharides into monosaccharides in the gastrointestinal tract.\\[2\\] Additionally, allulose inhibits the absorption of glucose via transporters in the intestines.\\[2\\] For these reasons, allulose has potential antihyperglycemic effects, and has been found to reduce postprandial hyperglycemia in humans.\\[2\\]\\[9\\]\\n\\nNo only does it block metabolism of carbs, it can lower cholesterol (if you care about such trivialities, that is):\\n\\n&gt;Through modulation of lipogenic enzymes in the liver, allulose may also have antihyperlipidemic effects.\\[2\\]\\[9\\]\\n\\nThe 2nd link above cites a bunch of studies of the antihyperglycemic effects of allulose, but there's another study that shows that it can protect the [beta cells](https://www.researchgate.net/publication/230644405_Rare_sugar_D-psicose_protects_pancreas_b-islets_and_thus_improves_insulin_resistance_in_OLETF_rats) in the pancreas as well.   \n",
       "1                                                                                                                                    Here we go again. I formerly weighed 435 lbs and I lost 125 eating ketogenically for two years. I felt great, I was motivated in all aspects of life, but I did it for the wrong reasons. I did it because I hated myself. The day I started keto I remember the conversation I had with myself. I was severely depressed, I was ready to take drastic action in the worst way. I decided to try one last thing I would cut out everything I thought I loved - friends, Taco Bell, video games. I thought the only way to get myself to move forward was to torture myself. And I did it for two years. The results were amazing and I felt the best I ever felt but I also had the lingering sense of despair and self loathing. I gained all the weight back over the next two years and then some. I gave up on myself, I didn’t see the value of me being around. I was living in filth, I smelt bad, my hair was stupid long. I was a total embarrassment only bringing myself together to go work and even then minimal effort. \\n\\nI’m back. Two weeks ago I decided to go back to keto for me. Because I want better, because I want to be around. I want to not be embarrassed of myself when I walk into a room, or down a street or looking in the mirror. I want to not worry about having a heart attack and dying leaving behind loved ones. Some of the people I hold dearest to my heart try to convince me to get the surgery. But I already learned the hard way that it isn’t just the weight and that it was the mentality I’ve lived with for the last 15 years. I need to break that mentality and the only way for me to do it is to work through it with the right mindset. \\n\\nI’m starting at what I would guess is 475 lbs. I know I already lost weight but I don’t have a scale that can weigh me. I don’t know if anyone cares or if anyone can relate to this but I needed to get this off of my chest. Thanks everyone. Good luck out there.   \n",
       "2                                                                                                                                                                                                                                                                                                                                                                                                                                                                                                                                                                                                                                                                                                                                                                                                                                                                                                                                                                                                                                                                                                                                                                                                                                                                                                                                                                                                                                                                                                                                                                                                                                                                                                               What foods would you guys recommend on keto? Title. I’m starting the keto diet so what would you guys recommend. To go more in depth, what type of meats and food variants. All I can come up with are eggs, steak and bacon because that’s pretty much what I eat right now that’s keto related. Can you guys expand my food list so I have more to eat and more nutritional foods. Thanks guys.   \n",
       "3                                                                                                                                                                                                                                                                                                                                                                                                                                                                                                                                                                                                                                                                                                                                                                                                                                                                                                                                                                                                                                                                                                                                                                                                                                                                                                                                                                                                                                                                                                                                                                                                                                        Help, Difficult to gain muscle on keto. Hi,\\nMy name is Robert and I’ve been on keto for a couple of years now, i am 5’9 and the Withings scale saids I’m 127.8 lbs, 10.7 body fat. My friends started calling me Steve because im starting to look like steve job’s before he passed away. I’ve been trying to gain some muscle for the past 2 months but it seems im not getting anywhere. Is it possible to builk without letting the fat percentage going up? Thanks   \n",
       "4                                                                                                                                                                                                                                                                                                                                                                                                                                                                                                                                                                                                                                                                                                                                                                                                                                                                                                                                                                                                                                                                                                                                                                                                                                                                                                                                                                                                                                                                                                                                                                                                                                                                            Keto Easy Healthy Recipes For Beginners - Best &amp; Delicious - E-Book Free E-Book pdf  Pdf Delicious Keto Recipes Please note this is a digital download Are you looking into the Keto diet? Unsure of what the foods are like? Well there all your favorite foods, for just a sample of things to try, this sampler \\n\\n[Get Your E-book Now](https://drive.google.com/file/d/1OlwMGWWa9YYFaA52-Dyu-MHfB5DkZ3pN/view?usp=sharing)   \n",
       "\n",
       "   post_length  \\\n",
       "0          211   \n",
       "1          385   \n",
       "2           74   \n",
       "3           86   \n",
       "4           61   \n",
       "\n",
       "                                                                                                                                                                                                                                                                                                                                                                                                                                                                                                                                                                                                                                                                                                                                                                                                                                                                                                                                                                                                                                                                                                                                                                                                                                            text_cleaned  \n",
       "0  allulos amaz guy kid like fuck natur miracl drug month ago post allulos like ex-lax http www reddit com r comment mbiksm allulos better exlax utm sourc share utm medium web x context stop use recent found spike blood glucos actual make blood glucos go http www reddit com r diabet comment mtic eat fruit allulos utm sourc share utm medium web x context one experienc http www reddit com r diabet comment mv djm allulos heck go utm sourc share utm medium web x context found ex-lax effect basic allulos block metabol certain carbohydr excerpt wikipedia articl http en wikipedia org wiki psicos allulos weak inhibitor enzym -glucosidas -amylas maltas sucras inhibit metabol starch disaccharid monosaccharid gastrointestin tract addit allulos inhibit absorpt glucos via transport intestin reason allulos potenti antihyperglycem effect found reduc postprandi hyperglycemia human block metabol carb lower cholesterol care trivial modul lipogen enzym liver allulos may also antihyperlipidem effect nd link cite bunch studi antihyperglycem effect allulos anoth studi show protect beta cell http www researchg net public rare sugar d-psicos protect pancrea b-islet thu improv insulin resist oletf rat pancrea well  \n",
       "1                                                                                                                                                                                                                                                                                       go formerli weigh lb lost eat ketogen two year felt great motiv aspect life wrong reason hate day start rememb convers sever depress readi take drastic action worst way decid tri one last thing would cut everyth thought love - friend taco bell video game thought way get move forward tortur two year result amaz felt best ever felt also linger sens despair self loath gain weight back next two year gave see valu around live filth smelt bad hair stupid long total embarrass bring togeth go work even minim effort back two week ago decid go back want better want around want embarrass walk room street look mirror want worri heart attack die leav behind love one peopl hold dearest heart tri convinc get surgeri alreadi learn hard way weight mental live last year need break mental way work right mindset start would guess lb know alreadi lost weight scale weigh know anyon care anyon relat need get chest thank everyon good luck  \n",
       "2                                                                                                                                                                                                                                                                                                                                                                                                                                                                                                                                                                                                                                                                                                                                                                                                                                                                                                                                                                                                                                                           food would guy recommend titl start diet would guy recommend go depth type meat food variant come egg steak bacon pretti much eat right relat guy expand food list eat nutrit food thank guy  \n",
       "3                                                                                                                                                                                                                                                                                                                                                                                                                                                                                                                                                                                                                                                                                                                                                                                                                                                                                                                                                                                                                help difficult gain muscl hi name robert coupl year with scale said lb bodi fat friend start call steve start look like steve job pass away tri gain muscl past month seem get anywher possibl builk without let fat percentag go thank  \n",
       "4                                                                                                                                                                                                                                                                                                                                                                                                                                                                                                                                                                                                                                                                                                                                                                                                                                                                                                                                                                                    easi healthi recip beginn - best delici - e-book free e-book pdf pdf delici recip pleas note digit download look diet unsur food like well favorit food sampl thing tri sampler get e-book http drive googl com file olwmgwwa yyfaa -dyu-mhfb dkz pn view usp share  "
      ]
     },
     "execution_count": 24,
     "metadata": {},
     "output_type": "execute_result"
    }
   ],
   "source": [
    "# to view the top 5 posts in keto_scraped\n",
    "keto_scraped.head()"
   ]
  },
  {
   "cell_type": "markdown",
   "metadata": {},
   "source": [
    "### Exploratory Data Analysis (EDA)"
   ]
  },
  {
   "cell_type": "markdown",
   "metadata": {},
   "source": [
    "After cleaning the two subreddit datasets, the EDA process will be conducted to get a better understanding of the two subreddits and their posts before classification modeling\n"
   ]
  },
  {
   "cell_type": "markdown",
   "metadata": {},
   "source": [
    "#### No. of Subscribers "
   ]
  },
  {
   "cell_type": "markdown",
   "metadata": {},
   "source": [
    "- Checking for Subscriber comparisons between subreddits "
   ]
  },
  {
   "cell_type": "code",
   "execution_count": 25,
   "metadata": {},
   "outputs": [
    {
     "name": "stdout",
     "output_type": "stream",
     "text": [
      "No. of subscribers at 1619058942:\n",
      "subreddit vegan\t= 592659\n",
      "subreddit keto \t= 2372343\n",
      "\n",
      "Subreddit vegan only has 24.98% of subscribers as compared to no. of subscribers of subreddit keto.\n"
     ]
    }
   ],
   "source": [
    "if (vegan_scraped['created_utc'].max()>=keto_scraped['created_utc'].max()):\n",
    "    print(\"No. of subscribers at \" + str(vegan_scraped['created_utc'].max())+\":\")\n",
    "else:\n",
    "    print(\"No. of subscribers at \" + str(keto_scraped['created_utc'].max())+\":\")\n",
    "    \n",
    "print(f\"subreddit vegan\\t= {vegan_subscribers}\")\n",
    "print(f\"subreddit keto \\t= {keto_subscribers}\")\n",
    "\n",
    "print(f\"\\nSubreddit vegan only has {round(vegan_subscribers/keto_subscribers*100, 2)}% of subscribers as compared to no. of subscribers of subreddit keto.\")"
   ]
  },
  {
   "cell_type": "markdown",
   "metadata": {},
   "source": [
    "From the above data, ***the subreddit of r/keto is more active than r/vegan***. The no. of subscribers in subreddit Keto are higher by about 4 times than the no. of subscribers in subreddit vegan."
   ]
  },
  {
   "cell_type": "markdown",
   "metadata": {},
   "source": [
    "#### Average and Range of Post Length"
   ]
  },
  {
   "cell_type": "code",
   "execution_count": 26,
   "metadata": {
    "scrolled": true
   },
   "outputs": [
    {
     "name": "stdout",
     "output_type": "stream",
     "text": [
      "Average length of posts:\n",
      "r/vegan \t= 159.93 words\n",
      "r/keto \t\t= 155.82 words\n",
      "\n"
     ]
    }
   ],
   "source": [
    "# Statistics of Length of Post in both vegan and \n",
    "\n",
    "vegan_mean_post_length = vegan_scraped['post_length'].mean()\n",
    "keto_mean_post_length = keto_scraped['post_length'].mean()\n",
    "\n",
    "print(\"Average length of posts:\")\n",
    "print(f\"r/vegan \\t= {round(vegan_mean_post_length, 2)} words\")\n",
    "print(f\"r/keto \\t\\t= {round(keto_mean_post_length, 2)} words\")\n",
    "print()\n",
    "\n",
    "#print(\"Range of length of posts:\")\n",
    "#print(f\"r/vegan \\t= {vegan_scraped['post_length'].min()} - {vegan_scraped['post_length'].max()} words\")\n",
    "#print(f\"r/keto \\t\\t= {keto_scraped['post_length'].min()} - {keto_scraped['post_length'].max()} words\")\n",
    "#print()"
   ]
  },
  {
   "cell_type": "markdown",
   "metadata": {},
   "source": [
    "- This shows that even though keto has more subscribers, the average length of posts are relatively similar for both keto and vegan"
   ]
  },
  {
   "cell_type": "markdown",
   "metadata": {},
   "source": [
    "#### Plotting scatterplot based on the length of posts"
   ]
  },
  {
   "cell_type": "code",
   "execution_count": 27,
   "metadata": {},
   "outputs": [
    {
     "data": {
      "image/png": "[encoded data removed]",
      "text/plain": [
       "<Figure size 1440x720 with 1 Axes>"
      ]
     },
     "metadata": {
      "needs_background": "light"
     },
     "output_type": "display_data"
    }
   ],
   "source": [
    "# Plotting scatterplot to show no. of words per post on both subreddits.\n",
    "\n",
    "fig, ax = plt.subplots(figsize=(20,10))\n",
    "\n",
    "plt.scatter(vegan_scraped.index, vegan_scraped['post_length'], color='Green', alpha=0.2, label='vegan')\n",
    "plt.scatter(keto_scraped.index, keto_scraped['post_length'], color='Orangered', alpha=0.2, label='keto')\n",
    "\n",
    "# Plotting horizontal lines to show average no. of words for posts in both subreddits.\n",
    "plt.axhline(vegan_mean_post_length,\n",
    "            label='avg. words per post on vegan',\n",
    "            ls='--',\n",
    "            linewidth=3,\n",
    "            color='Green',\n",
    "            dash_capstyle='round',\n",
    "           )\n",
    "plt.figtext(x=0.15,\n",
    "            y=0.28,\n",
    "            s=f\"{int(round(vegan_mean_post_length, 0))} words per post on vegan (on average)\",\n",
    "            fontsize=13,\n",
    "            fontweight='semibold'\n",
    "           )\n",
    "\n",
    "plt.axhline(keto_mean_post_length,\n",
    "            label='avg. words per post on keto',\n",
    "            ls='--',\n",
    "            linewidth=3,\n",
    "            color='Orangered',\n",
    "            dash_capstyle='round',\n",
    "           )\n",
    "plt.figtext(x=0.15,\n",
    "            y=0.19,\n",
    "            s=f\"{int(round(keto_mean_post_length, 0))} words per post on keto (on average)\",\n",
    "            fontsize=13,\n",
    "            fontweight='semibold'\n",
    "           )\n",
    "\n",
    "\n",
    "plt.legend(fontsize=12)\n",
    "\n",
    "plt.xlabel(\"Posts\", fontsize=14)\n",
    "plt.ylabel(\"No. of words\", fontsize=14)\n",
    "\n",
    "plt.title(\"Scatterplot showing number of words per post on both subreddits\", loc='center', fontsize=18)\n",
    "\n",
    "# Exporting plot image in PNG format.\n",
    "plt.savefig('../plot_images/scatterplot_words_per_post.png', bbox_inches='tight');"
   ]
  },
  {
   "cell_type": "markdown",
   "metadata": {},
   "source": [
    "Based on the analysis above, ***Both subreddits, vegan and keto has similar length per post***\n",
    "159 words per post on vegan as compared to 156 words per post on keto. This may not be the significant impact on building classification model."
   ]
  },
  {
   "cell_type": "markdown",
   "metadata": {},
   "source": [
    "#### No. of Comments per post"
   ]
  },
  {
   "cell_type": "code",
   "execution_count": 28,
   "metadata": {
    "scrolled": true
   },
   "outputs": [
    {
     "name": "stdout",
     "output_type": "stream",
     "text": [
      "Average no. of comments per post:\n",
      "r/vegan \t= 14.54\n",
      "r/keto \t\t= 18.02\n",
      "\n"
     ]
    }
   ],
   "source": [
    "# Checking mean number of comments for each post.\n",
    "\n",
    "vegan_mean_comments = vegan_scraped['num_of_comments'].mean()\n",
    "keto_mean_comments = keto_scraped['num_of_comments'].mean()\n",
    "\n",
    "print(\"Average no. of comments per post:\")\n",
    "print(f\"r/vegan \\t= {round(vegan_mean_comments, 2)}\")\n",
    "print(f\"r/keto \\t\\t= {round(keto_mean_comments, 2)}\")\n",
    "print()"
   ]
  },
  {
   "cell_type": "code",
   "execution_count": 29,
   "metadata": {
    "scrolled": false
   },
   "outputs": [
    {
     "data": {
      "image/png": "[encoded data removed]",
      "text/plain": [
       "<Figure size 1008x720 with 1 Axes>"
      ]
     },
     "metadata": {
      "needs_background": "light"
     },
     "output_type": "display_data"
    }
   ],
   "source": [
    "# creating the dataset\n",
    "fig, ax = plt.subplots(figsize=(14,10))\n",
    "# creating the bar plot\n",
    "\n",
    "plt.bar(\"Vegan\", vegan_mean_comments, color ='Green',\n",
    "        width = 0.4)\n",
    "plt.bar(\"Keto\", keto_mean_comments, color ='Orangered',\n",
    "        width = 0.4)\n",
    " \n",
    "plt.xlabel(\"Subreddit\", fontsize=15)\n",
    "plt.ylabel(\"No. of comments per post in average\", fontsize=15)\n",
    "plt.title(\"Scatterplot showing number of comments per post on both subreddits\", loc='center', fontsize=18)\n",
    "plt.show()"
   ]
  },
  {
   "cell_type": "markdown",
   "metadata": {},
   "source": [
    "As seen above, ***the no. of comments for subreddit vegan are slightly lesser than the no. of comments for  keto***\n",
    "Vegan has 14 comments per post while Keto has 18 comments per post, same as difference in subscribers for both subreddits, this may indicate that the people show more interest on keto than vegan."
   ]
  },
  {
   "cell_type": "markdown",
   "metadata": {},
   "source": [
    "#### No. of posts created over time."
   ]
  },
  {
   "cell_type": "code",
   "execution_count": 30,
   "metadata": {},
   "outputs": [],
   "source": [
    "#conversion string object to data object\n",
    "vegan_scraped['created_utc'] = vegan_scraped['created_utc'].map(lambda ts: datetime.fromtimestamp(ts))\n",
    "keto_scraped['created_utc'] = keto_scraped['created_utc'].map(lambda ts: datetime.fromtimestamp(ts))"
   ]
  },
  {
   "cell_type": "code",
   "execution_count": 31,
   "metadata": {},
   "outputs": [
    {
     "name": "stdout",
     "output_type": "stream",
     "text": [
      "No. of unique posts created in given timespan:\n",
      "vegan : 1000 posts within 25 days 6 hours (from 28 Mar 2021 04:23 AM to 22 Apr 2021 10:35 AM)\n",
      "keto : \t1000  posts within 24 days 18 hours (from 28 Mar 2021 04:28 PM to 22 Apr 2021 10:35 AM)\n",
      "\n",
      "Average no. of posts created per day:\n",
      "vegan \t= 40.0\n",
      "keto \t= 41.67\n",
      "\n"
     ]
    }
   ],
   "source": [
    "# Printing a summary statement about activity on both subreddits.\n",
    "\n",
    "\n",
    "# Timespan between creation of latest post scraped and earliest post scraped .\n",
    "# Converting 'created_utc' column from epoch time to datetime object.\n",
    "# Separating no. of hours and minutes from timespans calculated above.\n",
    "\n",
    "vegan_time_diff =vegan_scraped['created_utc'].max() - vegan_scraped['created_utc'].min()\n",
    "vegan_time_diff_d = vegan_time_diff.days\n",
    "vegan_time_diff_h = (vegan_time_diff.seconds//3600)\n",
    "#vegan_time_diff_m = round((vegan_time_diff.seconds%3600)/60)\n",
    "\n",
    "\n",
    "keto_time_diff = keto_scraped['created_utc'].max() - keto_scraped['created_utc'].min()\n",
    "keto_time_diff_d = keto_time_diff.days\n",
    "keto_time_diff_h = (keto_time_diff.seconds//3600)\n",
    "#keto_time_diff_m = round((keto_time_diff.seconds%3600)/60)\n",
    "\n",
    "\n",
    "# Changing format of timestamps of earliest and latest scraped posts.\n",
    "vegan_time_start = vegan_scraped['created_utc'].min().strftime('%d %b %Y %I:%M %p')\n",
    "vegan_time_end = vegan_scraped['created_utc'].max().strftime('%d %b %Y %I:%M %p')\n",
    "\n",
    "keto_time_start = keto_scraped['created_utc'].min().strftime('%d %b %Y %I:%M %p')\n",
    "keto_time_end = keto_scraped['created_utc'].max().strftime('%d %b %Y %I:%M %p')\n",
    "\n",
    "\n",
    "# Printing the summary statement.\n",
    "print(\"No. of unique posts created in given timespan:\")\n",
    "print(f\"vegan : {vegan_scraped.shape[0]} posts within {vegan_time_diff_d} days {vegan_time_diff_h} hours (from {vegan_time_start} to {vegan_time_end})\")\n",
    "print(f\"keto : \\t{keto_scraped.shape[0]}  posts within {keto_time_diff_d} days {keto_time_diff_h} hours (from {keto_time_start} to {keto_time_end})\")\n",
    "print()\n",
    "\n",
    "# Calculating average no. of posts created per hour.\n",
    "\n",
    "vegan_avg_posts = vegan_scraped.shape[0] /vegan_time_diff.days \n",
    "keto_avg_posts = keto_scraped.shape[0] /keto_time_diff.days\n",
    "\n",
    "print(\"Average no. of posts created per day:\")\n",
    "print(f\"vegan \\t= {round(vegan_avg_posts, 2)}\")\n",
    "print(f\"keto \\t= {round(keto_avg_posts, 2)}\")\n",
    "print()"
   ]
  },
  {
   "cell_type": "code",
   "execution_count": 32,
   "metadata": {},
   "outputs": [
    {
     "data": {
      "image/png": "[encoded data removed]",
      "text/plain": [
       "<Figure size 1440x720 with 1 Axes>"
      ]
     },
     "metadata": {
      "needs_background": "light"
     },
     "output_type": "display_data"
    }
   ],
   "source": [
    "# Plotting histograms to show no. of posts created over time.\n",
    "\n",
    "fig, ax = plt.subplots(figsize=(20,10))\n",
    "\n",
    "plt.hist(vegan_scraped['created_utc'], bins=20, color='Green', alpha=0.5, label='vegan')\n",
    "plt.hist(keto_scraped['created_utc'], bins=50, color='Orangered', alpha=0.5, label='keto')\n",
    "\n",
    "\n",
    "# Plotting horizontal lines to show average no. of posts created per hour.\n",
    "plt.axhline(vegan_avg_posts, ls='--', color='Green')\n",
    "plt.figtext(x=0.15, y=0.6, s=f\"{round(vegan_avg_posts, 1)} posts created per day on vegan (on average)\", fontsize=12)\n",
    "\n",
    "plt.axhline(keto_avg_posts, ls='--', color='Orangered')\n",
    "plt.figtext(x=0.15, y=0.38, s=f\"{round(keto_avg_posts, 1)} posts created per day on keto (on average)\", fontsize=12)\n",
    "\n",
    "\n",
    "# Setting format of timestamps on X-axis\n",
    "# Code taken from https://matplotlib.org/3.1.1/gallery/text_labels_and_annotations/date.html\n",
    "date_fmt = '%d-%m-%y %H:%M:%S'\n",
    "date_formatter = mdate.DateFormatter(date_fmt)\n",
    "ax.xaxis.set_major_formatter(date_formatter)\n",
    "fig.autofmt_xdate()\n",
    "\n",
    "\n",
    "plt.legend(fontsize=14)\n",
    "\n",
    "plt.xlabel(\"Timestamps of post creation\", fontsize=14)\n",
    "plt.ylabel(\"Frequency (No. of posts created)\", fontsize=14)\n",
    "\n",
    "plt.title(\"Histogram showing distribution of posts created on both subreddits over time\", loc='center', fontsize=18)\n",
    "\n",
    "# Exporting plot image in PNG format.\n",
    "plt.savefig('../plot_images/histogram_posts_over_time.png', bbox_inches='tight');"
   ]
  },
  {
   "cell_type": "markdown",
   "metadata": {},
   "source": [
    "From the analysis above, ***by comparing the distribution of posts created on both subreddits over timethey, there are no significant difference btween the two subreddits and they are relatively similar.*** It lasts 25 days for 1000 posts from vegan compared to 24 days for 1000 posts from keto, and in average, subreddit vegan has an average of 40 posts per day in last 25 days compare to keto which only has an average of 41 posts per day in last 24 days."
   ]
  },
  {
   "cell_type": "markdown",
   "metadata": {},
   "source": [
    "## Classification Modeling"
   ]
  },
  {
   "cell_type": "markdown",
   "metadata": {},
   "source": [
    "### Model Preparation"
   ]
  },
  {
   "cell_type": "markdown",
   "metadata": {},
   "source": [
    "***Combining and shuffling the two subreddis***. "
   ]
  },
  {
   "cell_type": "code",
   "execution_count": 33,
   "metadata": {},
   "outputs": [
    {
     "name": "stdout",
     "output_type": "stream",
     "text": [
      "Merging data's shape\n",
      "(2000, 15)\n",
      "\n",
      "Checking for unbalanced classes\n",
      "1    0.5\n",
      "0    0.5\n",
      "Name: target, dtype: float64\n",
      "\n"
     ]
    },
    {
     "data": {
      "text/html": [
       "<div>\n",
       "<style scoped>\n",
       "    .dataframe tbody tr th:only-of-type {\n",
       "        vertical-align: middle;\n",
       "    }\n",
       "\n",
       "    .dataframe tbody tr th {\n",
       "        vertical-align: top;\n",
       "    }\n",
       "\n",
       "    .dataframe thead th {\n",
       "        text-align: right;\n",
       "    }\n",
       "</style>\n",
       "<table border=\"1\" class=\"dataframe\">\n",
       "  <thead>\n",
       "    <tr style=\"text-align: right;\">\n",
       "      <th></th>\n",
       "      <th>subreddit</th>\n",
       "      <th>id</th>\n",
       "      <th>author</th>\n",
       "      <th>title</th>\n",
       "      <th>selftext</th>\n",
       "      <th>subreddit_subscribers</th>\n",
       "      <th>created_utc</th>\n",
       "      <th>created_time</th>\n",
       "      <th>length_of_time(sec)</th>\n",
       "      <th>num_of_comments</th>\n",
       "      <th>score</th>\n",
       "      <th>text</th>\n",
       "      <th>post_length</th>\n",
       "      <th>text_cleaned</th>\n",
       "      <th>target</th>\n",
       "    </tr>\n",
       "  </thead>\n",
       "  <tbody>\n",
       "    <tr>\n",
       "      <th>0</th>\n",
       "      <td>keto</td>\n",
       "      <td>mnjit3</td>\n",
       "      <td>losing4me</td>\n",
       "      <td>Question about calorie deficit</td>\n",
       "      <td>5 weeks in on keto , I feel great and learned a lot here from this community. I’ve lost between 9-11 pounds so far. My appetite isn’t always that strong which is a good thing. I am wondering if it is ok to have a calorie deficit between 25-30%?\\n\\nAny input would be great.</td>\n",
       "      <td>2359216</td>\n",
       "      <td>2021-04-09 23:21:15</td>\n",
       "      <td>2021-04-09 23:21:15</td>\n",
       "      <td>1081969</td>\n",
       "      <td>17</td>\n",
       "      <td>1</td>\n",
       "      <td>Question about calorie deficit 5 weeks in on keto , I feel great and learned a lot here from this community. I’ve lost between 9-11 pounds so far. My appetite isn’t always that strong which is a good thing. I am wondering if it is ok to have a calorie deficit between 25-30%?\\n\\nAny input would be great.</td>\n",
       "      <td>57</td>\n",
       "      <td>question calori deficit week feel great learn lot commun lost - pound far appetit alway strong good thing wonder ok calori deficit - input would great</td>\n",
       "      <td>1</td>\n",
       "    </tr>\n",
       "    <tr>\n",
       "      <th>1</th>\n",
       "      <td>keto</td>\n",
       "      <td>mmd18k</td>\n",
       "      <td>freddyt55555</td>\n",
       "      <td>Joseph's Heart Healthy Pita</td>\n",
       "      <td>I just tried it for the first time, and it is amazing! It tastes way better than the keto bread that I've been buying from Costco. The only drawback is that it has 6g of carbs compared to the 0g net carbs of the keto bread. Although the pita didn't raise my postprandial blood glucose any higher than a typical lunch with the keto bread usually does, I'm now at around 17g of carbs for the day after only one meal, when I'm typically at around 10g.\\n\\nFor dinner, I now need to consume 60g of protein to hit my protein target but need to stay below 4g of carbs. I guess I'm going to have mix up couple glasses' worth of whey protein powder drink. LOL!</td>\n",
       "      <td>2357770</td>\n",
       "      <td>2021-04-08 05:57:30</td>\n",
       "      <td>2021-04-08 05:57:30</td>\n",
       "      <td>1230994</td>\n",
       "      <td>1</td>\n",
       "      <td>1</td>\n",
       "      <td>Joseph's Heart Healthy Pita I just tried it for the first time, and it is amazing! It tastes way better than the keto bread that I've been buying from Costco. The only drawback is that it has 6g of carbs compared to the 0g net carbs of the keto bread. Although the pita didn't raise my postprandial blood glucose any higher than a typical lunch with the keto bread usually does, I'm now at around 17g of carbs for the day after only one meal, when I'm typically at around 10g.\\n\\nFor dinner, I now need to consume 60g of protein to hit my protein target but need to stay below 4g of carbs. I guess I'm going to have mix up couple glasses' worth of whey protein powder drink. LOL!</td>\n",
       "      <td>130</td>\n",
       "      <td>joseph heart healthi pita tri first time amaz tast way better bread buy costco drawback g carb compar g net carb bread although pita rais postprandi blood glucos higher typic lunch bread usual around g carb day one meal typic around g dinner need consum g protein hit protein target need stay g carb guess go mix coupl glass worth whey protein powder drink lol</td>\n",
       "      <td>1</td>\n",
       "    </tr>\n",
       "    <tr>\n",
       "      <th>2</th>\n",
       "      <td>vegan</td>\n",
       "      <td>mkacwe</td>\n",
       "      <td>EnjoyTheRide420</td>\n",
       "      <td>just finished Seaspiracy</td>\n",
       "      <td>just wanted to say that I'm super bummed out. I knew what I was getting into before watching it, I just didn't realize the extent of our **emergency**. we truly are running out of time. the world is going to be such a lonely place without fellow animals....it's heartbreaking, to say the least. \\n\\nmaybe need a hug. or to be taken to a different planet, idk either one really.</td>\n",
       "      <td>585907</td>\n",
       "      <td>2021-04-05 10:10:28</td>\n",
       "      <td>2021-04-05 10:10:28</td>\n",
       "      <td>1474498</td>\n",
       "      <td>11</td>\n",
       "      <td>4</td>\n",
       "      <td>just finished Seaspiracy just wanted to say that I'm super bummed out. I knew what I was getting into before watching it, I just didn't realize the extent of our **emergency**. we truly are running out of time. the world is going to be such a lonely place without fellow animals....it's heartbreaking, to say the least. \\n\\nmaybe need a hug. or to be taken to a different planet, idk either one really.</td>\n",
       "      <td>72</td>\n",
       "      <td>finish seaspiraci want say super bum knew get watch realiz extent emerg truli run time world go lone place without fellow anim heartbreak say least mayb need hug taken differ planet idk either one realli</td>\n",
       "      <td>0</td>\n",
       "    </tr>\n",
       "    <tr>\n",
       "      <th>3</th>\n",
       "      <td>vegan</td>\n",
       "      <td>mem3n7</td>\n",
       "      <td>Rainbowman1070</td>\n",
       "      <td>I want to go vegan, but I don't want to go vegan.</td>\n",
       "      <td>I don't like the idea of having to research alternatives to certain ingredients/foods to sort of \"recreate\" the food I'm eating now. I also don't want to have to go to specialty stores on occasion to get alternative ingredients... I like my one-stop, affordable shopping routine at my local 99 Cents Only Store. I also don't want to reduce my diet to legumes, seeds, nuts, vegetables, and other plant-related foods for convenience. What should I do?</td>\n",
       "      <td>582880</td>\n",
       "      <td>2021-03-28 04:36:14</td>\n",
       "      <td>2021-03-28 04:36:14</td>\n",
       "      <td>2185752</td>\n",
       "      <td>18</td>\n",
       "      <td>1</td>\n",
       "      <td>I want to go vegan, but I don't want to go vegan. I don't like the idea of having to research alternatives to certain ingredients/foods to sort of \"recreate\" the food I'm eating now. I also don't want to have to go to specialty stores on occasion to get alternative ingredients... I like my one-stop, affordable shopping routine at my local 99 Cents Only Store. I also don't want to reduce my diet to legumes, seeds, nuts, vegetables, and other plant-related foods for convenience. What should I do?</td>\n",
       "      <td>88</td>\n",
       "      <td>want go want go like idea research altern certain ingredi food sort recreat food eat also want go specialti store occas get altern ingredi like one-stop afford shop routin local cent store also want reduc diet legum seed nut veget plant-rel food conveni</td>\n",
       "      <td>0</td>\n",
       "    </tr>\n",
       "    <tr>\n",
       "      <th>4</th>\n",
       "      <td>keto</td>\n",
       "      <td>mrecda</td>\n",
       "      <td>Immediate-Fan-6068</td>\n",
       "      <td>Best one all be all electrolyte supplement?</td>\n",
       "      <td>I use a lot of salt on my food and that’s about it, I’m scared to use things like lite salt because of some overdose stories I’ve seen. But I think I am missing out on potassium and balancing my electrolytes overall.</td>\n",
       "      <td>2364193</td>\n",
       "      <td>2021-04-15 21:10:58</td>\n",
       "      <td>2021-04-15 21:10:58</td>\n",
       "      <td>571386</td>\n",
       "      <td>13</td>\n",
       "      <td>1</td>\n",
       "      <td>Best one all be all electrolyte supplement? I use a lot of salt on my food and that’s about it, I’m scared to use things like lite salt because of some overdose stories I’ve seen. But I think I am missing out on potassium and balancing my electrolytes overall.</td>\n",
       "      <td>49</td>\n",
       "      <td>best one electrolyt supplement use lot salt food scare use thing like lite salt overdos stori seen think miss potassium balanc electrolyt overal</td>\n",
       "      <td>1</td>\n",
       "    </tr>\n",
       "  </tbody>\n",
       "</table>\n",
       "</div>"
      ],
      "text/plain": [
       "  subreddit      id              author  \\\n",
       "0      keto  mnjit3           losing4me   \n",
       "1      keto  mmd18k        freddyt55555   \n",
       "2     vegan  mkacwe     EnjoyTheRide420   \n",
       "3     vegan  mem3n7      Rainbowman1070   \n",
       "4      keto  mrecda  Immediate-Fan-6068   \n",
       "\n",
       "                                               title  \\\n",
       "0                     Question about calorie deficit   \n",
       "1                        Joseph's Heart Healthy Pita   \n",
       "2                           just finished Seaspiracy   \n",
       "3  I want to go vegan, but I don't want to go vegan.   \n",
       "4        Best one all be all electrolyte supplement?   \n",
       "\n",
       "                                                                                                                                                                                                                                                                                                                                                                                                                                                                                                                                                                                                                                                                      selftext  \\\n",
       "0                                                                                                                                                                                                                                                                                                                                                                                            5 weeks in on keto , I feel great and learned a lot here from this community. I’ve lost between 9-11 pounds so far. My appetite isn’t always that strong which is a good thing. I am wondering if it is ok to have a calorie deficit between 25-30%?\\n\\nAny input would be great.   \n",
       "1  I just tried it for the first time, and it is amazing! It tastes way better than the keto bread that I've been buying from Costco. The only drawback is that it has 6g of carbs compared to the 0g net carbs of the keto bread. Although the pita didn't raise my postprandial blood glucose any higher than a typical lunch with the keto bread usually does, I'm now at around 17g of carbs for the day after only one meal, when I'm typically at around 10g.\\n\\nFor dinner, I now need to consume 60g of protein to hit my protein target but need to stay below 4g of carbs. I guess I'm going to have mix up couple glasses' worth of whey protein powder drink. LOL!   \n",
       "2                                                                                                                                                                                                                                                                                    just wanted to say that I'm super bummed out. I knew what I was getting into before watching it, I just didn't realize the extent of our **emergency**. we truly are running out of time. the world is going to be such a lonely place without fellow animals....it's heartbreaking, to say the least. \\n\\nmaybe need a hug. or to be taken to a different planet, idk either one really.   \n",
       "3                                                                                                                                                                                                            I don't like the idea of having to research alternatives to certain ingredients/foods to sort of \"recreate\" the food I'm eating now. I also don't want to have to go to specialty stores on occasion to get alternative ingredients... I like my one-stop, affordable shopping routine at my local 99 Cents Only Store. I also don't want to reduce my diet to legumes, seeds, nuts, vegetables, and other plant-related foods for convenience. What should I do?   \n",
       "4                                                                                                                                                                                                                                                                                                                                                                                                                                                     I use a lot of salt on my food and that’s about it, I’m scared to use things like lite salt because of some overdose stories I’ve seen. But I think I am missing out on potassium and balancing my electrolytes overall.   \n",
       "\n",
       "   subreddit_subscribers         created_utc         created_time  \\\n",
       "0                2359216 2021-04-09 23:21:15  2021-04-09 23:21:15   \n",
       "1                2357770 2021-04-08 05:57:30  2021-04-08 05:57:30   \n",
       "2                 585907 2021-04-05 10:10:28  2021-04-05 10:10:28   \n",
       "3                 582880 2021-03-28 04:36:14  2021-03-28 04:36:14   \n",
       "4                2364193 2021-04-15 21:10:58  2021-04-15 21:10:58   \n",
       "\n",
       "   length_of_time(sec)  num_of_comments  score  \\\n",
       "0              1081969               17      1   \n",
       "1              1230994                1      1   \n",
       "2              1474498               11      4   \n",
       "3              2185752               18      1   \n",
       "4               571386               13      1   \n",
       "\n",
       "                                                                                                                                                                                                                                                                                                                                                                                                                                                                                                                                                                                                                                                                                                      text  \\\n",
       "0                                                                                                                                                                                                                                                                                                                                                                                         Question about calorie deficit 5 weeks in on keto , I feel great and learned a lot here from this community. I’ve lost between 9-11 pounds so far. My appetite isn’t always that strong which is a good thing. I am wondering if it is ok to have a calorie deficit between 25-30%?\\n\\nAny input would be great.   \n",
       "1  Joseph's Heart Healthy Pita I just tried it for the first time, and it is amazing! It tastes way better than the keto bread that I've been buying from Costco. The only drawback is that it has 6g of carbs compared to the 0g net carbs of the keto bread. Although the pita didn't raise my postprandial blood glucose any higher than a typical lunch with the keto bread usually does, I'm now at around 17g of carbs for the day after only one meal, when I'm typically at around 10g.\\n\\nFor dinner, I now need to consume 60g of protein to hit my protein target but need to stay below 4g of carbs. I guess I'm going to have mix up couple glasses' worth of whey protein powder drink. LOL!   \n",
       "2                                                                                                                                                                                                                                                                                       just finished Seaspiracy just wanted to say that I'm super bummed out. I knew what I was getting into before watching it, I just didn't realize the extent of our **emergency**. we truly are running out of time. the world is going to be such a lonely place without fellow animals....it's heartbreaking, to say the least. \\n\\nmaybe need a hug. or to be taken to a different planet, idk either one really.   \n",
       "3                                                                                                                                                                                      I want to go vegan, but I don't want to go vegan. I don't like the idea of having to research alternatives to certain ingredients/foods to sort of \"recreate\" the food I'm eating now. I also don't want to have to go to specialty stores on occasion to get alternative ingredients... I like my one-stop, affordable shopping routine at my local 99 Cents Only Store. I also don't want to reduce my diet to legumes, seeds, nuts, vegetables, and other plant-related foods for convenience. What should I do?   \n",
       "4                                                                                                                                                                                                                                                                                                                                                                                                                                     Best one all be all electrolyte supplement? I use a lot of salt on my food and that’s about it, I’m scared to use things like lite salt because of some overdose stories I’ve seen. But I think I am missing out on potassium and balancing my electrolytes overall.   \n",
       "\n",
       "   post_length  \\\n",
       "0           57   \n",
       "1          130   \n",
       "2           72   \n",
       "3           88   \n",
       "4           49   \n",
       "\n",
       "                                                                                                                                                                                                                                                                                                                                                               text_cleaned  \\\n",
       "0                                                                                                                                                                                                                    question calori deficit week feel great learn lot commun lost - pound far appetit alway strong good thing wonder ok calori deficit - input would great   \n",
       "1  joseph heart healthi pita tri first time amaz tast way better bread buy costco drawback g carb compar g net carb bread although pita rais postprandi blood glucos higher typic lunch bread usual around g carb day one meal typic around g dinner need consum g protein hit protein target need stay g carb guess go mix coupl glass worth whey protein powder drink lol   \n",
       "2                                                                                                                                                               finish seaspiraci want say super bum knew get watch realiz extent emerg truli run time world go lone place without fellow anim heartbreak say least mayb need hug taken differ planet idk either one realli   \n",
       "3                                                                                                             want go want go like idea research altern certain ingredi food sort recreat food eat also want go specialti store occas get altern ingredi like one-stop afford shop routin local cent store also want reduc diet legum seed nut veget plant-rel food conveni   \n",
       "4                                                                                                                                                                                                                          best one electrolyt supplement use lot salt food scare use thing like lite salt overdos stori seen think miss potassium balanc electrolyt overal   \n",
       "\n",
       "   target  \n",
       "0       1  \n",
       "1       1  \n",
       "2       0  \n",
       "3       0  \n",
       "4       1  "
      ]
     },
     "execution_count": 33,
     "metadata": {},
     "output_type": "execute_result"
    }
   ],
   "source": [
    "#combine the two subreddits into one.\n",
    "merged_data = pd.concat([vegan_scraped, keto_scraped], axis=0).reset_index(drop=True)\n",
    "\n",
    "# Shuffling the rows of combined_df so as to mix together the rows coming from both subreddit datasets.\n",
    "#drop=True prevents .reset_index from creating a column containing the old index entries.\n",
    "merged_data = shuffle(merged_data).reset_index(drop=True)\n",
    "\n",
    "# Creating the target variable for classification modeling (1 for r/relationship_advice & 0 for r/legal_advice).\n",
    "merged_data['target'] = [0 if subreddit == 'vegan' else 1 for subreddit in merged_data['subreddit']]\n",
    "\n",
    "print(\"Merging data's shape\")\n",
    "print(merged_data.shape)\n",
    "print()\n",
    "print(\"Checking for unbalanced classes\")\n",
    "# Checking for unbalanced classes.\n",
    "print(merged_data['target'].value_counts(normalize=True))\n",
    "print()\n",
    "merged_data.head()\n",
    "\n"
   ]
  },
  {
   "cell_type": "markdown",
   "metadata": {},
   "source": [
    "***Defining the classifier feature X and target variable y and splitting the features and target variable datasets into training and testing datasets with stratify=y.***"
   ]
  },
  {
   "cell_type": "code",
   "execution_count": 34,
   "metadata": {},
   "outputs": [],
   "source": [
    "#Defining the classifier feature X and target variable y.\n",
    "X = merged_data['text_cleaned']\n",
    "y = merged_data['target']\n",
    "\n",
    "#print(X[:5])\n",
    "#print(y[:5])\n"
   ]
  },
  {
   "cell_type": "code",
   "execution_count": 35,
   "metadata": {},
   "outputs": [
    {
     "name": "stdout",
     "output_type": "stream",
     "text": [
      "Baseline values:\n",
      "1    0.5\n",
      "0    0.5\n",
      "Name: target, dtype: float64\n",
      "1    0.5\n",
      "0    0.5\n",
      "Name: target, dtype: float64\n"
     ]
    }
   ],
   "source": [
    "# Splitting the features and target variable datasets into training and testing datasets with stratify=y. \n",
    "X_train, X_test, y_train, y_test = train_test_split(X, y, test_size=0.25, stratify=y,random_state = 42)\n",
    "\n",
    "# Baseline values\n",
    "print(\"Baseline values:\")\n",
    "print(y_train.value_counts(normalize=True))\n",
    "print(y_test.value_counts(normalize=True))"
   ]
  },
  {
   "cell_type": "markdown",
   "metadata": {},
   "source": [
    "The baseline values for both vegan and keto are evenly distributed since the data collected are even out"
   ]
  },
  {
   "cell_type": "markdown",
   "metadata": {},
   "source": [
    "### Classification Metrics"
   ]
  },
  {
   "cell_type": "markdown",
   "metadata": {},
   "source": [
    "The possible classification metrics that can be used to gauge how well the models perform are Accuracy, Misclassification Rate, Sensitivity (True Positive Rate), Specificity (True Negative Rate), Precision (Positive Predictive Value).\n",
    "\n",
    "The final model will be chosen based on the performance comparison of the following models:\n",
    "1. CountVectorizer with LogisticRegression\n",
    "2. TfidfVectorizer with LogisticRegression\n",
    "3. CountVectorizer with MultinomialNB\n",
    "4. TfidfVectorizer with MultinomialNB"
   ]
  },
  {
   "cell_type": "markdown",
   "metadata": {},
   "source": [
    "#### CountVectorizer with LogisticRegression"
   ]
  },
  {
   "cell_type": "code",
   "execution_count": 36,
   "metadata": {
    "scrolled": true
   },
   "outputs": [
    {
     "data": {
      "text/plain": [
       "{'memory': None,\n",
       " 'steps': [('cvec1', CountVectorizer()), ('logreg1', LogisticRegression())],\n",
       " 'verbose': False,\n",
       " 'cvec1': CountVectorizer(),\n",
       " 'logreg1': LogisticRegression(),\n",
       " 'cvec1__analyzer': 'word',\n",
       " 'cvec1__binary': False,\n",
       " 'cvec1__decode_error': 'strict',\n",
       " 'cvec1__dtype': numpy.int64,\n",
       " 'cvec1__encoding': 'utf-8',\n",
       " 'cvec1__input': 'content',\n",
       " 'cvec1__lowercase': True,\n",
       " 'cvec1__max_df': 1.0,\n",
       " 'cvec1__max_features': None,\n",
       " 'cvec1__min_df': 1,\n",
       " 'cvec1__ngram_range': (1, 1),\n",
       " 'cvec1__preprocessor': None,\n",
       " 'cvec1__stop_words': None,\n",
       " 'cvec1__strip_accents': None,\n",
       " 'cvec1__token_pattern': '(?u)\\\\b\\\\w\\\\w+\\\\b',\n",
       " 'cvec1__tokenizer': None,\n",
       " 'cvec1__vocabulary': None,\n",
       " 'logreg1__C': 1.0,\n",
       " 'logreg1__class_weight': None,\n",
       " 'logreg1__dual': False,\n",
       " 'logreg1__fit_intercept': True,\n",
       " 'logreg1__intercept_scaling': 1,\n",
       " 'logreg1__l1_ratio': None,\n",
       " 'logreg1__max_iter': 100,\n",
       " 'logreg1__multi_class': 'auto',\n",
       " 'logreg1__n_jobs': None,\n",
       " 'logreg1__penalty': 'l2',\n",
       " 'logreg1__random_state': None,\n",
       " 'logreg1__solver': 'lbfgs',\n",
       " 'logreg1__tol': 0.0001,\n",
       " 'logreg1__verbose': 0,\n",
       " 'logreg1__warm_start': False}"
      ]
     },
     "execution_count": 36,
     "metadata": {},
     "output_type": "execute_result"
    }
   ],
   "source": [
    "#create pipeline for \n",
    "pipe1 = Pipeline([('cvec1', CountVectorizer()),\n",
    "                  ('logreg1', LogisticRegression())\n",
    "                 ])\n",
    "pipe1.get_params()"
   ]
  },
  {
   "cell_type": "code",
   "execution_count": 37,
   "metadata": {
    "scrolled": true
   },
   "outputs": [
    {
     "data": {
      "text/plain": [
       "GridSearchCV(cv=5,\n",
       "             estimator=Pipeline(steps=[('cvec1', CountVectorizer()),\n",
       "                                       ('logreg1', LogisticRegression())]),\n",
       "             param_grid={'cvec1__max_df': [0.8, 0.9],\n",
       "                         'cvec1__max_features': [100, 200, 500, 800, 1000],\n",
       "                         'cvec1__min_df': [0.05, 0.1],\n",
       "                         'cvec1__ngram_range': [(1, 1), (1, 2)],\n",
       "                         'logreg1__random_state': [42]})"
      ]
     },
     "execution_count": 37,
     "metadata": {},
     "output_type": "execute_result"
    }
   ],
   "source": [
    "# Establishing ranges of hyperparameters max_features, min_df, max_df & ngram_range for GridSearchCV.\n",
    "\n",
    "pipe1_params = {'cvec1__max_features': [100, 200, 500, 800, 1000],\n",
    "                'cvec1__min_df': [0.05, 0.10],\n",
    "                'cvec1__max_df': [0.80, 0.90],\n",
    "                'cvec1__ngram_range': [(1,1), (1,2)],\n",
    "                'logreg1__random_state': [42],\n",
    "               }\n",
    "\n",
    "# Creating the GridSearchCV object for the Pipeline object with CountVectorizer transformer.\n",
    "gs_pipe1 = GridSearchCV(pipe1, param_grid=pipe1_params, cv=5)\n",
    "# Fitting GridSearchCV with CountVectorizer transformer on X_train and y_train.\n",
    "gs_pipe1.fit(X_train, y_train)"
   ]
  },
  {
   "cell_type": "code",
   "execution_count": 38,
   "metadata": {},
   "outputs": [
    {
     "data": {
      "text/plain": [
       "{'cvec1__max_df': 0.8,\n",
       " 'cvec1__max_features': 500,\n",
       " 'cvec1__min_df': 0.05,\n",
       " 'cvec1__ngram_range': (1, 2),\n",
       " 'logreg1__random_state': 42}"
      ]
     },
     "execution_count": 38,
     "metadata": {},
     "output_type": "execute_result"
    }
   ],
   "source": [
    "# Best combination of hyperparameters suggested by GridSearchCV for CountVectorizer transformer.\n",
    "\n",
    "gs_pipe1.best_params_"
   ]
  },
  {
   "cell_type": "code",
   "execution_count": 39,
   "metadata": {},
   "outputs": [
    {
     "name": "stdout",
     "output_type": "stream",
     "text": [
      "CountVectorizer with LogisticRegression summary of accuracy scores:\n",
      "GridSearchCV best accuracy = 0.885\n",
      "\n",
      "Using GridSearchCV best params suggested,\n",
      "Training accuracy = 0.958\n",
      "Testing accuracy = 0.888\n"
     ]
    }
   ],
   "source": [
    "# Summary scores from GridSearchCV with CountVectorizer and LogisticRegression.\n",
    "\n",
    "print(\"CountVectorizer with LogisticRegression summary of accuracy scores:\")\n",
    "print(f\"GridSearchCV best accuracy = {round(gs_pipe1.best_score_, 3)}\")\n",
    "print(\"\\nUsing GridSearchCV best params suggested,\")\n",
    "print(f\"Training accuracy = {round(gs_pipe1.score(X_train, y_train), 3)}\")\n",
    "print(f\"Testing accuracy = {round(gs_pipe1.score(X_test, y_test), 3)}\")"
   ]
  },
  {
   "cell_type": "markdown",
   "metadata": {},
   "source": [
    "#### TfidfVectorizer with LogisticRegression"
   ]
  },
  {
   "cell_type": "code",
   "execution_count": 40,
   "metadata": {
    "scrolled": true
   },
   "outputs": [
    {
     "data": {
      "text/plain": [
       "{'memory': None,\n",
       " 'steps': [('tfvec2', TfidfVectorizer()), ('logreg2', LogisticRegression())],\n",
       " 'verbose': False,\n",
       " 'tfvec2': TfidfVectorizer(),\n",
       " 'logreg2': LogisticRegression(),\n",
       " 'tfvec2__analyzer': 'word',\n",
       " 'tfvec2__binary': False,\n",
       " 'tfvec2__decode_error': 'strict',\n",
       " 'tfvec2__dtype': numpy.float64,\n",
       " 'tfvec2__encoding': 'utf-8',\n",
       " 'tfvec2__input': 'content',\n",
       " 'tfvec2__lowercase': True,\n",
       " 'tfvec2__max_df': 1.0,\n",
       " 'tfvec2__max_features': None,\n",
       " 'tfvec2__min_df': 1,\n",
       " 'tfvec2__ngram_range': (1, 1),\n",
       " 'tfvec2__norm': 'l2',\n",
       " 'tfvec2__preprocessor': None,\n",
       " 'tfvec2__smooth_idf': True,\n",
       " 'tfvec2__stop_words': None,\n",
       " 'tfvec2__strip_accents': None,\n",
       " 'tfvec2__sublinear_tf': False,\n",
       " 'tfvec2__token_pattern': '(?u)\\\\b\\\\w\\\\w+\\\\b',\n",
       " 'tfvec2__tokenizer': None,\n",
       " 'tfvec2__use_idf': True,\n",
       " 'tfvec2__vocabulary': None,\n",
       " 'logreg2__C': 1.0,\n",
       " 'logreg2__class_weight': None,\n",
       " 'logreg2__dual': False,\n",
       " 'logreg2__fit_intercept': True,\n",
       " 'logreg2__intercept_scaling': 1,\n",
       " 'logreg2__l1_ratio': None,\n",
       " 'logreg2__max_iter': 100,\n",
       " 'logreg2__multi_class': 'auto',\n",
       " 'logreg2__n_jobs': None,\n",
       " 'logreg2__penalty': 'l2',\n",
       " 'logreg2__random_state': None,\n",
       " 'logreg2__solver': 'lbfgs',\n",
       " 'logreg2__tol': 0.0001,\n",
       " 'logreg2__verbose': 0,\n",
       " 'logreg2__warm_start': False}"
      ]
     },
     "execution_count": 40,
     "metadata": {},
     "output_type": "execute_result"
    }
   ],
   "source": [
    "pipe2 = Pipeline([('tfvec2', TfidfVectorizer()),\n",
    "                  ('logreg2', LogisticRegression())\n",
    "                 ])\n",
    "pipe2.get_params()"
   ]
  },
  {
   "cell_type": "code",
   "execution_count": 41,
   "metadata": {},
   "outputs": [
    {
     "data": {
      "text/plain": [
       "GridSearchCV(cv=5,\n",
       "             estimator=Pipeline(steps=[('tfvec2', TfidfVectorizer()),\n",
       "                                       ('logreg2', LogisticRegression())]),\n",
       "             param_grid={'logreg2__random_state': [42],\n",
       "                         'tfvec2__max_df': [0.8, 0.9],\n",
       "                         'tfvec2__max_features': [100, 200, 500, 800, 1000],\n",
       "                         'tfvec2__min_df': [0.05, 0.1],\n",
       "                         'tfvec2__ngram_range': [(1, 1), (1, 2)]})"
      ]
     },
     "execution_count": 41,
     "metadata": {},
     "output_type": "execute_result"
    }
   ],
   "source": [
    "# Establishing ranges of hyperparameters max_features, min_df, max_df & ngram_range for GridSearchCV.\n",
    "pipe2_params = {'tfvec2__max_features': [100, 200, 500, 800, 1000],\n",
    "                'tfvec2__min_df': [0.05, 0.10],\n",
    "                'tfvec2__max_df': [0.80, 0.90],\n",
    "                'tfvec2__ngram_range': [(1,1), (1,2)],\n",
    "                'logreg2__random_state': [42],\n",
    "               }\n",
    "# Creating the GridSearchCV object for the Pipeline object with TfidfVectorizer transformer.\n",
    "gs_pipe2 = GridSearchCV(pipe2, param_grid=pipe2_params, cv=5)\n",
    "# Fitting GridSearchCV with TfidfVectorizer transformer on X_train and y_train.\n",
    "gs_pipe2.fit(X_train, y_train)"
   ]
  },
  {
   "cell_type": "code",
   "execution_count": 42,
   "metadata": {},
   "outputs": [
    {
     "data": {
      "text/plain": [
       "{'logreg2__random_state': 42,\n",
       " 'tfvec2__max_df': 0.8,\n",
       " 'tfvec2__max_features': 500,\n",
       " 'tfvec2__min_df': 0.05,\n",
       " 'tfvec2__ngram_range': (1, 1)}"
      ]
     },
     "execution_count": 42,
     "metadata": {},
     "output_type": "execute_result"
    }
   ],
   "source": [
    "# Best combination of hyperparameters suggested by GridSearchCV for TfidfVectorizer transformer.\n",
    "\n",
    "gs_pipe2.best_params_"
   ]
  },
  {
   "cell_type": "code",
   "execution_count": 43,
   "metadata": {},
   "outputs": [
    {
     "name": "stdout",
     "output_type": "stream",
     "text": [
      "TfidfVectorizer with LogisticRegression summary of accuracy scores:\n",
      "GridSearchCV best accuracy = 0.901\n",
      "\n",
      "Using GridSearchCV best params suggested,\n",
      "Training accuracy = 0.931\n",
      "Testing accuracy = 0.92\n"
     ]
    }
   ],
   "source": [
    "# Summary scores from GridSearchCV with TfidfVectorizer and LogisticRegression.\n",
    "\n",
    "print(\"TfidfVectorizer with LogisticRegression summary of accuracy scores:\")\n",
    "print(f\"GridSearchCV best accuracy = {round(gs_pipe2.best_score_, 3)}\")\n",
    "print(\"\\nUsing GridSearchCV best params suggested,\")\n",
    "print(f\"Training accuracy = {round(gs_pipe2.score(X_train, y_train), 3)}\")\n",
    "print(f\"Testing accuracy = {round(gs_pipe2.score(X_test, y_test), 3)}\")"
   ]
  },
  {
   "cell_type": "markdown",
   "metadata": {},
   "source": [
    "#### CountVectorizer with MultinomialNB"
   ]
  },
  {
   "cell_type": "code",
   "execution_count": 44,
   "metadata": {
    "scrolled": true
   },
   "outputs": [
    {
     "data": {
      "text/plain": [
       "{'memory': None,\n",
       " 'steps': [('cvec3', CountVectorizer()), ('mnb3', MultinomialNB())],\n",
       " 'verbose': False,\n",
       " 'cvec3': CountVectorizer(),\n",
       " 'mnb3': MultinomialNB(),\n",
       " 'cvec3__analyzer': 'word',\n",
       " 'cvec3__binary': False,\n",
       " 'cvec3__decode_error': 'strict',\n",
       " 'cvec3__dtype': numpy.int64,\n",
       " 'cvec3__encoding': 'utf-8',\n",
       " 'cvec3__input': 'content',\n",
       " 'cvec3__lowercase': True,\n",
       " 'cvec3__max_df': 1.0,\n",
       " 'cvec3__max_features': None,\n",
       " 'cvec3__min_df': 1,\n",
       " 'cvec3__ngram_range': (1, 1),\n",
       " 'cvec3__preprocessor': None,\n",
       " 'cvec3__stop_words': None,\n",
       " 'cvec3__strip_accents': None,\n",
       " 'cvec3__token_pattern': '(?u)\\\\b\\\\w\\\\w+\\\\b',\n",
       " 'cvec3__tokenizer': None,\n",
       " 'cvec3__vocabulary': None,\n",
       " 'mnb3__alpha': 1.0,\n",
       " 'mnb3__class_prior': None,\n",
       " 'mnb3__fit_prior': True}"
      ]
     },
     "execution_count": 44,
     "metadata": {},
     "output_type": "execute_result"
    }
   ],
   "source": [
    "# Creating a Pipeline objects with CountVectorizer as transformer and MultinomialNB as estimator.\n",
    "\n",
    "pipe3 = Pipeline([('cvec3', CountVectorizer()),\n",
    "                  ('mnb3', MultinomialNB(fit_prior=True))\n",
    "                 ])\n",
    "pipe3.get_params()"
   ]
  },
  {
   "cell_type": "code",
   "execution_count": 45,
   "metadata": {},
   "outputs": [
    {
     "data": {
      "text/plain": [
       "GridSearchCV(cv=5,\n",
       "             estimator=Pipeline(steps=[('cvec3', CountVectorizer()),\n",
       "                                       ('mnb3', MultinomialNB())]),\n",
       "             param_grid={'cvec3__max_df': [0.95, 0.98],\n",
       "                         'cvec3__max_features': [500, 800, 1000],\n",
       "                         'cvec3__min_df': [0.02, 0.05],\n",
       "                         'cvec3__ngram_range': [(1, 1), (1, 2)],\n",
       "                         'mnb3__alpha': [1e-10, 0.5, 1]})"
      ]
     },
     "execution_count": 45,
     "metadata": {},
     "output_type": "execute_result"
    }
   ],
   "source": [
    "# Establishing ranges of hyperparameters of CountVectorizer and MultinomialNB for GridSearchCV.\n",
    "\n",
    "pipe3_params = {'cvec3__max_features': [500, 800, 1000],\n",
    "                'cvec3__min_df': [0.02, 0.05,],\n",
    "                'cvec3__max_df': [0.95, 0.98],\n",
    "                'cvec3__ngram_range': [(1,1), (1,2)],\n",
    "                'mnb3__alpha' : [1.0e-10, 0.5, 1],\n",
    "               }\n",
    "# Creating a GridSearchCV object for the Pipeline object defined above.\n",
    "gs_pipe3 = GridSearchCV(pipe3, param_grid=pipe3_params, cv=5)\n",
    "\n",
    "# Fitting GridSearchCV with CountVectorizer transformer and MultinomialNB estimator on X_train and y_train.\n",
    "gs_pipe3.fit(X_train, y_train)"
   ]
  },
  {
   "cell_type": "code",
   "execution_count": 46,
   "metadata": {},
   "outputs": [
    {
     "data": {
      "text/plain": [
       "{'cvec3__max_df': 0.95,\n",
       " 'cvec3__max_features': 500,\n",
       " 'cvec3__min_df': 0.02,\n",
       " 'cvec3__ngram_range': (1, 2),\n",
       " 'mnb3__alpha': 1e-10}"
      ]
     },
     "execution_count": 46,
     "metadata": {},
     "output_type": "execute_result"
    }
   ],
   "source": [
    "# Best combination of hyperparameters suggested by GridSearchCV for CountVectorizer transformer.\n",
    "\n",
    "gs_pipe3.best_params_"
   ]
  },
  {
   "cell_type": "code",
   "execution_count": 47,
   "metadata": {},
   "outputs": [
    {
     "name": "stdout",
     "output_type": "stream",
     "text": [
      "CountVectorizer with MultinomialNB summary of accuracy scores:\n",
      "GridSearchCV best accuracy = 0.917\n",
      "\n",
      "Using GridSearchCV best params suggested,\n",
      "Training corpus accuracy = 0.925\n",
      "Testing corpus accuracy = 0.918\n"
     ]
    }
   ],
   "source": [
    "# Summary scores from GridSearchCV with CountVectorizer and MultinomialNB.\n",
    "\n",
    "print(\"CountVectorizer with MultinomialNB summary of accuracy scores:\")\n",
    "print(f\"GridSearchCV best accuracy = {round(gs_pipe3.best_score_, 3)}\")\n",
    "print(\"\\nUsing GridSearchCV best params suggested,\")\n",
    "print(f\"Training corpus accuracy = {round(gs_pipe3.score(X_train, y_train), 3)}\")\n",
    "print(f\"Testing corpus accuracy = {round(gs_pipe3.score(X_test, y_test), 3)}\")"
   ]
  },
  {
   "cell_type": "markdown",
   "metadata": {},
   "source": [
    "#### TfidfVectorizer with MultinomialNB"
   ]
  },
  {
   "cell_type": "code",
   "execution_count": 48,
   "metadata": {
    "scrolled": true
   },
   "outputs": [
    {
     "data": {
      "text/plain": [
       "{'memory': None,\n",
       " 'steps': [('tfvec4', TfidfVectorizer()), ('mnb4', MultinomialNB())],\n",
       " 'verbose': False,\n",
       " 'tfvec4': TfidfVectorizer(),\n",
       " 'mnb4': MultinomialNB(),\n",
       " 'tfvec4__analyzer': 'word',\n",
       " 'tfvec4__binary': False,\n",
       " 'tfvec4__decode_error': 'strict',\n",
       " 'tfvec4__dtype': numpy.float64,\n",
       " 'tfvec4__encoding': 'utf-8',\n",
       " 'tfvec4__input': 'content',\n",
       " 'tfvec4__lowercase': True,\n",
       " 'tfvec4__max_df': 1.0,\n",
       " 'tfvec4__max_features': None,\n",
       " 'tfvec4__min_df': 1,\n",
       " 'tfvec4__ngram_range': (1, 1),\n",
       " 'tfvec4__norm': 'l2',\n",
       " 'tfvec4__preprocessor': None,\n",
       " 'tfvec4__smooth_idf': True,\n",
       " 'tfvec4__stop_words': None,\n",
       " 'tfvec4__strip_accents': None,\n",
       " 'tfvec4__sublinear_tf': False,\n",
       " 'tfvec4__token_pattern': '(?u)\\\\b\\\\w\\\\w+\\\\b',\n",
       " 'tfvec4__tokenizer': None,\n",
       " 'tfvec4__use_idf': True,\n",
       " 'tfvec4__vocabulary': None,\n",
       " 'mnb4__alpha': 1.0,\n",
       " 'mnb4__class_prior': None,\n",
       " 'mnb4__fit_prior': True}"
      ]
     },
     "execution_count": 48,
     "metadata": {},
     "output_type": "execute_result"
    }
   ],
   "source": [
    "# Creating a Pipeline objects with TfidfVectorizer as transformer and MultinomialNB as estimator.\n",
    "\n",
    "pipe4 = Pipeline([('tfvec4', TfidfVectorizer()),\n",
    "                  ('mnb4', MultinomialNB(fit_prior=True))\n",
    "                 ])\n",
    "pipe4.get_params()"
   ]
  },
  {
   "cell_type": "code",
   "execution_count": 49,
   "metadata": {},
   "outputs": [
    {
     "data": {
      "text/plain": [
       "GridSearchCV(cv=5,\n",
       "             estimator=Pipeline(steps=[('tfvec4', TfidfVectorizer()),\n",
       "                                       ('mnb4', MultinomialNB())]),\n",
       "             param_grid={'mnb4__alpha': [1e-10, 0.5, 1],\n",
       "                         'tfvec4__max_df': [0.95, 0.98],\n",
       "                         'tfvec4__max_features': [500, 800, 1000],\n",
       "                         'tfvec4__min_df': [0.02, 0.05],\n",
       "                         'tfvec4__ngram_range': [(1, 1), (1, 2)]})"
      ]
     },
     "execution_count": 49,
     "metadata": {},
     "output_type": "execute_result"
    }
   ],
   "source": [
    "# Establishing ranges of hyperparameters of TfidfVectorizer and MultinomialNB for GridSearchCV.\n",
    "\n",
    "pipe4_params = {'tfvec4__max_features': [500, 800, 1000],\n",
    "                'tfvec4__min_df': [0.02, 0.05,],\n",
    "                'tfvec4__max_df': [0.95, 0.98],\n",
    "                'tfvec4__ngram_range': [(1,1), (1,2)],\n",
    "                'mnb4__alpha' : [1.0e-10, 0.5, 1],\n",
    "               }\n",
    "# Creating a GridSearchCV object for the Pipeline object defined above.\n",
    "gs_pipe4 = GridSearchCV(pipe4, param_grid=pipe4_params, cv=5)\n",
    "\n",
    "# Fitting GridSearchCV with TfidfVectorizer transformer and MultinomialNB estimator on X_train and y_train.\n",
    "gs_pipe4.fit(X_train, y_train)"
   ]
  },
  {
   "cell_type": "code",
   "execution_count": 50,
   "metadata": {},
   "outputs": [
    {
     "data": {
      "text/plain": [
       "{'mnb4__alpha': 1e-10,\n",
       " 'tfvec4__max_df': 0.95,\n",
       " 'tfvec4__max_features': 800,\n",
       " 'tfvec4__min_df': 0.02,\n",
       " 'tfvec4__ngram_range': (1, 2)}"
      ]
     },
     "execution_count": 50,
     "metadata": {},
     "output_type": "execute_result"
    }
   ],
   "source": [
    "# Best combination of hyperparameters suggested by GridSearchCV for TfidfVectorizer transformer.\n",
    "\n",
    "gs_pipe4.best_params_"
   ]
  },
  {
   "cell_type": "code",
   "execution_count": 51,
   "metadata": {},
   "outputs": [
    {
     "name": "stdout",
     "output_type": "stream",
     "text": [
      "TfidfVectorizer with MultinomialNB summary of accuracy scores:\n",
      "GridSearchCV best accuracy = 0.911\n",
      "\n",
      "Using GridSearchCV best params suggested,\n",
      "Training corpus accuracy = 0.927\n",
      "Testing corpus accuracy = 0.916\n"
     ]
    }
   ],
   "source": [
    "# Summary scores from GridSearchCV with TfidfVectorizer and MultinomialNB.\n",
    "\n",
    "print(\"TfidfVectorizer with MultinomialNB summary of accuracy scores:\")\n",
    "print(f\"GridSearchCV best accuracy = {round(gs_pipe4.best_score_, 3)}\")\n",
    "print(\"\\nUsing GridSearchCV best params suggested,\")\n",
    "print(f\"Training corpus accuracy = {round(gs_pipe4.score(X_train, y_train), 3)}\")\n",
    "print(f\"Testing corpus accuracy = {round(gs_pipe4.score(X_test, y_test), 3)}\")"
   ]
  },
  {
   "cell_type": "markdown",
   "metadata": {},
   "source": [
    "#### Summary of CountVectorizer & TfidfVectorizer with LogisticRegression and MultinomialNB"
   ]
  },
  {
   "cell_type": "code",
   "execution_count": 52,
   "metadata": {},
   "outputs": [
    {
     "data": {
      "text/html": [
       "<div>\n",
       "<style scoped>\n",
       "    .dataframe tbody tr th:only-of-type {\n",
       "        vertical-align: middle;\n",
       "    }\n",
       "\n",
       "    .dataframe tbody tr th {\n",
       "        vertical-align: top;\n",
       "    }\n",
       "\n",
       "    .dataframe thead th {\n",
       "        text-align: right;\n",
       "    }\n",
       "</style>\n",
       "<table border=\"1\" class=\"dataframe\">\n",
       "  <thead>\n",
       "    <tr style=\"text-align: right;\">\n",
       "      <th></th>\n",
       "      <th>Vect_Model</th>\n",
       "      <th>GSCV_best_params</th>\n",
       "      <th>GSCV_best_score</th>\n",
       "      <th>train_accuracy</th>\n",
       "      <th>test_accuracy</th>\n",
       "    </tr>\n",
       "  </thead>\n",
       "  <tbody>\n",
       "    <tr>\n",
       "      <th>1</th>\n",
       "      <td>CountVec, LogReg</td>\n",
       "      <td>max_features= 500, min_df= 0.05, max_df= 0.8, ngram_range= (1,1)</td>\n",
       "      <td>0.885</td>\n",
       "      <td>0.958</td>\n",
       "      <td>0.888</td>\n",
       "    </tr>\n",
       "    <tr>\n",
       "      <th>2</th>\n",
       "      <td>TfidfVec, LogReg</td>\n",
       "      <td>max_features= 200, min_df= 0.05, max_df= 0.8, ngram_range= (1,2)</td>\n",
       "      <td>0.901</td>\n",
       "      <td>0.931</td>\n",
       "      <td>0.920</td>\n",
       "    </tr>\n",
       "    <tr>\n",
       "      <th>3</th>\n",
       "      <td>CountVec, MulNB</td>\n",
       "      <td>alpha= 1e-10, max_features= 800, min_df= 0.02, max_df= 0.95, ngram_range= (1,2)</td>\n",
       "      <td>0.917</td>\n",
       "      <td>0.925</td>\n",
       "      <td>0.918</td>\n",
       "    </tr>\n",
       "    <tr>\n",
       "      <th>4</th>\n",
       "      <td>TfidfVec, MulNB</td>\n",
       "      <td>alpha= 1e-10, max_features= 800, min_df= 0.02, max_df= 0.95, ngram_range= (1,2)</td>\n",
       "      <td>0.911</td>\n",
       "      <td>0.927</td>\n",
       "      <td>0.916</td>\n",
       "    </tr>\n",
       "  </tbody>\n",
       "</table>\n",
       "</div>"
      ],
      "text/plain": [
       "         Vect_Model  \\\n",
       "1  CountVec, LogReg   \n",
       "2  TfidfVec, LogReg   \n",
       "3   CountVec, MulNB   \n",
       "4   TfidfVec, MulNB   \n",
       "\n",
       "                                                                  GSCV_best_params  \\\n",
       "1                 max_features= 500, min_df= 0.05, max_df= 0.8, ngram_range= (1,1)   \n",
       "2                 max_features= 200, min_df= 0.05, max_df= 0.8, ngram_range= (1,2)   \n",
       "3  alpha= 1e-10, max_features= 800, min_df= 0.02, max_df= 0.95, ngram_range= (1,2)   \n",
       "4  alpha= 1e-10, max_features= 800, min_df= 0.02, max_df= 0.95, ngram_range= (1,2)   \n",
       "\n",
       "   GSCV_best_score  train_accuracy  test_accuracy  \n",
       "1            0.885           0.958          0.888  \n",
       "2            0.901           0.931          0.920  \n",
       "3            0.917           0.925          0.918  \n",
       "4            0.911           0.927          0.916  "
      ]
     },
     "execution_count": 52,
     "metadata": {},
     "output_type": "execute_result"
    }
   ],
   "source": [
    "# Creacting a summary dataframe.\n",
    "\n",
    "summary_df = pd.DataFrame(columns=['Vect_Model', \n",
    "                                   'GSCV_best_params', \n",
    "                                   'GSCV_best_score', \n",
    "                                   'train_accuracy', \n",
    "                                   'test_accuracy'\n",
    "                                  ])\n",
    "summary_df.style.set_properties(**{'text-align': 'left'}).set_table_styles([ dict(selector='th', props=[('text-align', 'left')] ) ])\n",
    "# Adding the accuracy scores from above two GridSearchCV models into summary_df.\n",
    "\n",
    "summary_df.loc[1] = ['CountVec, LogReg',\n",
    "                     'max_features= 500, min_df= 0.05, max_df= 0.8, ngram_range= (1,1)',\n",
    "                     round(gs_pipe1.best_score_, 3),\n",
    "                     round(gs_pipe1.score(X_train, y_train), 3),\n",
    "                     round(gs_pipe1.score(X_test, y_test), 3)\n",
    "                    ]\n",
    "\n",
    "summary_df.loc[2] = ['TfidfVec, LogReg',\n",
    "                     'max_features= 200, min_df= 0.05, max_df= 0.8, ngram_range= (1,2)',\n",
    "                     round(gs_pipe2.best_score_, 3),\n",
    "                     round(gs_pipe2.score(X_train, y_train), 3),\n",
    "                     round(gs_pipe2.score(X_test, y_test), 3)\n",
    "                    ]\n",
    "summary_df.loc[3] = ['CountVec, MulNB',\n",
    "                     'alpha= 1e-10, max_features= 800, min_df= 0.02, max_df= 0.95, ngram_range= (1,2)',\n",
    "                     round(gs_pipe3.best_score_, 3),\n",
    "                     round(gs_pipe3.score(X_train, y_train), 3),\n",
    "                     round(gs_pipe3.score(X_test, y_test), 3)\n",
    "                    ]\n",
    "summary_df.loc[4] = ['TfidfVec, MulNB',\n",
    "                     'alpha= 1e-10, max_features= 800, min_df= 0.02, max_df= 0.95, ngram_range= (1,2)',\n",
    "                     round(gs_pipe4.best_score_, 3),\n",
    "                     round(gs_pipe4.score(X_train, y_train), 3),\n",
    "                     round(gs_pipe4.score(X_test, y_test), 3)\n",
    "                    ]\n",
    "summary_df"
   ]
  },
  {
   "cell_type": "markdown",
   "metadata": {},
   "source": [
    "From the summary above, it can be observed that both the *MultinomialNB CountVectorizer* model and the *MultinomialNB TfidfVectorizer* model can achieve the similar result in terms of best score. \n",
    "\n",
    "However, **the *MultinomialNB with CountVectorizer* model performs slightly better** in terms of generalization, as it has a smaller difference in the accuracy score from the training score to the testing score. Hence, the ***MultinomialNB with CountVectorizer*** is chosen as the final model to use."
   ]
  },
  {
   "cell_type": "markdown",
   "metadata": {},
   "source": [
    "### Final Classification Modelling and Evaluation"
   ]
  },
  {
   "cell_type": "code",
   "execution_count": 53,
   "metadata": {},
   "outputs": [
    {
     "data": {
      "text/plain": [
       "{'cvec3__max_df': 0.95,\n",
       " 'cvec3__max_features': 500,\n",
       " 'cvec3__min_df': 0.02,\n",
       " 'cvec3__ngram_range': (1, 2),\n",
       " 'mnb3__alpha': 1e-10}"
      ]
     },
     "execution_count": 53,
     "metadata": {},
     "output_type": "execute_result"
    }
   ],
   "source": [
    "# Recalling the best combination of hyperparameters for MultinomialNB with CountVectorizer suggested by GridSearchCV above.\n",
    "\n",
    "gs_pipe3.best_params_"
   ]
  },
  {
   "cell_type": "code",
   "execution_count": 54,
   "metadata": {},
   "outputs": [],
   "source": [
    "# Creating a TfidfVectorizer object with best params suggested above.\n",
    "\n",
    "ctvec_final = CountVectorizer(max_features=500, min_df=0.02, max_df=0.95, ngram_range=(1, 2))"
   ]
  },
  {
   "cell_type": "code",
   "execution_count": 55,
   "metadata": {},
   "outputs": [],
   "source": [
    "# Fitting and transforming X_train into a sparse matrix using the TfidfVectorizer object defined above.\n",
    "\n",
    "X_train_ctvec = ctvec_final.fit_transform(X_train)"
   ]
  },
  {
   "cell_type": "code",
   "execution_count": 56,
   "metadata": {},
   "outputs": [],
   "source": [
    "# Converting the sparse matrix to pandas DataFrame so as to visualize it.\n",
    "\n",
    "X_train_ctvec_df = pd.DataFrame(X_train_ctvec.toarray(), columns=ctvec_final.get_feature_names())"
   ]
  },
  {
   "cell_type": "code",
   "execution_count": 57,
   "metadata": {},
   "outputs": [
    {
     "data": {
      "text/html": [
       "<div>\n",
       "<style scoped>\n",
       "    .dataframe tbody tr th:only-of-type {\n",
       "        vertical-align: middle;\n",
       "    }\n",
       "\n",
       "    .dataframe tbody tr th {\n",
       "        vertical-align: top;\n",
       "    }\n",
       "\n",
       "    .dataframe thead th {\n",
       "        text-align: right;\n",
       "    }\n",
       "</style>\n",
       "<table border=\"1\" class=\"dataframe\">\n",
       "  <thead>\n",
       "    <tr style=\"text-align: right;\">\n",
       "      <th></th>\n",
       "      <th>abl</th>\n",
       "      <th>absolut</th>\n",
       "      <th>activ</th>\n",
       "      <th>actual</th>\n",
       "      <th>ad</th>\n",
       "      <th>add</th>\n",
       "      <th>advanc</th>\n",
       "      <th>advic</th>\n",
       "      <th>ago</th>\n",
       "      <th>almost</th>\n",
       "      <th>...</th>\n",
       "      <th>would</th>\n",
       "      <th>would like</th>\n",
       "      <th>would love</th>\n",
       "      <th>wrong</th>\n",
       "      <th>www</th>\n",
       "      <th>www reddit</th>\n",
       "      <th>year</th>\n",
       "      <th>year ago</th>\n",
       "      <th>yesterday</th>\n",
       "      <th>yet</th>\n",
       "    </tr>\n",
       "  </thead>\n",
       "  <tbody>\n",
       "    <tr>\n",
       "      <th>0</th>\n",
       "      <td>0</td>\n",
       "      <td>0</td>\n",
       "      <td>0</td>\n",
       "      <td>0</td>\n",
       "      <td>0</td>\n",
       "      <td>0</td>\n",
       "      <td>0</td>\n",
       "      <td>0</td>\n",
       "      <td>0</td>\n",
       "      <td>0</td>\n",
       "      <td>...</td>\n",
       "      <td>0</td>\n",
       "      <td>0</td>\n",
       "      <td>0</td>\n",
       "      <td>0</td>\n",
       "      <td>1</td>\n",
       "      <td>1</td>\n",
       "      <td>0</td>\n",
       "      <td>0</td>\n",
       "      <td>0</td>\n",
       "      <td>0</td>\n",
       "    </tr>\n",
       "    <tr>\n",
       "      <th>1</th>\n",
       "      <td>0</td>\n",
       "      <td>0</td>\n",
       "      <td>0</td>\n",
       "      <td>0</td>\n",
       "      <td>0</td>\n",
       "      <td>0</td>\n",
       "      <td>0</td>\n",
       "      <td>0</td>\n",
       "      <td>0</td>\n",
       "      <td>0</td>\n",
       "      <td>...</td>\n",
       "      <td>0</td>\n",
       "      <td>0</td>\n",
       "      <td>0</td>\n",
       "      <td>0</td>\n",
       "      <td>0</td>\n",
       "      <td>0</td>\n",
       "      <td>0</td>\n",
       "      <td>0</td>\n",
       "      <td>0</td>\n",
       "      <td>0</td>\n",
       "    </tr>\n",
       "    <tr>\n",
       "      <th>2</th>\n",
       "      <td>0</td>\n",
       "      <td>0</td>\n",
       "      <td>0</td>\n",
       "      <td>0</td>\n",
       "      <td>0</td>\n",
       "      <td>0</td>\n",
       "      <td>0</td>\n",
       "      <td>0</td>\n",
       "      <td>0</td>\n",
       "      <td>0</td>\n",
       "      <td>...</td>\n",
       "      <td>0</td>\n",
       "      <td>0</td>\n",
       "      <td>0</td>\n",
       "      <td>0</td>\n",
       "      <td>0</td>\n",
       "      <td>0</td>\n",
       "      <td>1</td>\n",
       "      <td>0</td>\n",
       "      <td>0</td>\n",
       "      <td>0</td>\n",
       "    </tr>\n",
       "    <tr>\n",
       "      <th>3</th>\n",
       "      <td>0</td>\n",
       "      <td>0</td>\n",
       "      <td>0</td>\n",
       "      <td>4</td>\n",
       "      <td>0</td>\n",
       "      <td>0</td>\n",
       "      <td>1</td>\n",
       "      <td>0</td>\n",
       "      <td>0</td>\n",
       "      <td>0</td>\n",
       "      <td>...</td>\n",
       "      <td>5</td>\n",
       "      <td>1</td>\n",
       "      <td>0</td>\n",
       "      <td>0</td>\n",
       "      <td>0</td>\n",
       "      <td>0</td>\n",
       "      <td>0</td>\n",
       "      <td>0</td>\n",
       "      <td>0</td>\n",
       "      <td>0</td>\n",
       "    </tr>\n",
       "    <tr>\n",
       "      <th>4</th>\n",
       "      <td>0</td>\n",
       "      <td>0</td>\n",
       "      <td>0</td>\n",
       "      <td>0</td>\n",
       "      <td>0</td>\n",
       "      <td>0</td>\n",
       "      <td>0</td>\n",
       "      <td>0</td>\n",
       "      <td>0</td>\n",
       "      <td>0</td>\n",
       "      <td>...</td>\n",
       "      <td>0</td>\n",
       "      <td>0</td>\n",
       "      <td>0</td>\n",
       "      <td>0</td>\n",
       "      <td>0</td>\n",
       "      <td>0</td>\n",
       "      <td>0</td>\n",
       "      <td>0</td>\n",
       "      <td>0</td>\n",
       "      <td>0</td>\n",
       "    </tr>\n",
       "    <tr>\n",
       "      <th>...</th>\n",
       "      <td>...</td>\n",
       "      <td>...</td>\n",
       "      <td>...</td>\n",
       "      <td>...</td>\n",
       "      <td>...</td>\n",
       "      <td>...</td>\n",
       "      <td>...</td>\n",
       "      <td>...</td>\n",
       "      <td>...</td>\n",
       "      <td>...</td>\n",
       "      <td>...</td>\n",
       "      <td>...</td>\n",
       "      <td>...</td>\n",
       "      <td>...</td>\n",
       "      <td>...</td>\n",
       "      <td>...</td>\n",
       "      <td>...</td>\n",
       "      <td>...</td>\n",
       "      <td>...</td>\n",
       "      <td>...</td>\n",
       "      <td>...</td>\n",
       "    </tr>\n",
       "    <tr>\n",
       "      <th>1495</th>\n",
       "      <td>0</td>\n",
       "      <td>0</td>\n",
       "      <td>0</td>\n",
       "      <td>0</td>\n",
       "      <td>0</td>\n",
       "      <td>0</td>\n",
       "      <td>0</td>\n",
       "      <td>0</td>\n",
       "      <td>0</td>\n",
       "      <td>0</td>\n",
       "      <td>...</td>\n",
       "      <td>0</td>\n",
       "      <td>0</td>\n",
       "      <td>0</td>\n",
       "      <td>0</td>\n",
       "      <td>0</td>\n",
       "      <td>0</td>\n",
       "      <td>1</td>\n",
       "      <td>0</td>\n",
       "      <td>0</td>\n",
       "      <td>1</td>\n",
       "    </tr>\n",
       "    <tr>\n",
       "      <th>1496</th>\n",
       "      <td>0</td>\n",
       "      <td>0</td>\n",
       "      <td>0</td>\n",
       "      <td>0</td>\n",
       "      <td>0</td>\n",
       "      <td>0</td>\n",
       "      <td>0</td>\n",
       "      <td>0</td>\n",
       "      <td>0</td>\n",
       "      <td>0</td>\n",
       "      <td>...</td>\n",
       "      <td>1</td>\n",
       "      <td>1</td>\n",
       "      <td>0</td>\n",
       "      <td>0</td>\n",
       "      <td>0</td>\n",
       "      <td>0</td>\n",
       "      <td>0</td>\n",
       "      <td>0</td>\n",
       "      <td>0</td>\n",
       "      <td>0</td>\n",
       "    </tr>\n",
       "    <tr>\n",
       "      <th>1497</th>\n",
       "      <td>0</td>\n",
       "      <td>0</td>\n",
       "      <td>0</td>\n",
       "      <td>0</td>\n",
       "      <td>0</td>\n",
       "      <td>1</td>\n",
       "      <td>0</td>\n",
       "      <td>0</td>\n",
       "      <td>0</td>\n",
       "      <td>0</td>\n",
       "      <td>...</td>\n",
       "      <td>2</td>\n",
       "      <td>0</td>\n",
       "      <td>0</td>\n",
       "      <td>0</td>\n",
       "      <td>0</td>\n",
       "      <td>0</td>\n",
       "      <td>2</td>\n",
       "      <td>0</td>\n",
       "      <td>0</td>\n",
       "      <td>0</td>\n",
       "    </tr>\n",
       "    <tr>\n",
       "      <th>1498</th>\n",
       "      <td>0</td>\n",
       "      <td>0</td>\n",
       "      <td>0</td>\n",
       "      <td>0</td>\n",
       "      <td>0</td>\n",
       "      <td>0</td>\n",
       "      <td>0</td>\n",
       "      <td>0</td>\n",
       "      <td>0</td>\n",
       "      <td>1</td>\n",
       "      <td>...</td>\n",
       "      <td>0</td>\n",
       "      <td>0</td>\n",
       "      <td>0</td>\n",
       "      <td>0</td>\n",
       "      <td>0</td>\n",
       "      <td>0</td>\n",
       "      <td>0</td>\n",
       "      <td>0</td>\n",
       "      <td>0</td>\n",
       "      <td>0</td>\n",
       "    </tr>\n",
       "    <tr>\n",
       "      <th>1499</th>\n",
       "      <td>0</td>\n",
       "      <td>0</td>\n",
       "      <td>0</td>\n",
       "      <td>0</td>\n",
       "      <td>0</td>\n",
       "      <td>0</td>\n",
       "      <td>0</td>\n",
       "      <td>0</td>\n",
       "      <td>0</td>\n",
       "      <td>0</td>\n",
       "      <td>...</td>\n",
       "      <td>0</td>\n",
       "      <td>0</td>\n",
       "      <td>0</td>\n",
       "      <td>0</td>\n",
       "      <td>0</td>\n",
       "      <td>0</td>\n",
       "      <td>0</td>\n",
       "      <td>0</td>\n",
       "      <td>1</td>\n",
       "      <td>0</td>\n",
       "    </tr>\n",
       "  </tbody>\n",
       "</table>\n",
       "<p>1500 rows × 500 columns</p>\n",
       "</div>"
      ],
      "text/plain": [
       "      abl  absolut  activ  actual  ad  add  advanc  advic  ago  almost  ...  \\\n",
       "0       0        0      0       0   0    0       0      0    0       0  ...   \n",
       "1       0        0      0       0   0    0       0      0    0       0  ...   \n",
       "2       0        0      0       0   0    0       0      0    0       0  ...   \n",
       "3       0        0      0       4   0    0       1      0    0       0  ...   \n",
       "4       0        0      0       0   0    0       0      0    0       0  ...   \n",
       "...   ...      ...    ...     ...  ..  ...     ...    ...  ...     ...  ...   \n",
       "1495    0        0      0       0   0    0       0      0    0       0  ...   \n",
       "1496    0        0      0       0   0    0       0      0    0       0  ...   \n",
       "1497    0        0      0       0   0    1       0      0    0       0  ...   \n",
       "1498    0        0      0       0   0    0       0      0    0       1  ...   \n",
       "1499    0        0      0       0   0    0       0      0    0       0  ...   \n",
       "\n",
       "      would  would like  would love  wrong  www  www reddit  year  year ago  \\\n",
       "0         0           0           0      0    1           1     0         0   \n",
       "1         0           0           0      0    0           0     0         0   \n",
       "2         0           0           0      0    0           0     1         0   \n",
       "3         5           1           0      0    0           0     0         0   \n",
       "4         0           0           0      0    0           0     0         0   \n",
       "...     ...         ...         ...    ...  ...         ...   ...       ...   \n",
       "1495      0           0           0      0    0           0     1         0   \n",
       "1496      1           1           0      0    0           0     0         0   \n",
       "1497      2           0           0      0    0           0     2         0   \n",
       "1498      0           0           0      0    0           0     0         0   \n",
       "1499      0           0           0      0    0           0     0         0   \n",
       "\n",
       "      yesterday  yet  \n",
       "0             0    0  \n",
       "1             0    0  \n",
       "2             0    0  \n",
       "3             0    0  \n",
       "4             0    0  \n",
       "...         ...  ...  \n",
       "1495          0    1  \n",
       "1496          0    0  \n",
       "1497          0    0  \n",
       "1498          0    0  \n",
       "1499          1    0  \n",
       "\n",
       "[1500 rows x 500 columns]"
      ]
     },
     "execution_count": 57,
     "metadata": {},
     "output_type": "execute_result"
    }
   ],
   "source": [
    "X_train_ctvec_df"
   ]
  },
  {
   "cell_type": "code",
   "execution_count": 58,
   "metadata": {},
   "outputs": [],
   "source": [
    "# Transforming X_test into a sparse matrix using the TfidfVectorizer object defined above.\n",
    "\n",
    "X_test_ctvec = ctvec_final.transform(X_test)"
   ]
  },
  {
   "cell_type": "code",
   "execution_count": 59,
   "metadata": {},
   "outputs": [],
   "source": [
    "# Converting the sparse matrix to pandas DataFrame so as to visualize it.\n",
    "\n",
    "X_test_ctvec_df = pd.DataFrame(X_test_ctvec.toarray(), columns=ctvec_final.get_feature_names())"
   ]
  },
  {
   "cell_type": "code",
   "execution_count": 60,
   "metadata": {
    "scrolled": true
   },
   "outputs": [
    {
     "data": {
      "text/html": [
       "<div>\n",
       "<style scoped>\n",
       "    .dataframe tbody tr th:only-of-type {\n",
       "        vertical-align: middle;\n",
       "    }\n",
       "\n",
       "    .dataframe tbody tr th {\n",
       "        vertical-align: top;\n",
       "    }\n",
       "\n",
       "    .dataframe thead th {\n",
       "        text-align: right;\n",
       "    }\n",
       "</style>\n",
       "<table border=\"1\" class=\"dataframe\">\n",
       "  <thead>\n",
       "    <tr style=\"text-align: right;\">\n",
       "      <th></th>\n",
       "      <th>abl</th>\n",
       "      <th>absolut</th>\n",
       "      <th>activ</th>\n",
       "      <th>actual</th>\n",
       "      <th>ad</th>\n",
       "      <th>add</th>\n",
       "      <th>advanc</th>\n",
       "      <th>advic</th>\n",
       "      <th>ago</th>\n",
       "      <th>almost</th>\n",
       "      <th>...</th>\n",
       "      <th>would</th>\n",
       "      <th>would like</th>\n",
       "      <th>would love</th>\n",
       "      <th>wrong</th>\n",
       "      <th>www</th>\n",
       "      <th>www reddit</th>\n",
       "      <th>year</th>\n",
       "      <th>year ago</th>\n",
       "      <th>yesterday</th>\n",
       "      <th>yet</th>\n",
       "    </tr>\n",
       "  </thead>\n",
       "  <tbody>\n",
       "    <tr>\n",
       "      <th>0</th>\n",
       "      <td>0</td>\n",
       "      <td>0</td>\n",
       "      <td>0</td>\n",
       "      <td>0</td>\n",
       "      <td>0</td>\n",
       "      <td>0</td>\n",
       "      <td>1</td>\n",
       "      <td>0</td>\n",
       "      <td>0</td>\n",
       "      <td>0</td>\n",
       "      <td>...</td>\n",
       "      <td>0</td>\n",
       "      <td>0</td>\n",
       "      <td>0</td>\n",
       "      <td>0</td>\n",
       "      <td>0</td>\n",
       "      <td>0</td>\n",
       "      <td>0</td>\n",
       "      <td>0</td>\n",
       "      <td>0</td>\n",
       "      <td>0</td>\n",
       "    </tr>\n",
       "    <tr>\n",
       "      <th>1</th>\n",
       "      <td>0</td>\n",
       "      <td>0</td>\n",
       "      <td>0</td>\n",
       "      <td>0</td>\n",
       "      <td>0</td>\n",
       "      <td>0</td>\n",
       "      <td>0</td>\n",
       "      <td>0</td>\n",
       "      <td>0</td>\n",
       "      <td>0</td>\n",
       "      <td>...</td>\n",
       "      <td>0</td>\n",
       "      <td>0</td>\n",
       "      <td>0</td>\n",
       "      <td>0</td>\n",
       "      <td>0</td>\n",
       "      <td>0</td>\n",
       "      <td>0</td>\n",
       "      <td>0</td>\n",
       "      <td>0</td>\n",
       "      <td>0</td>\n",
       "    </tr>\n",
       "    <tr>\n",
       "      <th>2</th>\n",
       "      <td>0</td>\n",
       "      <td>1</td>\n",
       "      <td>0</td>\n",
       "      <td>0</td>\n",
       "      <td>0</td>\n",
       "      <td>0</td>\n",
       "      <td>0</td>\n",
       "      <td>1</td>\n",
       "      <td>0</td>\n",
       "      <td>0</td>\n",
       "      <td>...</td>\n",
       "      <td>0</td>\n",
       "      <td>0</td>\n",
       "      <td>0</td>\n",
       "      <td>0</td>\n",
       "      <td>0</td>\n",
       "      <td>0</td>\n",
       "      <td>0</td>\n",
       "      <td>0</td>\n",
       "      <td>1</td>\n",
       "      <td>0</td>\n",
       "    </tr>\n",
       "    <tr>\n",
       "      <th>3</th>\n",
       "      <td>0</td>\n",
       "      <td>0</td>\n",
       "      <td>0</td>\n",
       "      <td>0</td>\n",
       "      <td>0</td>\n",
       "      <td>0</td>\n",
       "      <td>0</td>\n",
       "      <td>0</td>\n",
       "      <td>0</td>\n",
       "      <td>0</td>\n",
       "      <td>...</td>\n",
       "      <td>3</td>\n",
       "      <td>0</td>\n",
       "      <td>0</td>\n",
       "      <td>0</td>\n",
       "      <td>0</td>\n",
       "      <td>0</td>\n",
       "      <td>0</td>\n",
       "      <td>0</td>\n",
       "      <td>0</td>\n",
       "      <td>2</td>\n",
       "    </tr>\n",
       "    <tr>\n",
       "      <th>4</th>\n",
       "      <td>0</td>\n",
       "      <td>0</td>\n",
       "      <td>0</td>\n",
       "      <td>0</td>\n",
       "      <td>0</td>\n",
       "      <td>0</td>\n",
       "      <td>0</td>\n",
       "      <td>0</td>\n",
       "      <td>0</td>\n",
       "      <td>0</td>\n",
       "      <td>...</td>\n",
       "      <td>0</td>\n",
       "      <td>0</td>\n",
       "      <td>0</td>\n",
       "      <td>0</td>\n",
       "      <td>2</td>\n",
       "      <td>2</td>\n",
       "      <td>0</td>\n",
       "      <td>0</td>\n",
       "      <td>0</td>\n",
       "      <td>0</td>\n",
       "    </tr>\n",
       "    <tr>\n",
       "      <th>...</th>\n",
       "      <td>...</td>\n",
       "      <td>...</td>\n",
       "      <td>...</td>\n",
       "      <td>...</td>\n",
       "      <td>...</td>\n",
       "      <td>...</td>\n",
       "      <td>...</td>\n",
       "      <td>...</td>\n",
       "      <td>...</td>\n",
       "      <td>...</td>\n",
       "      <td>...</td>\n",
       "      <td>...</td>\n",
       "      <td>...</td>\n",
       "      <td>...</td>\n",
       "      <td>...</td>\n",
       "      <td>...</td>\n",
       "      <td>...</td>\n",
       "      <td>...</td>\n",
       "      <td>...</td>\n",
       "      <td>...</td>\n",
       "      <td>...</td>\n",
       "    </tr>\n",
       "    <tr>\n",
       "      <th>495</th>\n",
       "      <td>1</td>\n",
       "      <td>0</td>\n",
       "      <td>0</td>\n",
       "      <td>1</td>\n",
       "      <td>0</td>\n",
       "      <td>0</td>\n",
       "      <td>0</td>\n",
       "      <td>0</td>\n",
       "      <td>0</td>\n",
       "      <td>0</td>\n",
       "      <td>...</td>\n",
       "      <td>0</td>\n",
       "      <td>0</td>\n",
       "      <td>0</td>\n",
       "      <td>0</td>\n",
       "      <td>2</td>\n",
       "      <td>0</td>\n",
       "      <td>0</td>\n",
       "      <td>0</td>\n",
       "      <td>0</td>\n",
       "      <td>0</td>\n",
       "    </tr>\n",
       "    <tr>\n",
       "      <th>496</th>\n",
       "      <td>0</td>\n",
       "      <td>0</td>\n",
       "      <td>0</td>\n",
       "      <td>0</td>\n",
       "      <td>0</td>\n",
       "      <td>0</td>\n",
       "      <td>0</td>\n",
       "      <td>0</td>\n",
       "      <td>0</td>\n",
       "      <td>0</td>\n",
       "      <td>...</td>\n",
       "      <td>1</td>\n",
       "      <td>0</td>\n",
       "      <td>1</td>\n",
       "      <td>0</td>\n",
       "      <td>0</td>\n",
       "      <td>0</td>\n",
       "      <td>0</td>\n",
       "      <td>0</td>\n",
       "      <td>0</td>\n",
       "      <td>1</td>\n",
       "    </tr>\n",
       "    <tr>\n",
       "      <th>497</th>\n",
       "      <td>0</td>\n",
       "      <td>0</td>\n",
       "      <td>0</td>\n",
       "      <td>0</td>\n",
       "      <td>0</td>\n",
       "      <td>0</td>\n",
       "      <td>0</td>\n",
       "      <td>0</td>\n",
       "      <td>0</td>\n",
       "      <td>0</td>\n",
       "      <td>...</td>\n",
       "      <td>1</td>\n",
       "      <td>0</td>\n",
       "      <td>0</td>\n",
       "      <td>0</td>\n",
       "      <td>0</td>\n",
       "      <td>0</td>\n",
       "      <td>3</td>\n",
       "      <td>0</td>\n",
       "      <td>0</td>\n",
       "      <td>1</td>\n",
       "    </tr>\n",
       "    <tr>\n",
       "      <th>498</th>\n",
       "      <td>0</td>\n",
       "      <td>0</td>\n",
       "      <td>0</td>\n",
       "      <td>0</td>\n",
       "      <td>0</td>\n",
       "      <td>0</td>\n",
       "      <td>0</td>\n",
       "      <td>0</td>\n",
       "      <td>0</td>\n",
       "      <td>0</td>\n",
       "      <td>...</td>\n",
       "      <td>0</td>\n",
       "      <td>0</td>\n",
       "      <td>0</td>\n",
       "      <td>0</td>\n",
       "      <td>0</td>\n",
       "      <td>0</td>\n",
       "      <td>0</td>\n",
       "      <td>0</td>\n",
       "      <td>0</td>\n",
       "      <td>0</td>\n",
       "    </tr>\n",
       "    <tr>\n",
       "      <th>499</th>\n",
       "      <td>0</td>\n",
       "      <td>0</td>\n",
       "      <td>0</td>\n",
       "      <td>0</td>\n",
       "      <td>0</td>\n",
       "      <td>0</td>\n",
       "      <td>0</td>\n",
       "      <td>0</td>\n",
       "      <td>0</td>\n",
       "      <td>0</td>\n",
       "      <td>...</td>\n",
       "      <td>2</td>\n",
       "      <td>0</td>\n",
       "      <td>0</td>\n",
       "      <td>0</td>\n",
       "      <td>0</td>\n",
       "      <td>0</td>\n",
       "      <td>0</td>\n",
       "      <td>0</td>\n",
       "      <td>0</td>\n",
       "      <td>0</td>\n",
       "    </tr>\n",
       "  </tbody>\n",
       "</table>\n",
       "<p>500 rows × 500 columns</p>\n",
       "</div>"
      ],
      "text/plain": [
       "     abl  absolut  activ  actual  ad  add  advanc  advic  ago  almost  ...  \\\n",
       "0      0        0      0       0   0    0       1      0    0       0  ...   \n",
       "1      0        0      0       0   0    0       0      0    0       0  ...   \n",
       "2      0        1      0       0   0    0       0      1    0       0  ...   \n",
       "3      0        0      0       0   0    0       0      0    0       0  ...   \n",
       "4      0        0      0       0   0    0       0      0    0       0  ...   \n",
       "..   ...      ...    ...     ...  ..  ...     ...    ...  ...     ...  ...   \n",
       "495    1        0      0       1   0    0       0      0    0       0  ...   \n",
       "496    0        0      0       0   0    0       0      0    0       0  ...   \n",
       "497    0        0      0       0   0    0       0      0    0       0  ...   \n",
       "498    0        0      0       0   0    0       0      0    0       0  ...   \n",
       "499    0        0      0       0   0    0       0      0    0       0  ...   \n",
       "\n",
       "     would  would like  would love  wrong  www  www reddit  year  year ago  \\\n",
       "0        0           0           0      0    0           0     0         0   \n",
       "1        0           0           0      0    0           0     0         0   \n",
       "2        0           0           0      0    0           0     0         0   \n",
       "3        3           0           0      0    0           0     0         0   \n",
       "4        0           0           0      0    2           2     0         0   \n",
       "..     ...         ...         ...    ...  ...         ...   ...       ...   \n",
       "495      0           0           0      0    2           0     0         0   \n",
       "496      1           0           1      0    0           0     0         0   \n",
       "497      1           0           0      0    0           0     3         0   \n",
       "498      0           0           0      0    0           0     0         0   \n",
       "499      2           0           0      0    0           0     0         0   \n",
       "\n",
       "     yesterday  yet  \n",
       "0            0    0  \n",
       "1            0    0  \n",
       "2            1    0  \n",
       "3            0    2  \n",
       "4            0    0  \n",
       "..         ...  ...  \n",
       "495          0    0  \n",
       "496          0    1  \n",
       "497          0    1  \n",
       "498          0    0  \n",
       "499          0    0  \n",
       "\n",
       "[500 rows x 500 columns]"
      ]
     },
     "execution_count": 60,
     "metadata": {},
     "output_type": "execute_result"
    }
   ],
   "source": [
    "X_test_ctvec_df"
   ]
  },
  {
   "cell_type": "code",
   "execution_count": 61,
   "metadata": {},
   "outputs": [],
   "source": [
    "# Creating a MultinomialNB object with best params suggested above.\n",
    "\n",
    "ct_mnb_final = MultinomialNB(alpha=0.5, fit_prior=True)"
   ]
  },
  {
   "cell_type": "code",
   "execution_count": 62,
   "metadata": {},
   "outputs": [
    {
     "data": {
      "text/plain": [
       "MultinomialNB(alpha=0.5)"
      ]
     },
     "execution_count": 62,
     "metadata": {},
     "output_type": "execute_result"
    }
   ],
   "source": [
    "# Fitting the final model on X_train_tfvec sparse matrix and y_train.\n",
    "\n",
    "ct_mnb_final.fit(X_train_ctvec, y_train)"
   ]
  },
  {
   "cell_type": "code",
   "execution_count": 63,
   "metadata": {},
   "outputs": [
    {
     "data": {
      "text/plain": [
       "0.924"
      ]
     },
     "execution_count": 63,
     "metadata": {},
     "output_type": "execute_result"
    }
   ],
   "source": [
    "# Accuracy score on training corpus.\n",
    "\n",
    "ct_mnb_final.score(X_train_ctvec, y_train)"
   ]
  },
  {
   "cell_type": "code",
   "execution_count": 64,
   "metadata": {},
   "outputs": [
    {
     "data": {
      "text/plain": [
       "0.9153333333333332"
      ]
     },
     "execution_count": 64,
     "metadata": {},
     "output_type": "execute_result"
    }
   ],
   "source": [
    "# 5 fold cross-validated accuracy score on training corpus, ie. ESTIMATED accuracy score on testing corpus.\n",
    "\n",
    "cross_val_score(ct_mnb_final, X_train_ctvec, y_train, cv=5).mean()"
   ]
  },
  {
   "cell_type": "code",
   "execution_count": 65,
   "metadata": {},
   "outputs": [
    {
     "data": {
      "text/plain": [
       "0.916"
      ]
     },
     "execution_count": 65,
     "metadata": {},
     "output_type": "execute_result"
    }
   ],
   "source": [
    "# ACTUAL accuracy score on testing corpus.\n",
    "\n",
    "ct_mnb_final.score(X_test_ctvec, y_test)"
   ]
  },
  {
   "cell_type": "code",
   "execution_count": 66,
   "metadata": {},
   "outputs": [],
   "source": [
    "# Generating predictions for the testing corpus.\n",
    "\n",
    "y_pred = ct_mnb_final.predict(X_test_ctvec)"
   ]
  },
  {
   "cell_type": "code",
   "execution_count": 67,
   "metadata": {},
   "outputs": [],
   "source": [
    "# Generating predictions for the testing corpus.\n",
    "\n",
    "y_pred_proba = ct_mnb_final.predict_proba(X_test_ctvec)"
   ]
  },
  {
   "cell_type": "code",
   "execution_count": 68,
   "metadata": {},
   "outputs": [],
   "source": [
    "# Generating a confusion matrix to analyse the degree of skewness in classification towards a particular subreddit.\n",
    "\n",
    "tn, fp, fn, tp = confusion_matrix(y_test, y_pred).ravel()"
   ]
  },
  {
   "cell_type": "code",
   "execution_count": 69,
   "metadata": {},
   "outputs": [],
   "source": [
    "# Putting the above in a dataframe for easier visualization and understanding.\n",
    "\n",
    "confusion_matrix = pd.DataFrame(columns=['Actual vegan', 'Actual keto'], \n",
    "                        index=['Predicted vegan', 'Predicted keto'],\n",
    "                        data=[[f'{tp} (True Pos)', f'{fp} (False Pos)'], [f'{fn} (False Neg)', f'{tn} (True Neg)']]\n",
    "                       )"
   ]
  },
  {
   "cell_type": "code",
   "execution_count": 70,
   "metadata": {
    "scrolled": true
   },
   "outputs": [
    {
     "data": {
      "text/html": [
       "<div>\n",
       "<style scoped>\n",
       "    .dataframe tbody tr th:only-of-type {\n",
       "        vertical-align: middle;\n",
       "    }\n",
       "\n",
       "    .dataframe tbody tr th {\n",
       "        vertical-align: top;\n",
       "    }\n",
       "\n",
       "    .dataframe thead th {\n",
       "        text-align: right;\n",
       "    }\n",
       "</style>\n",
       "<table border=\"1\" class=\"dataframe\">\n",
       "  <thead>\n",
       "    <tr style=\"text-align: right;\">\n",
       "      <th></th>\n",
       "      <th>Actual vegan</th>\n",
       "      <th>Actual keto</th>\n",
       "    </tr>\n",
       "  </thead>\n",
       "  <tbody>\n",
       "    <tr>\n",
       "      <th>Predicted vegan</th>\n",
       "      <td>218 (True Pos)</td>\n",
       "      <td>10 (False Pos)</td>\n",
       "    </tr>\n",
       "    <tr>\n",
       "      <th>Predicted keto</th>\n",
       "      <td>32 (False Neg)</td>\n",
       "      <td>240 (True Neg)</td>\n",
       "    </tr>\n",
       "  </tbody>\n",
       "</table>\n",
       "</div>"
      ],
      "text/plain": [
       "                   Actual vegan     Actual keto\n",
       "Predicted vegan  218 (True Pos)  10 (False Pos)\n",
       "Predicted keto   32 (False Neg)  240 (True Neg)"
      ]
     },
     "execution_count": 70,
     "metadata": {},
     "output_type": "execute_result"
    }
   ],
   "source": [
    "confusion_matrix"
   ]
  },
  {
   "cell_type": "code",
   "execution_count": 71,
   "metadata": {},
   "outputs": [
    {
     "data": {
      "text/plain": [
       "0.872"
      ]
     },
     "execution_count": 71,
     "metadata": {},
     "output_type": "execute_result"
    }
   ],
   "source": [
    "# Calculating the Sensitivity, ie. True Positive Rate\n",
    "\n",
    "sensitivity = tp/(tp+fn)\n",
    "sensitivity"
   ]
  },
  {
   "cell_type": "code",
   "execution_count": 72,
   "metadata": {},
   "outputs": [
    {
     "data": {
      "text/plain": [
       "0.96"
      ]
     },
     "execution_count": 72,
     "metadata": {},
     "output_type": "execute_result"
    }
   ],
   "source": [
    "# Calculating the Specificity, ie. True Negative Rate\n",
    "\n",
    "specificity = tn/(tn+fp)\n",
    "specificity"
   ]
  },
  {
   "cell_type": "code",
   "execution_count": 73,
   "metadata": {},
   "outputs": [
    {
     "data": {
      "text/plain": [
       "0.9778159999999998"
      ]
     },
     "execution_count": 73,
     "metadata": {},
     "output_type": "execute_result"
    }
   ],
   "source": [
    "# Calculating the ROC AUC score.\n",
    "\n",
    "roc_auc = roc_auc_score(y_test, y_pred_proba[:, 1])\n",
    "roc_auc"
   ]
  },
  {
   "cell_type": "code",
   "execution_count": 74,
   "metadata": {},
   "outputs": [
    {
     "data": {
      "text/html": [
       "<div>\n",
       "<style scoped>\n",
       "    .dataframe tbody tr th:only-of-type {\n",
       "        vertical-align: middle;\n",
       "    }\n",
       "\n",
       "    .dataframe tbody tr th {\n",
       "        vertical-align: top;\n",
       "    }\n",
       "\n",
       "    .dataframe thead th {\n",
       "        text-align: right;\n",
       "    }\n",
       "</style>\n",
       "<table border=\"1\" class=\"dataframe\">\n",
       "  <thead>\n",
       "    <tr style=\"text-align: right;\">\n",
       "      <th></th>\n",
       "      <th>true_values</th>\n",
       "      <th>pred_probs</th>\n",
       "    </tr>\n",
       "  </thead>\n",
       "  <tbody>\n",
       "    <tr>\n",
       "      <th>710</th>\n",
       "      <td>1</td>\n",
       "      <td>9.999641e-01</td>\n",
       "    </tr>\n",
       "    <tr>\n",
       "      <th>1323</th>\n",
       "      <td>0</td>\n",
       "      <td>3.033491e-02</td>\n",
       "    </tr>\n",
       "    <tr>\n",
       "      <th>1560</th>\n",
       "      <td>1</td>\n",
       "      <td>1.000000e+00</td>\n",
       "    </tr>\n",
       "    <tr>\n",
       "      <th>1310</th>\n",
       "      <td>0</td>\n",
       "      <td>4.396899e-93</td>\n",
       "    </tr>\n",
       "    <tr>\n",
       "      <th>327</th>\n",
       "      <td>1</td>\n",
       "      <td>9.895279e-01</td>\n",
       "    </tr>\n",
       "    <tr>\n",
       "      <th>1004</th>\n",
       "      <td>0</td>\n",
       "      <td>4.498918e-08</td>\n",
       "    </tr>\n",
       "    <tr>\n",
       "      <th>1152</th>\n",
       "      <td>0</td>\n",
       "      <td>4.035000e-07</td>\n",
       "    </tr>\n",
       "    <tr>\n",
       "      <th>1186</th>\n",
       "      <td>1</td>\n",
       "      <td>9.999999e-01</td>\n",
       "    </tr>\n",
       "    <tr>\n",
       "      <th>1682</th>\n",
       "      <td>0</td>\n",
       "      <td>6.024489e-03</td>\n",
       "    </tr>\n",
       "    <tr>\n",
       "      <th>212</th>\n",
       "      <td>0</td>\n",
       "      <td>3.818793e-17</td>\n",
       "    </tr>\n",
       "  </tbody>\n",
       "</table>\n",
       "</div>"
      ],
      "text/plain": [
       "      true_values    pred_probs\n",
       "710             1  9.999641e-01\n",
       "1323            0  3.033491e-02\n",
       "1560            1  1.000000e+00\n",
       "1310            0  4.396899e-93\n",
       "327             1  9.895279e-01\n",
       "1004            0  4.498918e-08\n",
       "1152            0  4.035000e-07\n",
       "1186            1  9.999999e-01\n",
       "1682            0  6.024489e-03\n",
       "212             0  3.818793e-17"
      ]
     },
     "execution_count": 74,
     "metadata": {},
     "output_type": "execute_result"
    }
   ],
   "source": [
    "# Creating a dataframe of actual values from y_test and of predicted probabilities of positive class from y_pred_proba.\n",
    "\n",
    "pred_df = pd.DataFrame({'true_values' : y_test,\n",
    "                        'pred_probs' : y_pred_proba[:, 1]\n",
    "                       })\n",
    "pred_df.head(10)"
   ]
  },
  {
   "cell_type": "code",
   "execution_count": 75,
   "metadata": {
    "scrolled": true
   },
   "outputs": [],
   "source": [
    "# Creating threshold values \n",
    "thresholds = np.linspace(0, 1, 200)\n",
    "\n",
    "# Defining a function to calculate Sensitivity (True Positive Rate).\n",
    "def TPR(df, true_col, pred_prob_col, threshold):\n",
    "    true_positive = df[(df[true_col] == 1) & (df[pred_prob_col] >= threshold)].shape[0]\n",
    "    false_negative = df[(df[true_col] == 1) & (df[pred_prob_col] < threshold)].shape[0]\n",
    "    return true_positive / (true_positive + false_negative)\n",
    "\n",
    "# Defining a function to calculate 1 - Specificity (1 - True Negative Rate).\n",
    "def TNR(df, true_col, pred_prob_col, threshold):\n",
    "    true_negative = df[(df[true_col] == 0) & (df[pred_prob_col] <= threshold)].shape[0]\n",
    "    false_positive = df[(df[true_col] == 0) & (df[pred_prob_col] > threshold)].shape[0]\n",
    "    return 1 - (true_negative / (true_negative + false_positive))\n",
    "    \n",
    "# Calculating Sensitivity & 1 - Specificity for each threshold between 0 and 1.\n",
    "tpr_values = [TPR(pred_df, 'true_values', 'pred_probs', prob) for prob in thresholds]\n",
    "tnr_values = [TNR(pred_df, 'true_values', 'pred_probs', prob) for prob in thresholds]\n"
   ]
  },
  {
   "cell_type": "code",
   "execution_count": 76,
   "metadata": {
    "scrolled": true
   },
   "outputs": [
    {
     "data": {
      "text/plain": [
       "array([1.40716946e-03, 8.10188475e-04, 1.57773545e-03, 2.25999943e-03,\n",
       "       9.23899139e-04, 1.29345879e-03, 8.38616141e-04, 2.00415044e-03,\n",
       "       2.28842710e-03, 1.66301845e-03, 1.89043978e-03, 6.63785997e-03,\n",
       "       1.63459078e-03, 2.74326975e-03, 8.67043807e-04, 1.17974813e-03,\n",
       "       1.80373540e-02, 2.57270376e-03, 1.35031413e-03, 6.68050146e-04,\n",
       "       7.53333144e-04, 4.87534469e-03, 7.53333144e-04, 2.20314410e-03,\n",
       "       1.46402479e-03, 1.26503113e-03, 1.43559712e-03, 1.71987378e-03,\n",
       "       2.68641442e-03, 7.81760810e-04, 3.51081673e-03, 1.17974813e-03,\n",
       "       6.96477812e-04, 1.23660346e-03, 1.23660346e-03, 2.51584842e-03,\n",
       "       2.23157177e-03, 4.12201154e-04, 2.91383574e-03, 1.23660346e-03,\n",
       "       1.91886744e-03, 5.54339483e-04, 1.46402479e-03, 6.11194815e-04,\n",
       "       2.91383574e-03, 2.74326975e-03, 9.80754470e-04, 1.66301845e-03,\n",
       "       1.26503113e-03, 1.17974813e-03, 6.39622481e-04, 1.43559712e-03,\n",
       "       5.54339483e-04, 5.25911817e-04, 1.09446513e-03, 7.24905478e-04,\n",
       "       3.08440174e-03, 1.66301845e-03, 8.95471473e-04, 1.00918214e-03,\n",
       "       5.25911817e-04, 1.63459078e-03, 8.95471473e-04, 3.36867840e-03,\n",
       "       1.56352162e-04, 7.81760810e-04, 2.62955909e-03, 3.19811240e-03,\n",
       "       8.10188475e-04, 7.24905478e-04, 5.89874065e-03, 2.94226341e-03,\n",
       "       1.80515678e-03, 1.40716946e-03, 1.37874179e-03, 4.69056486e-04,\n",
       "       1.74830145e-03, 1.54930779e-03, 1.06603747e-03, 8.95471473e-04,\n",
       "       2.91383574e-03, 5.47232567e-03, 2.41635159e-04, 1.43559712e-03,\n",
       "       9.80754470e-04, 1.86201211e-03, 5.82767149e-04, 8.10188475e-04,\n",
       "       1.09446513e-03, 7.24905478e-04, 1.43559712e-03, 1.20817580e-03,\n",
       "       5.54339483e-04, 2.17471643e-03, 5.35861500e-03, 9.52326804e-04,\n",
       "       1.46402479e-03, 9.94968303e-05, 1.09446513e-03, 9.23899139e-04,\n",
       "       5.21647668e-03, 2.45899309e-03, 7.53333144e-04, 8.10188475e-04,\n",
       "       1.09446513e-03, 5.82767149e-04, 1.74830145e-03, 2.48742076e-03,\n",
       "       1.00918214e-03, 1.29345879e-03, 2.13207494e-04, 1.03760980e-03,\n",
       "       1.15132047e-03, 1.96577309e-02, 3.08440174e-03, 7.24905478e-04,\n",
       "       3.31182307e-03, 1.35031413e-03, 1.42138329e-05, 1.86201211e-03,\n",
       "       1.35031413e-03, 4.12201154e-04, 1.52088012e-03, 1.94729511e-03,\n",
       "       8.95471473e-04, 8.67043807e-04, 2.99911874e-03, 2.00415044e-03,\n",
       "       6.26830031e-03, 2.03257811e-03, 2.51584842e-03, 4.12201154e-04,\n",
       "       4.69056486e-04, 2.45899309e-03, 1.49245245e-03, 8.10188475e-04,\n",
       "       4.40628820e-04, 7.24905478e-04, 1.86201211e-03, 3.83773488e-04,\n",
       "       9.52326804e-04, 1.00918214e-03, 8.38616141e-04, 2.14628877e-03,\n",
       "       3.22654007e-03, 4.26414987e-05, 8.67043807e-04, 1.91886744e-03,\n",
       "       3.55345823e-04, 6.96477812e-04, 9.80754470e-04, 1.02766012e-02,\n",
       "       2.23157177e-03, 1.06603747e-03, 7.24905478e-04, 8.38616141e-04,\n",
       "       4.76163402e-03, 8.95471473e-04, 2.43056543e-03, 4.40628820e-04,\n",
       "       2.80012508e-03, 5.82767149e-04, 1.09446513e-03, 1.05608778e-02,\n",
       "       1.00918214e-03, 2.00415044e-03, 2.17471643e-03, 3.93723171e-03,\n",
       "       5.25911817e-04, 1.23660346e-03, 6.96477812e-04, 5.82767149e-04,\n",
       "       4.40628820e-04, 1.29345879e-03, 1.06461608e-02, 2.37371009e-03,\n",
       "       1.56352162e-04, 1.08167268e-02, 5.25911817e-04, 4.69056486e-04,\n",
       "       4.87534469e-03, 7.24905478e-04, 2.11786110e-03, 1.84779828e-04,\n",
       "       2.14628877e-03, 5.82767149e-04, 8.95471473e-04, 8.95471473e-04,\n",
       "       2.06100577e-03, 8.10188475e-04, 1.06603747e-03, 1.97572277e-03,\n",
       "       1.29345879e-03, 1.71987378e-03, 1.71987378e-03, 4.69056486e-04,\n",
       "       3.11282941e-03, 1.71987378e-03, 1.46402479e-03, 8.67043807e-04,\n",
       "       1.29345879e-03, 5.98402365e-03, 1.03760980e-03, 1.74830145e-03,\n",
       "       1.15132047e-03, 5.54339483e-04, 1.23660346e-03, 2.28842710e-03,\n",
       "       1.03760980e-03, 4.97484152e-04, 1.69144612e-03, 8.96892856e-03,\n",
       "       7.10691645e-05, 4.64792336e-03, 8.10188475e-04, 3.45396140e-03,\n",
       "       4.12201154e-04, 1.09446513e-03, 2.20314410e-03, 7.10691645e-05,\n",
       "       7.10691645e-05, 5.25911817e-04, 1.35031413e-03, 1.83358444e-03,\n",
       "       2.41635159e-04, 1.26503113e-03, 1.23660346e-03, 8.67043807e-04,\n",
       "       2.70062825e-04, 1.46402479e-03, 2.08943344e-03, 2.98490491e-04,\n",
       "       2.14628877e-03, 1.42138329e-05, 1.42138329e-05, 2.13207494e-04,\n",
       "       1.83358444e-03, 2.06100577e-03, 9.99232453e-03, 2.14628877e-03,\n",
       "       5.25911817e-04, 8.38616141e-04, 5.82767149e-04, 3.83773488e-04,\n",
       "       1.52088012e-03, 1.29345879e-03, 8.67043807e-04, 1.71987378e-03,\n",
       "       1.74830145e-03, 8.10188475e-04, 3.34025073e-03, 1.29345879e-03,\n",
       "       1.62748387e-02, 5.54339483e-04, 1.32188646e-03, 1.17974813e-03,\n",
       "       1.29345879e-03, 1.57773545e-03, 4.42050203e-03, 1.23660346e-03,\n",
       "       5.25911817e-04, 1.97572277e-03, 4.69056486e-04, 4.70477869e-03,\n",
       "       4.40628820e-04, 1.84779828e-04, 3.26918157e-04, 4.69056486e-04,\n",
       "       4.26414987e-05, 4.02251471e-03, 5.15962134e-03, 7.81760810e-04,\n",
       "       1.27924496e-04, 3.55345823e-04, 8.38616141e-04, 1.56352162e-04,\n",
       "       3.45396140e-03, 3.55345823e-04, 1.03050289e-02, 6.11194815e-04,\n",
       "       6.68050146e-04, 3.19811240e-03, 9.52326804e-04, 1.15132047e-03,\n",
       "       1.66301845e-03, 2.97069108e-03, 2.03257811e-03, 1.33467891e-02,\n",
       "       4.69056486e-04, 7.81760810e-04, 1.94729511e-03, 5.35861500e-03,\n",
       "       1.54930779e-03, 1.03760980e-03, 6.39622481e-04, 8.10188475e-04,\n",
       "       3.22654007e-03, 7.24905478e-04, 6.11194815e-04, 7.53333144e-04,\n",
       "       4.40628820e-04, 1.06603747e-03, 6.01245132e-03, 1.84779828e-04,\n",
       "       1.63459078e-03, 6.29672798e-03, 7.10691645e-05, 1.42138329e-05,\n",
       "       3.45396140e-03, 2.88540808e-03, 4.69056486e-04, 5.82767149e-04,\n",
       "       2.71484208e-03, 1.15132047e-03, 8.95471473e-04, 9.80754470e-04,\n",
       "       5.82767149e-04, 1.20817580e-03, 8.67043807e-04, 9.80754470e-04,\n",
       "       8.38616141e-04, 6.68050146e-04, 1.03760980e-03, 1.26503113e-03,\n",
       "       8.65622424e-03, 1.35031413e-03, 1.52088012e-03, 1.15132047e-03,\n",
       "       9.52326804e-04, 1.43559712e-03, 1.74830145e-03, 1.35031413e-03,\n",
       "       1.71987378e-03, 1.15132047e-03, 1.13284248e-02, 4.97484152e-04,\n",
       "       3.55345823e-04, 2.97069108e-03, 1.77672911e-03, 1.03760980e-03,\n",
       "       4.19308071e-03, 1.77672911e-03, 2.88540808e-03, 2.17471643e-03,\n",
       "       1.60616312e-03, 3.96565938e-03, 1.84779828e-04, 8.38616141e-04,\n",
       "       1.57773545e-03, 1.26503113e-03, 2.43056543e-03, 1.40716946e-03,\n",
       "       6.26830031e-03, 2.13207494e-04, 2.43056543e-03, 2.45899309e-03,\n",
       "       2.85698041e-03, 1.29345879e-03, 4.69056486e-04, 2.31685476e-03,\n",
       "       1.60616312e-03, 1.35031413e-03, 8.57094124e-03, 3.08440174e-03,\n",
       "       2.31685476e-03, 2.82855275e-03, 1.97572277e-03, 1.91886744e-03,\n",
       "       1.17974813e-03, 7.81760810e-04, 1.57773545e-03, 1.52088012e-03,\n",
       "       4.97484152e-04, 8.10188475e-04, 3.96565938e-03, 1.00918214e-03,\n",
       "       3.28339540e-03, 4.40628820e-04, 4.12201154e-04, 1.35031413e-03,\n",
       "       1.06603747e-03, 6.04087898e-03, 3.26918157e-04, 4.87534469e-03,\n",
       "       2.60113142e-03, 1.23660346e-03, 4.69056486e-04, 4.69056486e-04,\n",
       "       7.53333144e-04, 2.45899309e-03, 5.54339483e-04, 1.32188646e-03,\n",
       "       7.81760810e-04, 8.10188475e-04, 9.23899139e-04, 3.85194872e-03,\n",
       "       8.67043807e-04, 1.56352162e-04, 1.17974813e-03, 8.67043807e-04,\n",
       "       2.74326975e-03, 3.93723171e-03, 1.54930779e-03, 1.00918214e-03,\n",
       "       7.24905478e-04, 1.80515678e-03, 8.95471473e-04, 4.10779771e-03,\n",
       "       8.38616141e-04, 4.79006169e-03, 5.25911817e-04, 2.20314410e-03,\n",
       "       1.49245245e-03, 1.15132047e-03, 8.95471473e-04, 1.37874179e-03,\n",
       "       9.80754470e-04, 6.11194815e-04, 1.09446513e-03, 2.98490491e-04,\n",
       "       1.57773545e-03, 8.38616141e-04, 1.37874179e-03, 8.95471473e-04,\n",
       "       1.80515678e-03, 2.23157177e-03, 9.23899139e-04, 3.08440174e-03,\n",
       "       8.95471473e-04, 5.54339483e-04, 8.38616141e-04, 4.73320636e-03,\n",
       "       2.17471643e-03, 2.74326975e-03, 2.28842710e-03, 8.67043807e-04,\n",
       "       8.67043807e-04, 4.47735736e-03, 5.82767149e-04, 6.21144498e-03,\n",
       "       8.37194758e-03, 1.40716946e-03, 3.39710606e-03, 9.94968303e-05,\n",
       "       3.83773488e-04, 7.00741962e-03, 8.95471473e-04, 1.32188646e-03,\n",
       "       1.46402479e-03, 1.09446513e-03, 1.94729511e-03, 6.68050146e-04,\n",
       "       7.53333144e-04, 7.53333144e-04, 2.13207494e-04, 7.51911761e-03,\n",
       "       1.66301845e-03, 1.91886744e-03, 5.25911817e-04, 1.63459078e-03,\n",
       "       3.51081673e-03, 7.00741962e-03, 1.09446513e-03, 1.26360975e-02,\n",
       "       1.12289280e-03, 4.05094238e-03, 1.00918214e-03, 2.11786110e-03,\n",
       "       1.40716946e-03, 1.69144612e-03, 4.40628820e-04, 1.12431418e-02,\n",
       "       4.59106803e-03, 1.09446513e-03, 5.18804901e-03, 2.28842710e-03,\n",
       "       3.83773488e-04, 1.56352162e-04, 1.17974813e-03, 9.94968303e-05,\n",
       "       3.48238906e-03, 2.34528243e-03, 8.67043807e-04, 1.91886744e-03,\n",
       "       1.15132047e-03, 2.00415044e-03, 2.06100577e-03, 3.48238906e-03,\n",
       "       2.51584842e-03, 8.10188475e-04, 1.53651534e-02, 1.66301845e-03,\n",
       "       1.20817580e-03, 1.60616312e-03, 4.98905535e-03, 1.06603747e-03,\n",
       "       7.66125593e-03, 7.24905478e-04, 2.98490491e-04, 1.23660346e-03])"
      ]
     },
     "execution_count": 76,
     "metadata": {},
     "output_type": "execute_result"
    }
   ],
   "source": [
    "# Accessing the empirical probabilities of all features (tokens) using the .feature_log_prob_ attribute of MultinomialNB,\n",
    "# and then calculating its exponential using the np.exp() function.\n",
    "\n",
    "neg_class_prob = np.exp(ct_mnb_final.feature_log_prob_)[0]\n",
    "pos_class_prob = np.exp(ct_mnb_final.feature_log_prob_)[1]\n",
    "\n",
    "neg_class_prob"
   ]
  },
  {
   "cell_type": "code",
   "execution_count": 77,
   "metadata": {
    "scrolled": true
   },
   "outputs": [
    {
     "data": {
      "text/plain": [
       "array([307, 234, 233, 118, 268, 145, 306, 212, 219, 220,  97, 443, 479,\n",
       "       272, 477,  64, 176, 397, 275, 183, 303, 346, 265, 235, 454, 110,\n",
       "       353,  82, 224, 228, 231, 419, 498, 382, 266, 148, 273, 277, 336,\n",
       "       243, 139, 444, 476,  37, 378, 131, 121, 216, 136, 159, 470, 172,\n",
       "       300, 377, 264, 386, 387, 358, 179, 132, 310, 288, 195, 267, 262,\n",
       "        75, 372, 209, 335, 168, 178, 221, 260, 240, 410,  60, 458,  53,\n",
       "        92, 205, 390, 253,  52, 429,  41, 161, 311,  86, 438, 171, 316,\n",
       "       242, 185, 105,  43, 417, 298, 279, 294,  50, 321, 280,  19, 451,\n",
       "        32, 149, 170, 115, 181, 297, 404, 154, 497,  89, 137,  55,  69,\n",
       "       453, 388, 452, 299,  22,  20, 102, 369, 289, 392,  29, 271,  65,\n",
       "       135, 249, 189, 489,  87, 373, 103, 214,  68,   1, 393, 295, 421,\n",
       "         6, 430, 142, 155, 274, 241, 347, 320, 408, 246, 435, 482,  14,\n",
       "       436, 227, 199, 399, 396, 125, 318, 146, 314, 406,  79, 414,  62,\n",
       "       423,  58, 124, 187, 186, 446, 157, 428,  99, 394, 426,   4,  95,\n",
       "       140, 328, 282,  46, 416,  84, 319, 150, 315, 375, 466, 108, 164,\n",
       "       403, 141,  59, 111, 202, 339, 293, 322, 208,  78, 495, 301, 190,\n",
       "       380, 153,  88, 217, 473, 162,  98, 449, 462, 104,  54, 418, 464,\n",
       "       413, 204, 112, 327, 484, 333, 313, 283,  31, 398,  49, 368, 478,\n",
       "        15, 255, 492, 317,  91, 259, 385, 499, 226, 206, 169,  39,  34,\n",
       "        33, 323,  48, 349,  25, 225, 109, 256, 173, 200, 357, 245,   5,\n",
       "       251, 192, 391, 254, 447, 222, 361, 120, 331, 117, 379, 325,  18,\n",
       "       415,  74, 422, 351,   0,  73, 468, 441, 329,  26,  51,  83,  90,\n",
       "        24, 198, 229, 448,  42,  96, 412, 134, 122, 326, 244, 371,  77,\n",
       "       292, 402, 348, 420,   2, 370, 257, 344, 493, 360,  12, 304,  61,\n",
       "       459,   9, 456, 491,  47,  57, 284, 210, 469, 193, 197, 194, 247,\n",
       "       332,  27,  76, 106, 330, 203, 248, 338, 341,  72, 424, 405, 236,\n",
       "       223,  85, 138, 119,  10, 147,  40, 483, 457, 367, 450, 290, 123,\n",
       "       366, 191, 261, 127, 485,   7, 165, 286, 129, 486, 237, 188, 230,\n",
       "       467, 182, 232, 184, 143, 239, 166,  93, 343, 432,  23, 218, 411,\n",
       "       152,  36, 425,   3,   8, 207, 434, 475, 364, 359, 481, 175, 350,\n",
       "       158, 354, 133, 355, 101, 389, 107, 130, 488,  35,  17, 384,  66,\n",
       "        28, 312, 400, 433,  45,  13, 160, 365, 356, 309, 342,  38,  44,\n",
       "        80,  71, 337, 285, 126, 114, 363,  56, 427, 196, 281,  67, 144,\n",
       "       296, 376, 116, 250,  63, 442, 276, 308, 215, 480, 487, 460,  30,\n",
       "       395, 167, 401, 374, 345, 269, 465, 407, 340, 258, 437, 472, 213,\n",
       "       263, 431, 156, 409, 383, 180,  21, 494, 270, 474, 100,  94, 291,\n",
       "        81,  70, 201, 302, 381, 439, 352, 128, 305,  11, 461, 445, 455,\n",
       "       496, 440, 362, 324, 211, 238, 151, 278, 163, 174, 177, 471, 334,\n",
       "       463, 287, 490, 252,  16, 113], dtype=int64)"
      ]
     },
     "execution_count": 77,
     "metadata": {},
     "output_type": "execute_result"
    }
   ],
   "source": [
    "# Sorting the indexes of probabilities from above using the np.argsort() function.\n",
    "# np.argsort() returns an array of indexes of probabilities from above sorted in an ascending order (feature with lowest probability first).\n",
    "\n",
    "neg_class_prob_sorted = neg_class_prob.argsort()\n",
    "pos_class_prob_sorted = pos_class_prob.argsort()\n",
    "\n",
    "neg_class_prob_sorted"
   ]
  },
  {
   "cell_type": "code",
   "execution_count": 78,
   "metadata": {},
   "outputs": [
    {
     "data": {
      "text/plain": [
       "array([113,  16, 252, 490, 287, 463, 334, 471, 177, 174, 163, 278, 151,\n",
       "       238, 211, 324, 362, 440, 496, 455, 445, 461,  11, 305, 128, 352,\n",
       "       439, 381, 302, 201], dtype=int64)"
      ]
     },
     "execution_count": 78,
     "metadata": {},
     "output_type": "execute_result"
    }
   ],
   "source": [
    "# Accessing the LAST 30 elements from the neg_class_prob_sorted array above.\n",
    "# As explained above, the numbers in this array below correspond to the indexes of 30 features (tokens) which have the HIGHEST probabilities,\n",
    "# ie., 30 most important features, in the negative class (r/legaladvice).\n",
    "\n",
    "neg_class_prob_sorted[::-1][:30]"
   ]
  },
  {
   "cell_type": "code",
   "execution_count": 79,
   "metadata": {},
   "outputs": [],
   "source": [
    "# Getting the corresponding feature (tokens) from the .get_feature_names() method of TfidfVectorizer.\n",
    "\n",
    "neg_class_top_features = np.take(ctvec_final.get_feature_names(), neg_class_prob_sorted[::-1][:30])\n",
    "pos_class_top_features = np.take(ctvec_final.get_feature_names(), pos_class_prob_sorted[::-1][:30])"
   ]
  },
  {
   "cell_type": "code",
   "execution_count": 80,
   "metadata": {},
   "outputs": [
    {
     "data": {
      "text/plain": [
       "array(['day', 'carb', 'eat', 'weight', 'like', 'get', 'start', 'week',\n",
       "       'diet', 'time', 'go', 'feel', 'lb', 'would', 'fat', 'tri', 'month',\n",
       "       'year', 'want', 'food', 'know', 'work', 'realli', 'much', 'lost',\n",
       "       'help', 'back', 'lose', 'calori', 'fast'], dtype='<U12')"
      ]
     },
     "execution_count": 80,
     "metadata": {},
     "output_type": "execute_result"
    }
   ],
   "source": [
    "# 30 most important features from positive class (r/vegan).\n",
    "\n",
    "pos_class_top_features"
   ]
  },
  {
   "cell_type": "code",
   "execution_count": 81,
   "metadata": {},
   "outputs": [
    {
     "data": {
      "text/plain": [
       "array(['eat', 'anim', 'like', 'would', 'meat', 'vegan', 'peopl', 'want',\n",
       "       'go', 'get', 'food', 'make', 'feel', 'know', 'http', 'one',\n",
       "       'realli', 'think', 'year', 'tri', 'time', 'use', 'also', 'need',\n",
       "       'even', 'product', 'thing', 'say', 'much', 'help'], dtype='<U12')"
      ]
     },
     "execution_count": 81,
     "metadata": {},
     "output_type": "execute_result"
    }
   ],
   "source": [
    "# 30 most important features from positive class (r/keto).\n",
    "\n",
    "neg_class_top_features"
   ]
  },
  {
   "cell_type": "markdown",
   "metadata": {},
   "source": [
    "- Filtering the corresponding probabilities from the probabilities lists defined above to visualize the top features on a graph plot"
   ]
  },
  {
   "cell_type": "code",
   "execution_count": 82,
   "metadata": {},
   "outputs": [],
   "source": [
    "# Getting the corresponding probabilities of top 30 features (tokens) from the neg_class_prob & pos_class_prob arrays defined above.\n",
    "\n",
    "neg_class_top_features_prob = np.take(neg_class_prob, neg_class_prob_sorted[::-1][:30])\n",
    "pos_class_top_features_prob = np.take(pos_class_prob, pos_class_prob_sorted[::-1][:30])"
   ]
  },
  {
   "cell_type": "code",
   "execution_count": 83,
   "metadata": {
    "scrolled": true
   },
   "outputs": [
    {
     "data": {
      "image/png": "[encoded data removed]",
      "text/plain": [
       "<Figure size 1296x864 with 2 Axes>"
      ]
     },
     "metadata": {
      "needs_background": "light"
     },
     "output_type": "display_data"
    }
   ],
   "source": [
    "# Plotting barplots to visualise the most important features (tokens) along with their probabilities.\n",
    "\n",
    "fig, ax = plt.subplots(figsize=(18,12), ncols=2)\n",
    "\n",
    "# Reducing space between the two subplots.\n",
    "plt.subplots_adjust(wspace=0.08)\n",
    "\n",
    "ax = ax.ravel()\n",
    "\n",
    "# Plotting horizontal barplots.\n",
    "sns.barplot(orient='h', y=pos_class_top_features, x=pos_class_top_features_prob, ax=ax[0], color='Green', alpha=0.8)\n",
    "sns.barplot(orient='h', y=neg_class_top_features, x=neg_class_top_features_prob, ax=ax[1], color='Orangered', alpha=0.8)\n",
    "\n",
    "# Setting the x-axis limits to be the same on both subplots.\n",
    "ax[0].set(xlim=(0, round(pos_class_top_features_prob[0]*1.1, 3)))\n",
    "ax[1].set(xlim=(0, round(pos_class_top_features_prob[0]*1.1, 3)))\n",
    "\n",
    "# Inverting the x-axis and moving the y-axis labels to the right for subplot on the right.\n",
    "ax[1].invert_xaxis()\n",
    "ax[1].yaxis.tick_right()\n",
    "\n",
    "# Setting the size of axis ticks.\n",
    "ax[0].tick_params(axis='x', labelsize=12)\n",
    "ax[1].tick_params(axis='x', labelsize=12)\n",
    "ax[0].tick_params(axis='y', labelsize=14.5)\n",
    "ax[1].tick_params(axis='y', labelsize=14.5)\n",
    "\n",
    "\n",
    "ax[0].set_xlabel(\"Importance of features\", fontsize=16)\n",
    "ax[1].set_xlabel(\"Importance of features\", fontsize=16)\n",
    "\n",
    "ax[0].set_title('r/vegan', fontsize=18)\n",
    "ax[1].set_title('r/keto', fontsize=18)\n",
    "\n",
    "fig.suptitle(x=0.5, y=0.95, t=\"Barplots showing 30 most important words from posts from both subreddits\", fontsize=20)\n",
    "\n",
    "# Exporting plot image in PNG format.\n",
    "plt.savefig('../plot_images/barplot_most_important_words.png', bbox_inches='tight');"
   ]
  },
  {
   "cell_type": "code",
   "execution_count": 84,
   "metadata": {
    "scrolled": true
   },
   "outputs": [
    {
     "name": "stdout",
     "output_type": "stream",
     "text": [
      "Summary of final model (MultinomialNB with CountVectorizer):\n",
      "Training set accuracy \t\t\t= 92.4%\n",
      "Estimated test set accuracy (cv=5) \t= 91.5%\n",
      "Actual test set accuracy \t\t= 91.6%\n",
      "Sensitivity (True Positive Rate) \t= 87.2%\n",
      "Specificity (True Negitive Rate) \t= 96.0%\n",
      "ROC AUC \t\t\t\t= 0.978\n",
      "Total Misclassified Posts \t\t= 42 out of 500\n"
     ]
    },
    {
     "data": {
      "text/html": [
       "<div>\n",
       "<style scoped>\n",
       "    .dataframe tbody tr th:only-of-type {\n",
       "        vertical-align: middle;\n",
       "    }\n",
       "\n",
       "    .dataframe tbody tr th {\n",
       "        vertical-align: top;\n",
       "    }\n",
       "\n",
       "    .dataframe thead th {\n",
       "        text-align: right;\n",
       "    }\n",
       "</style>\n",
       "<table border=\"1\" class=\"dataframe\">\n",
       "  <thead>\n",
       "    <tr style=\"text-align: right;\">\n",
       "      <th></th>\n",
       "      <th>Actual vegan</th>\n",
       "      <th>Actual keto</th>\n",
       "    </tr>\n",
       "  </thead>\n",
       "  <tbody>\n",
       "    <tr>\n",
       "      <th>Predicted vegan</th>\n",
       "      <td>218 (True Pos)</td>\n",
       "      <td>10 (False Pos)</td>\n",
       "    </tr>\n",
       "    <tr>\n",
       "      <th>Predicted keto</th>\n",
       "      <td>32 (False Neg)</td>\n",
       "      <td>240 (True Neg)</td>\n",
       "    </tr>\n",
       "  </tbody>\n",
       "</table>\n",
       "</div>"
      ],
      "text/plain": [
       "                   Actual vegan     Actual keto\n",
       "Predicted vegan  218 (True Pos)  10 (False Pos)\n",
       "Predicted keto   32 (False Neg)  240 (True Neg)"
      ]
     },
     "execution_count": 84,
     "metadata": {},
     "output_type": "execute_result"
    }
   ],
   "source": [
    "# Summarizing all above results.\n",
    "\n",
    "print(\"Summary of final model (MultinomialNB with CountVectorizer):\")\n",
    "print(f\"Training set accuracy \\t\\t\\t= {round(ct_mnb_final.score(X_train_ctvec, y_train)*100, 1)}%\")\n",
    "print(f\"Estimated test set accuracy (cv=5) \\t= {round(cross_val_score(ct_mnb_final, X_train_ctvec, y_train, cv=5).mean()*100, 1)}%\")\n",
    "print(f\"Actual test set accuracy \\t\\t= {round(ct_mnb_final.score(X_test_ctvec, y_test)*100, 1)}%\")\n",
    "print(f\"Sensitivity (True Positive Rate) \\t= {round(sensitivity*100, 1)}%\")\n",
    "print(f\"Specificity (True Negitive Rate) \\t= {round(specificity*100, 1)}%\")\n",
    "print(f\"Total Misclassified Posts \\t\\t= {fp+fn} out of 500\")\n",
    "confusion_matrix"
   ]
  },
  {
   "cell_type": "markdown",
   "metadata": {},
   "source": [
    "## Conclusion"
   ]
  },
  {
   "cell_type": "markdown",
   "metadata": {},
   "source": [
    "It was observed from the evaluation metrics that **the *MultinomialNB* model with *CountVectorizer* has a very high classification accuracy on the testing score**. \n",
    "\n",
    "Looking at the *Sensitivity* and *Specificity*, and the numbers of false positives and false negatives, it can be seen that the subreddits vegan and keto are classified properly that only a few posts are mis-classifed. In general, both subreddits have similar posting rate per day and simlar length of per post, but **the subscribers and comments for keto are higher than vegan**, this indicates that more people are interested in keto than vegan as a trend.\n",
    "\n",
    "Also, those who are into vegan diets are confident and have stable views about this whilst there is more curiosity and arguments about keto diets.\n"
   ]
  },
  {
   "cell_type": "markdown",
   "metadata": {},
   "source": [
    "## Recommmendations"
   ]
  },
  {
   "cell_type": "markdown",
   "metadata": {},
   "source": [
    "It would be recommended to review on the misclassified posts keywords prior to postings in vegan forum and to possibly increase the breath of the timeline of the data collected to capture more insights of different subreddits."
   ]
  }
 ],
 "metadata": {
  "kernelspec": {
   "display_name": "Python 3",
   "language": "python",
   "name": "python3"
  },
  "language_info": {
   "codemirror_mode": {
    "name": "ipython",
    "version": 3
   },
   "file_extension": ".py",
   "mimetype": "text/x-python",
   "name": "python",
   "nbconvert_exporter": "python",
   "pygments_lexer": "ipython3",
   "version": "3.8.5"
  }
 },
 "nbformat": 4,
 "nbformat_minor": 4
}
